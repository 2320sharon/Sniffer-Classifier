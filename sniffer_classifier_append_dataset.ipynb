{
 "cells": [
  {
   "cell_type": "code",
   "execution_count": 1,
   "metadata": {},
   "outputs": [],
   "source": [
    "import pandas as pd\n",
    "import numpy as np\n",
    "import csv\n",
    "import os\n",
    "import glob\n",
    "import shutil"
   ]
  },
  {
   "cell_type": "markdown",
   "metadata": {},
   "source": [
    "## Steps\n",
    "1. Remove the old csv files from `csv` using the provided function `move_to_old_csv`\n",
    "2. Place the new csv files into `csv`\n",
    "3. Concatenate all the csv's into a single dataframe `master_df`\n",
    "4. Perform data cleaning on the `master_df`\n",
    "5. Write `master_df` to `master.csv`. This  will overwrite the old version.\n"
   ]
  },
  {
   "cell_type": "code",
   "execution_count": 5,
   "metadata": {},
   "outputs": [],
   "source": [
    "csv_path=os.getcwd() + os.sep+\"csv\"\n",
    "old_csv_path=os.getcwd() + os.sep+\"old_csv\"\n",
    "image_path=os.getcwd() + os.sep+\"images\"\n",
    "column_names=[\"Filename\",\"Sorted\"]\n",
    "# Get master.csv which contains the training dataset \n",
    "master_df=pd.read_csv('master.csv')"
   ]
  },
  {
   "cell_type": "markdown",
   "metadata": {},
   "source": [
    "## Before You Begin Move old csv files out of csv (Optional Step)\n",
    "---\n",
    "- Run this step only if you want to move the old csv files out of `csv`\n",
    "1. Move all the old files out of the folder `csv` and into folder `old_csv`"
   ]
  },
  {
   "cell_type": "code",
   "execution_count": 3,
   "metadata": {},
   "outputs": [],
   "source": [
    "def move_to_old_csv(src,dst):\n",
    "    \"\"\"Moves all the csv files from src to dst\"\"\"\n",
    "    for file in glob.glob1(csv_path+os.sep,\"*csv\"):\n",
    "        print(file)\n",
    "        file_src=os.path.join(src,file)\n",
    "        file_dst=os.path.join(dst,file)\n",
    "        # Overwrites the existing file\n",
    "        shutil.move(file_src,file_dst)\n"
   ]
  },
  {
   "cell_type": "code",
   "execution_count": 4,
   "metadata": {},
   "outputs": [],
   "source": [
    "move_to_old_csv(csv_path,old_csv_path)"
   ]
  },
  {
   "cell_type": "markdown",
   "metadata": {},
   "source": [
    "---"
   ]
  },
  {
   "cell_type": "markdown",
   "metadata": {},
   "source": [
    "## Combine all the CSVs into a single dataframe\n",
    "1. Read in the csv files as dataframes\n",
    "2. Append each dataframe to the master dataframe\n",
    "3. Return the master dataframe"
   ]
  },
  {
   "cell_type": "code",
   "execution_count": 6,
   "metadata": {},
   "outputs": [],
   "source": [
    "def clean_df(df):\n",
    "    \"\"\"Takes in the name of the csv file to clean (ex. 'master.csv') and a list labels to one hot encode.\n",
    "        Returns the modified dataframe.\n",
    "    \"\"\"\n",
    "    if \"index\" in df.columns:\n",
    "        print(\"Dropping column index\")\n",
    "        df.drop(['index'],axis=1,inplace=True)\n",
    "    if \"Index\" in df.columns:\n",
    "        print(\"Dropping column Index\")\n",
    "        df.drop(['Index'],axis=1,inplace=True)\n",
    "    if \"Unnamed: 0\"in df.columns:\n",
    "        print(\"Dropping column Unnamed: 0\")\n",
    "        df.drop(['Unnamed: 0'],axis=1,inplace=True)\n",
    "    if \"Unnamed: 0.1\"in df.columns:\n",
    "        print(\"Dropping column Unnamed: 0.1\")\n",
    "        df.drop(['Unnamed: 0.1'],axis=1,inplace=True)\n",
    "    return df"
   ]
  },
  {
   "cell_type": "code",
   "execution_count": 7,
   "metadata": {},
   "outputs": [],
   "source": [
    "def removed_duplicates(df,image_path:str):\n",
    "    \"\"\"Removes the duplicated filenames from the df as well as delete the duplicated images from the provided path.\n",
    "    Returns the modified dataframe\"\"\"\n",
    "    if True in master_df.duplicated(\"Filename\") :\n",
    "        print(\"list of duplicate filenames:\")\n",
    "        print(master_df[master_df.duplicated(\"Filename\")][\"Filename\"])\n",
    "        # Get names of all the duplicated filenames\n",
    "        duplicates=master_df[master_df.duplicated(\"Filename\",keep=False)][\"Filename\"]\n",
    "        # Drop the duplicated filenames from the master df\n",
    "        master_df.drop_duplicates(subset='Filename',keep=False, inplace = True)\n",
    "        # Delete all the jpgs with duplicate file names\n",
    "        for image in duplicates:\n",
    "            img=image_path+os.sep+image\n",
    "            print(f\"{img} \")\n",
    "            if os.path.exists(img):\n",
    "                print(f\"Removing duplicated {img} \")\n",
    "                os.remove(img) \n",
    "    return master_df "
   ]
  },
  {
   "cell_type": "code",
   "execution_count": 8,
   "metadata": {},
   "outputs": [],
   "source": [
    "def create_master_csv(csv_path):\n",
    "    # Get master.csv which contains the training dataset \n",
    "    master_df=pd.read_csv('master.csv')\n",
    "    # Gather all the data from all the csv's into append_df\n",
    "    append_df=pd.DataFrame()\n",
    "    for file in glob.glob(csv_path+os.sep+\"*csv\"):\n",
    "        df=pd.read_csv(file)\n",
    "        append_df=append_df.append(df,ignore_index = True)\n",
    "    # Append the data from all the csv files to the masterdf\n",
    "    master_df =pd.concat([master_df,append_df],axis=0,ignore_index=True)\n",
    "    return master_df"
   ]
  },
  {
   "cell_type": "code",
   "execution_count": 11,
   "metadata": {},
   "outputs": [
    {
     "name": "stdout",
     "output_type": "stream",
     "text": [
      "Dropping column Index\n",
      "Dropping column Unnamed: 0\n",
      "list of duplicate filenames:\n",
      "Series([], Name: Filename, dtype: object)\n"
     ]
    },
    {
     "data": {
      "text/html": [
       "<div>\n",
       "<style scoped>\n",
       "    .dataframe tbody tr th:only-of-type {\n",
       "        vertical-align: middle;\n",
       "    }\n",
       "\n",
       "    .dataframe tbody tr th {\n",
       "        vertical-align: top;\n",
       "    }\n",
       "\n",
       "    .dataframe thead th {\n",
       "        text-align: right;\n",
       "    }\n",
       "</style>\n",
       "<table border=\"1\" class=\"dataframe\">\n",
       "  <thead>\n",
       "    <tr style=\"text-align: right;\">\n",
       "      <th></th>\n",
       "      <th>Filename</th>\n",
       "      <th>Sorted</th>\n",
       "    </tr>\n",
       "  </thead>\n",
       "  <tbody>\n",
       "    <tr>\n",
       "      <th>0</th>\n",
       "      <td>2000-01-07-18-21-07_L5_rgb.jpg</td>\n",
       "      <td>bad</td>\n",
       "    </tr>\n",
       "    <tr>\n",
       "      <th>1</th>\n",
       "      <td>2000-04-12-18-20-29_L5_rgb.jpg</td>\n",
       "      <td>bad</td>\n",
       "    </tr>\n",
       "    <tr>\n",
       "      <th>2</th>\n",
       "      <td>2000-04-28-18-21-24_L5_rgb.jpg</td>\n",
       "      <td>good</td>\n",
       "    </tr>\n",
       "    <tr>\n",
       "      <th>3</th>\n",
       "      <td>2000-08-02-18-23-18_L5_rgb.jpg</td>\n",
       "      <td>bad</td>\n",
       "    </tr>\n",
       "    <tr>\n",
       "      <th>4</th>\n",
       "      <td>2000-08-18-18-23-46_L5_rgb.jpg</td>\n",
       "      <td>good</td>\n",
       "    </tr>\n",
       "    <tr>\n",
       "      <th>...</th>\n",
       "      <td>...</td>\n",
       "      <td>...</td>\n",
       "    </tr>\n",
       "    <tr>\n",
       "      <th>1511</th>\n",
       "      <td>2018-12-31-16-35-16_S2_ID12022-05-09.jpg</td>\n",
       "      <td>bad</td>\n",
       "    </tr>\n",
       "    <tr>\n",
       "      <th>1512</th>\n",
       "      <td>2018-12-31-16-35-16_S2_ID52022-05-09.jpg</td>\n",
       "      <td>bad</td>\n",
       "    </tr>\n",
       "    <tr>\n",
       "      <th>1513</th>\n",
       "      <td>2018-12-31-16-35-16_S2_ID32022-05-09.jpg</td>\n",
       "      <td>bad</td>\n",
       "    </tr>\n",
       "    <tr>\n",
       "      <th>1514</th>\n",
       "      <td>2018-12-31-16-35-16_S2_ID42022-05-09.jpg</td>\n",
       "      <td>bad</td>\n",
       "    </tr>\n",
       "    <tr>\n",
       "      <th>1515</th>\n",
       "      <td>2018-12-31-16-35-16_S2_ID62022-05-09.jpg</td>\n",
       "      <td>bad</td>\n",
       "    </tr>\n",
       "  </tbody>\n",
       "</table>\n",
       "<p>1516 rows × 2 columns</p>\n",
       "</div>"
      ],
      "text/plain": [
       "                                      Filename Sorted\n",
       "0               2000-01-07-18-21-07_L5_rgb.jpg    bad\n",
       "1               2000-04-12-18-20-29_L5_rgb.jpg    bad\n",
       "2               2000-04-28-18-21-24_L5_rgb.jpg   good\n",
       "3               2000-08-02-18-23-18_L5_rgb.jpg    bad\n",
       "4               2000-08-18-18-23-46_L5_rgb.jpg   good\n",
       "...                                        ...    ...\n",
       "1511  2018-12-31-16-35-16_S2_ID12022-05-09.jpg    bad\n",
       "1512  2018-12-31-16-35-16_S2_ID52022-05-09.jpg    bad\n",
       "1513  2018-12-31-16-35-16_S2_ID32022-05-09.jpg    bad\n",
       "1514  2018-12-31-16-35-16_S2_ID42022-05-09.jpg    bad\n",
       "1515  2018-12-31-16-35-16_S2_ID62022-05-09.jpg    bad\n",
       "\n",
       "[1516 rows x 2 columns]"
      ]
     },
     "execution_count": 11,
     "metadata": {},
     "output_type": "execute_result"
    }
   ],
   "source": [
    "master_df=create_master_csv(csv_path)\n",
    "master_df=clean_df(master_df)\n",
    "master_df=removed_duplicates(master_df,image_path)\n",
    "master_df"
   ]
  },
  {
   "cell_type": "code",
   "execution_count": 12,
   "metadata": {},
   "outputs": [],
   "source": [
    "# Overwrite the old version of master.csv\n",
    "master_df.to_csv(\"master.csv\")"
   ]
  }
 ],
 "metadata": {
  "interpreter": {
   "hash": "8b8ae1edc86552629b4c9d7d73567d118985f86b154082d80ae1b6d4223a5d4e"
  },
  "kernelspec": {
   "display_name": "Python 3.7.11 ('machine_learning')",
   "language": "python",
   "name": "python3"
  },
  "language_info": {
   "codemirror_mode": {
    "name": "ipython",
    "version": 3
   },
   "file_extension": ".py",
   "mimetype": "text/x-python",
   "name": "python",
   "nbconvert_exporter": "python",
   "pygments_lexer": "ipython3",
   "version": "3.7.11"
  },
  "orig_nbformat": 4
 },
 "nbformat": 4,
 "nbformat_minor": 2
}
