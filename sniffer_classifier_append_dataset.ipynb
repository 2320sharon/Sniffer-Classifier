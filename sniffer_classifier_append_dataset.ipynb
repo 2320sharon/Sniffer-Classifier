{
  "cells": [
    {
      "cell_type": "code",
      "execution_count": 1,
      "metadata": {},
      "outputs": [],
      "source": [
        "import pandas as pd\n",
        "import numpy as np\n",
        "import csv\n",
        "import os\n",
        "import glob\n",
        "import shutil"
      ]
    },
    {
      "cell_type": "markdown",
      "metadata": {},
      "source": [
        "## Steps\n",
        "1. Remove the old csv files from `csv` using the provided function `move_to_old_csv`\n",
        "2. Place the new csv files into `csv`\n",
        "3. Concatenate all the csv's into a single dataframe `master_df`\n",
        "4. Perform data cleaning on the `master_df`\n",
        "5. Write `master_df` to `master.csv`. This  will overwrite the old version.\n"
      ]
    },
    {
      "cell_type": "code",
      "execution_count": 2,
      "metadata": {},
      "outputs": [],
      "source": [
        "csv_path=os.getcwd() + os.sep+\"csv\"\n",
        "old_csv_path=os.getcwd() + os.sep+\"old_csv\"\n",
        "image_path=os.getcwd() + os.sep+\"images\"\n",
        "duplicate_path=r\"C:\\1_USGS\\CoastSeg\\repos\\6_sniffer-classifer\\duplicates2\"\n",
        "column_names=[\"Filename\",\"Sorted\"]\n",
        "# Get master.csv which contains the training dataset \n",
        "# master_df=pd.read_csv('master.csv')"
      ]
    },
    {
      "cell_type": "markdown",
      "metadata": {},
      "source": [
        "## Before You Begin Move old csv files out of csv (Optional Step)\n",
        "---\n",
        "- Run this step only if you want to move the old csv files out of `csv`\n",
        "1. Move all the old files out of the folder `csv` and into folder `old_csv`"
      ]
    },
    {
      "cell_type": "code",
      "execution_count": 3,
      "metadata": {},
      "outputs": [],
      "source": [
        "def move_to_old_csv(src,dst):\n",
        "    \"\"\"Moves all the csv files from src to dst\"\"\"\n",
        "    for file in glob.glob1(csv_path+os.sep,\"*csv\"):\n",
        "        print(file)\n",
        "        file_src=os.path.join(src,file)\n",
        "        file_dst=os.path.join(dst,file)\n",
        "        # Overwrites the existing file\n",
        "        shutil.move(file_src,file_dst)\n"
      ]
    },
    {
      "cell_type": "code",
      "execution_count": 5,
      "metadata": {},
      "outputs": [],
      "source": [
        "# move_to_old_csv(csv_path,old_csv_path)"
      ]
    },
    {
      "cell_type": "markdown",
      "metadata": {},
      "source": [
        "---"
      ]
    },
    {
      "cell_type": "markdown",
      "metadata": {},
      "source": [
        "## Combine all the CSVs into a single dataframe\n",
        "1. Read in the csv files as dataframes\n",
        "2. Append each dataframe to the master dataframe\n",
        "3. Return the master dataframe"
      ]
    },
    {
      "cell_type": "code",
      "execution_count": 6,
      "metadata": {},
      "outputs": [],
      "source": [
        "def clean_df(df):\n",
        "    \"\"\"Takes in the name of the csv file to clean (ex. 'master.csv') and a list labels to one hot encode.\n",
        "        Returns the modified dataframe.\n",
        "    \"\"\"\n",
        "    if \"index\" in df.columns:\n",
        "        print(\"Dropping column index\")\n",
        "        df.drop(['index'],axis=1,inplace=True)\n",
        "    if \"Index\" in df.columns:\n",
        "        print(\"Dropping column Index\")\n",
        "        df.drop(['Index'],axis=1,inplace=True)\n",
        "    if \"Unnamed: 0\"in df.columns:\n",
        "        print(\"Dropping column Unnamed: 0\")\n",
        "        df.drop(['Unnamed: 0'],axis=1,inplace=True)\n",
        "    if \"Unnamed: 0.1\"in df.columns:\n",
        "        print(\"Dropping column Unnamed: 0.1\")\n",
        "        df.drop(['Unnamed: 0.1'],axis=1,inplace=True)\n",
        "    return df"
      ]
    },
    {
      "cell_type": "code",
      "execution_count": 7,
      "metadata": {},
      "outputs": [],
      "source": [
        "def remove_duplicates(df,image_path:str):\n",
        "    \"\"\"Returns a df with removed rows with duplicate Filenames with mismatching \"Sorted\" values \"\"\"\n",
        "    if True in df.duplicated(\"Filename\") :\n",
        "        # Get names of all the duplicated filenames\n",
        "        duplicates=df[df.duplicated(\"Filename\",keep=False)][\"Filename\"]\n",
        "        unequal_duplicates = [x for x in duplicates if len(set(df[df[\"Filename\"] == x][\"Sorted\"])) > 1]\n",
        "        # Keep rows with matching \"Sorted\" values\n",
        "        mask = np.logical_not(df[\"Filename\"].isin(unequal_duplicates))\n",
        "        # Drop duplicated \"Filename\" rows with matching \"Sorted\" but keep the first occurrence\n",
        "        new_df=df[mask].drop_duplicates(subset=[\"Filename\"], keep='first')\n",
        "        print(new_df)\n",
        "    return new_df"
      ]
    },
    {
      "cell_type": "code",
      "execution_count": 8,
      "metadata": {},
      "outputs": [],
      "source": [
        "def get_unequal_duplicates(df,image_path:str, duplicate_path:str):\n",
        "    \"\"\"Identifies the duplicated filenames from the df as well as moves the duplicated images from the provided path to the duplicate_path.\n",
        "    Returns the a dataframe containing the duplicated images\"\"\"\n",
        "    if True in df.duplicated(\"Filename\") :\n",
        "        # Get names of all the duplicated filenames\n",
        "        duplicates=df[df.duplicated(\"Filename\",keep=False)][\"Filename\"]\n",
        "        unequal_duplicates = [x for x in duplicates if len(set(df[df[\"Filename\"] == x][\"Sorted\"])) > 1]\n",
        "        # Moves all the jpgs with duplicate file names and mismatching \"Sorted\" to the duplicate_path\n",
        "        for image in set(unequal_duplicates):\n",
        "            img=image_path+os.sep+image\n",
        "            if os.path.exists(img):\n",
        "                print(f\"Moving duplicated {img} \")\n",
        "                shutil.move(img, duplicate_path)\n",
        "    return unequal_duplicates"
      ]
    },
    {
      "cell_type": "code",
      "execution_count": 9,
      "metadata": {},
      "outputs": [],
      "source": [
        "def binary_encode_labels(df:'pandas.core.frame.DataFrame',labels=[\"bad\",\"good\"]):\n",
        "    \"\"\" Returns the modified dataframe with the labels encoded as binary labels of 0 and 1\"\"\"\n",
        "    mapping = {}\n",
        "    df[\"Filename\"]=df[\"Filename\"].astype(str)\n",
        "    df[\"Sorted\"]=df[\"Sorted\"].astype(str)\n",
        "    if df[\"Sorted\"].str.contains('|'.join( [\"good\",\"bad\"])).any():\n",
        "        for x in range(len(labels)):\n",
        "            mapping[labels[x]] = x\n",
        "        # outputs {'bad': 0, 'good': 1}\n",
        "        # Replace each label in sorted with corresponding one hot encoded label\n",
        "        for x in range(len(df['Sorted'])):\n",
        "            df['Sorted'][x] = mapping[df['Sorted'][x]]\n",
        "        df[\"Sorted\"]=df[\"Sorted\"].astype(str)\n",
        "    return df"
      ]
    },
    {
      "cell_type": "code",
      "execution_count": 10,
      "metadata": {},
      "outputs": [],
      "source": [
        "def create_master_csv(csv_path,create_master_csv=False):\n",
        "    # Get master.csv which contains the training dataset \n",
        "    if create_master_csv:\n",
        "        master_df=pd.DataFrame(columns=[\"Filename\",\"Sorted\"])\n",
        "    else:\n",
        "        master_df=pd.read_csv('transfer_master.csv')\n",
        "    # Gather all the data from all the csv's into append_df\n",
        "    append_df=pd.DataFrame()\n",
        "    if os.path.exists(csv_path):\n",
        "        for file in glob.glob(csv_path+os.sep+\"*csv\"):\n",
        "            df=pd.read_csv(file)\n",
        "            # append_df=append_df.append(df,ignore_index = True)\n",
        "            append_df=pd.concat([append_df,df],axis=0,ignore_index=True)\n",
        "        # Append the data from all the csv files to the masterdf\n",
        "        master_df =pd.concat([master_df,append_df],axis=0,ignore_index=True)\n",
        "    return master_df"
      ]
    },
    {
      "cell_type": "code",
      "execution_count": 11,
      "metadata": {},
      "outputs": [
        {
          "name": "stdout",
          "output_type": "stream",
          "text": [
            "Dropping column Unnamed: 0\n",
            "Moving duplicated c:\\1_USGS\\CoastSeg\\repos\\6_sniffer-classifer\\Sniffer-Classifier\\images\\2017-11-21-18-46-17_L8_rgb_img.jpg \n",
            "['2017-11-21-18-46-17_L8_rgb_img.jpg', '2017-11-21-18-46-17_L8_rgb_img.jpg']\n"
          ]
        },
        {
          "data": {
            "text/html": [
              "<div>\n",
              "<style scoped>\n",
              "    .dataframe tbody tr th:only-of-type {\n",
              "        vertical-align: middle;\n",
              "    }\n",
              "\n",
              "    .dataframe tbody tr th {\n",
              "        vertical-align: top;\n",
              "    }\n",
              "\n",
              "    .dataframe thead th {\n",
              "        text-align: right;\n",
              "    }\n",
              "</style>\n",
              "<table border=\"1\" class=\"dataframe\">\n",
              "  <thead>\n",
              "    <tr style=\"text-align: right;\">\n",
              "      <th></th>\n",
              "      <th>Filename</th>\n",
              "      <th>Sorted</th>\n",
              "    </tr>\n",
              "  </thead>\n",
              "  <tbody>\n",
              "    <tr>\n",
              "      <th>0</th>\n",
              "      <td>2016-10-15-15-41-47_L8_rgb.jpg</td>\n",
              "      <td>good</td>\n",
              "    </tr>\n",
              "    <tr>\n",
              "      <th>1</th>\n",
              "      <td>2016-10-17-18-46-24_L8_rgb.jpg</td>\n",
              "      <td>good</td>\n",
              "    </tr>\n",
              "    <tr>\n",
              "      <th>2</th>\n",
              "      <td>2016-10-22-18-54-48_S2.jpg</td>\n",
              "      <td>good</td>\n",
              "    </tr>\n",
              "    <tr>\n",
              "      <th>3</th>\n",
              "      <td>2016-11-01-19-03-46_S2.jpg</td>\n",
              "      <td>good</td>\n",
              "    </tr>\n",
              "    <tr>\n",
              "      <th>4</th>\n",
              "      <td>2016-11-02-18-46-25_L8_rgb.jpg</td>\n",
              "      <td>good</td>\n",
              "    </tr>\n",
              "    <tr>\n",
              "      <th>...</th>\n",
              "      <td>...</td>\n",
              "      <td>...</td>\n",
              "    </tr>\n",
              "    <tr>\n",
              "      <th>2012</th>\n",
              "      <td>2017-11-12-18-52-31_L8_rgb.jpg</td>\n",
              "      <td>bad</td>\n",
              "    </tr>\n",
              "    <tr>\n",
              "      <th>2013</th>\n",
              "      <td>2017-11-20-15-37-50_L7_rgb.jpg</td>\n",
              "      <td>good</td>\n",
              "    </tr>\n",
              "    <tr>\n",
              "      <th>2014</th>\n",
              "      <td>2017-11-21-18-46-17_L8_rgb_img.jpg</td>\n",
              "      <td>bad</td>\n",
              "    </tr>\n",
              "    <tr>\n",
              "      <th>2015</th>\n",
              "      <td>2017-11-28-18-52-24_L8_rgb.jpg</td>\n",
              "      <td>good</td>\n",
              "    </tr>\n",
              "    <tr>\n",
              "      <th>2016</th>\n",
              "      <td>2017-12-07-18-46-13_L8_rgb.jpg</td>\n",
              "      <td>good</td>\n",
              "    </tr>\n",
              "  </tbody>\n",
              "</table>\n",
              "<p>2017 rows × 2 columns</p>\n",
              "</div>"
            ],
            "text/plain": [
              "                                Filename Sorted\n",
              "0         2016-10-15-15-41-47_L8_rgb.jpg   good\n",
              "1         2016-10-17-18-46-24_L8_rgb.jpg   good\n",
              "2             2016-10-22-18-54-48_S2.jpg   good\n",
              "3             2016-11-01-19-03-46_S2.jpg   good\n",
              "4         2016-11-02-18-46-25_L8_rgb.jpg   good\n",
              "...                                  ...    ...\n",
              "2012      2017-11-12-18-52-31_L8_rgb.jpg    bad\n",
              "2013      2017-11-20-15-37-50_L7_rgb.jpg   good\n",
              "2014  2017-11-21-18-46-17_L8_rgb_img.jpg    bad\n",
              "2015      2017-11-28-18-52-24_L8_rgb.jpg   good\n",
              "2016      2017-12-07-18-46-13_L8_rgb.jpg   good\n",
              "\n",
              "[2017 rows x 2 columns]"
            ]
          },
          "execution_count": 11,
          "metadata": {},
          "output_type": "execute_result"
        }
      ],
      "source": [
        "master_df=create_master_csv(csv_path,create_master_csv=True)\n",
        "master_df=clean_df(master_df)\n",
        "duplicates=get_unequal_duplicates(master_df,image_path, duplicate_path)\n",
        "print(duplicates)\n",
        "master_df"
      ]
    },
    {
      "cell_type": "code",
      "execution_count": 12,
      "metadata": {},
      "outputs": [
        {
          "name": "stdout",
          "output_type": "stream",
          "text": [
            "                            Filename Sorted\n",
            "0     2016-10-15-15-41-47_L8_rgb.jpg   good\n",
            "1     2016-10-17-18-46-24_L8_rgb.jpg   good\n",
            "2         2016-10-22-18-54-48_S2.jpg   good\n",
            "3         2016-11-01-19-03-46_S2.jpg   good\n",
            "4     2016-11-02-18-46-25_L8_rgb.jpg   good\n",
            "...                              ...    ...\n",
            "1960  2016-09-22-18-52-29_L8_rgb.jpg   good\n",
            "1961      2016-09-22-19-03-44_S2.jpg   good\n",
            "1962  2016-10-01-18-46-19_L8_rgb.jpg   good\n",
            "1963      2016-10-02-19-02-32_S2.jpg   good\n",
            "1964  2016-10-08-18-52-33_L8_rgb.jpg   good\n",
            "\n",
            "[1964 rows x 2 columns]\n"
          ]
        },
        {
          "data": {
            "text/html": [
              "<div>\n",
              "<style scoped>\n",
              "    .dataframe tbody tr th:only-of-type {\n",
              "        vertical-align: middle;\n",
              "    }\n",
              "\n",
              "    .dataframe tbody tr th {\n",
              "        vertical-align: top;\n",
              "    }\n",
              "\n",
              "    .dataframe thead th {\n",
              "        text-align: right;\n",
              "    }\n",
              "</style>\n",
              "<table border=\"1\" class=\"dataframe\">\n",
              "  <thead>\n",
              "    <tr style=\"text-align: right;\">\n",
              "      <th></th>\n",
              "      <th>Filename</th>\n",
              "      <th>Sorted</th>\n",
              "    </tr>\n",
              "  </thead>\n",
              "  <tbody>\n",
              "    <tr>\n",
              "      <th>0</th>\n",
              "      <td>2016-10-15-15-41-47_L8_rgb.jpg</td>\n",
              "      <td>good</td>\n",
              "    </tr>\n",
              "    <tr>\n",
              "      <th>1</th>\n",
              "      <td>2016-10-17-18-46-24_L8_rgb.jpg</td>\n",
              "      <td>good</td>\n",
              "    </tr>\n",
              "    <tr>\n",
              "      <th>2</th>\n",
              "      <td>2016-10-22-18-54-48_S2.jpg</td>\n",
              "      <td>good</td>\n",
              "    </tr>\n",
              "    <tr>\n",
              "      <th>3</th>\n",
              "      <td>2016-11-01-19-03-46_S2.jpg</td>\n",
              "      <td>good</td>\n",
              "    </tr>\n",
              "    <tr>\n",
              "      <th>4</th>\n",
              "      <td>2016-11-02-18-46-25_L8_rgb.jpg</td>\n",
              "      <td>good</td>\n",
              "    </tr>\n",
              "    <tr>\n",
              "      <th>...</th>\n",
              "      <td>...</td>\n",
              "      <td>...</td>\n",
              "    </tr>\n",
              "    <tr>\n",
              "      <th>1960</th>\n",
              "      <td>2016-09-22-18-52-29_L8_rgb.jpg</td>\n",
              "      <td>good</td>\n",
              "    </tr>\n",
              "    <tr>\n",
              "      <th>1961</th>\n",
              "      <td>2016-09-22-19-03-44_S2.jpg</td>\n",
              "      <td>good</td>\n",
              "    </tr>\n",
              "    <tr>\n",
              "      <th>1962</th>\n",
              "      <td>2016-10-01-18-46-19_L8_rgb.jpg</td>\n",
              "      <td>good</td>\n",
              "    </tr>\n",
              "    <tr>\n",
              "      <th>1963</th>\n",
              "      <td>2016-10-02-19-02-32_S2.jpg</td>\n",
              "      <td>good</td>\n",
              "    </tr>\n",
              "    <tr>\n",
              "      <th>1964</th>\n",
              "      <td>2016-10-08-18-52-33_L8_rgb.jpg</td>\n",
              "      <td>good</td>\n",
              "    </tr>\n",
              "  </tbody>\n",
              "</table>\n",
              "<p>1964 rows × 2 columns</p>\n",
              "</div>"
            ],
            "text/plain": [
              "                            Filename Sorted\n",
              "0     2016-10-15-15-41-47_L8_rgb.jpg   good\n",
              "1     2016-10-17-18-46-24_L8_rgb.jpg   good\n",
              "2         2016-10-22-18-54-48_S2.jpg   good\n",
              "3         2016-11-01-19-03-46_S2.jpg   good\n",
              "4     2016-11-02-18-46-25_L8_rgb.jpg   good\n",
              "...                              ...    ...\n",
              "1960  2016-09-22-18-52-29_L8_rgb.jpg   good\n",
              "1961      2016-09-22-19-03-44_S2.jpg   good\n",
              "1962  2016-10-01-18-46-19_L8_rgb.jpg   good\n",
              "1963      2016-10-02-19-02-32_S2.jpg   good\n",
              "1964  2016-10-08-18-52-33_L8_rgb.jpg   good\n",
              "\n",
              "[1964 rows x 2 columns]"
            ]
          },
          "execution_count": 12,
          "metadata": {},
          "output_type": "execute_result"
        }
      ],
      "source": [
        "master_df=remove_duplicates(master_df,image_path)\n",
        "master_df"
      ]
    },
    {
      "cell_type": "code",
      "execution_count": 13,
      "metadata": {},
      "outputs": [],
      "source": [
        "# Overwrite the old version of master.csv\n",
        "master_df.to_csv(\"new_master.csv\",index=False)"
      ]
    },
    {
      "cell_type": "markdown",
      "metadata": {},
      "source": [
        "## Modify Existing Records in Master CSV\n",
        "---\n",
        "\n",
        "The following functions are for the senario where you need to modify an existing dataframe by replacing old rows with new rows."
      ]
    },
    {
      "cell_type": "code",
      "execution_count": null,
      "metadata": {},
      "outputs": [],
      "source": [
        "# old csv is the csv file with the sorted column you want to modify\n",
        "old_csv=\"test_dataset.csv\"\n",
        "# new csv is the csv file with the sorted column you want to want to replace old_csv with\n",
        "new_csv=\"mod_test_dataset.csv\"\n",
        "# This is the name of csv file that the new dataframe will be saved to\n",
        "new_csv_file_name=\"test_dataset.csv\"\n",
        "df=pd.read_csv(old_csv)\n",
        "records=pd.read_csv(new_csv)"
      ]
    },
    {
      "cell_type": "code",
      "execution_count": null,
      "metadata": {},
      "outputs": [],
      "source": [
        "# What happens there are not matching enteries in the left dataframe\n",
        "def modify_df(df:\"pandas.core.frame.DataFrame\",new_df:\"pandas.core.frame.DataFrame\"):\n",
        "    \"\"\"Returns a new dataframe with the sorted column values replaced by new_df's sorted values\n",
        "\n",
        "    Args:\n",
        "        df (pandas.core.frame.DataFrame): dataframe to have its sort values changed\n",
        "        new_df (pandas.core.frame.DataFrame):  dataframe with the correct sort values\n",
        "\n",
        "    Returns:\n",
        "        pandas.core.frame.DataFrame: new dataframe containing the sort values in new_df\n",
        "    \"\"\"\n",
        "    # Replace the rows df with the sort values in new_df.\n",
        "    new_df=df.merge(new_df,on=\"Filename\")\n",
        "    if \"index\" in new_df.columns:\n",
        "        print(\"Dropping column index\")\n",
        "        new_df.drop(['index'],axis=1,inplace=True)\n",
        "    if \"Index\" in new_df.columns:\n",
        "        print(\"Dropping column Index\")\n",
        "        new_df.drop(['Index'],axis=1,inplace=True)\n",
        "    if \"Unnamed: 0\"in new_df.columns:\n",
        "        print(\"Dropping column Unnamed: 0\")\n",
        "        new_df.drop(['Unnamed: 0'],axis=1,inplace=True)\n",
        "    # Merge the sorted_x and sorted_y column into the sorted column. Sorted_y will overwrite sorted_x values\n",
        "    new_df['Sorted']=new_df.loc[new_df['Sorted_y'].isnull(),'Sorted_y'] = new_df['Sorted_x']\n",
        "    new_df.drop(['Sorted_y','Sorted_x'],axis=1,inplace=True)\n",
        "    return new_df\n"
      ]
    },
    {
      "cell_type": "code",
      "execution_count": null,
      "metadata": {},
      "outputs": [],
      "source": [
        "new_df=modify_df(df,records)\n",
        "new_df.to_csv(new_csv_file_name,index=False)\n",
        "new_df"
      ]
    },
    {
      "cell_type": "markdown",
      "metadata": {},
      "source": [
        "## Add the Filenames of all images in a folder to a csv"
      ]
    },
    {
      "cell_type": "code",
      "execution_count": null,
      "metadata": {},
      "outputs": [],
      "source": [
        "def create_csv_from_folder(folder_path:str,name:str,sort_type:str):\n",
        "    \"\"\"create_csv_from_folder creates a csv file with the provided name with filenames\n",
        "    of the images in location specified by folder_path\n",
        "    \n",
        "    Args:\n",
        "        folder_path (str): path to the location of the folder containing the images\n",
        "        name (str): name of the csv file to create\n",
        "    Returns:\n",
        "        pandas.core.frame.DataFrame: new dataframe containing the sort values in new_df\n",
        "    \"\"\"\n",
        "    df=pd.DataFrame(columns=[\"Filename\",\"Sorted\"])\n",
        "    filenames=glob.glob1(folder_path,\"*.jpg\")\n",
        "    df[\"Filename\"]=filenames\n",
        "    df[\"Sort\"]=sort_type\n",
        "    df.to_csv(name)\n",
        "    print(f\"Saved data to csv file {name}\")\n",
        "    "
      ]
    },
    {
      "cell_type": "code",
      "execution_count": null,
      "metadata": {},
      "outputs": [],
      "source": [
        "folder_path=r\"C:\\Users\\Sharon\\Downloads\\hatteras_bad\"\n",
        "csv_name=\"hatteras_bad.csv\"\n",
        "sort_type=\"bad\"\n",
        "create_csv_from_folder(folder_path,csv_name,sort_type)"
      ]
    }
  ],
  "metadata": {
    "interpreter": {
      "hash": "b602628b865f811f43fa06264a269a791e1feecb6be5cdade55e5944221b6f7a"
    },
    "kernelspec": {
      "display_name": "Python 3.7.11 ('ml_learning')",
      "language": "python",
      "name": "python3"
    },
    "language_info": {
      "codemirror_mode": {
        "name": "ipython",
        "version": 3
      },
      "file_extension": ".py",
      "mimetype": "text/x-python",
      "name": "python",
      "nbconvert_exporter": "python",
      "pygments_lexer": "ipython3",
      "version": "3.7.11"
    },
    "orig_nbformat": 4
  },
  "nbformat": 4,
  "nbformat_minor": 2
}
