{
 "cells": [
  {
   "cell_type": "markdown",
   "metadata": {},
   "source": [
    "# Sniffer Classifer Predictor\n",
    "Use this notebook to run predictions with the sniffer classifier"
   ]
  },
  {
   "cell_type": "code",
   "execution_count": 57,
   "metadata": {},
   "outputs": [],
   "source": [
    "import os\n",
    "import glob\n",
    "import pandas as pd\n",
    "import numpy as np\n",
    "from PIL import Image\n",
    "import matplotlib.pyplot as plt\n",
    "\n",
    "import tensorflow as tf\n",
    "from tensorflow import keras\n",
    "\n",
    "from sklearn.metrics import confusion_matrix\n",
    "import seaborn as sns"
   ]
  },
  {
   "cell_type": "markdown",
   "metadata": {},
   "source": [
    "## Load the model"
   ]
  },
  {
   "cell_type": "code",
   "execution_count": 19,
   "metadata": {},
   "outputs": [],
   "source": [
    "model_name=\"model_100_x_100\"\n",
    "model_path=os.getcwd()+ os.sep+\"models\"+os.sep+model_name"
   ]
  },
  {
   "cell_type": "code",
   "execution_count": 20,
   "metadata": {},
   "outputs": [
    {
     "name": "stdout",
     "output_type": "stream",
     "text": [
      "Model: \"sequential\"\n",
      "_________________________________________________________________\n",
      " Layer (type)                Output Shape              Param #   \n",
      "=================================================================\n",
      " conv2d (Conv2D)             (None, 98, 98, 32)        896       \n",
      "                                                                 \n",
      " max_pooling2d (MaxPooling2D  (None, 49, 49, 32)       0         \n",
      " )                                                               \n",
      "                                                                 \n",
      " conv2d_1 (Conv2D)           (None, 47, 47, 32)        9248      \n",
      "                                                                 \n",
      " max_pooling2d_1 (MaxPooling  (None, 23, 23, 32)       0         \n",
      " 2D)                                                             \n",
      "                                                                 \n",
      " conv2d_2 (Conv2D)           (None, 21, 21, 32)        9248      \n",
      "                                                                 \n",
      " max_pooling2d_2 (MaxPooling  (None, 10, 10, 32)       0         \n",
      " 2D)                                                             \n",
      "                                                                 \n",
      " dropout (Dropout)           (None, 10, 10, 32)        0         \n",
      "                                                                 \n",
      " flatten (Flatten)           (None, 3200)              0         \n",
      "                                                                 \n",
      " dense (Dense)               (None, 16)                51216     \n",
      "                                                                 \n",
      " dense_1 (Dense)             (None, 2)                 34        \n",
      "                                                                 \n",
      "=================================================================\n",
      "Total params: 70,642\n",
      "Trainable params: 70,642\n",
      "Non-trainable params: 0\n",
      "_________________________________________________________________\n"
     ]
    }
   ],
   "source": [
    "model = tf.keras.models.load_model(model_path+os.sep+\"model\")\n",
    "model.summary()"
   ]
  },
  {
   "cell_type": "markdown",
   "metadata": {},
   "source": [
    "## Local Variables\n",
    "Use these variables to change the prediction parameters for your CNN.\n",
    "- `dataset_path`: directory containing the unzipped imagery\n",
    "- `img_shape` : shape (width , height) your imagery will be resized to. These are inputs into the model. This must be the same size as the size you trained your model on."
   ]
  },
  {
   "cell_type": "code",
   "execution_count": 43,
   "metadata": {},
   "outputs": [],
   "source": [
    "dataset_path=os.getcwd()+os.sep+\"test_images\"\n",
    "csv_name=\"mapped_test_dataset.csv\"\n",
    "csv_path=os.getcwd()+os.sep+csv_name\n",
    "img_shape=(100, 100)"
   ]
  },
  {
   "cell_type": "code",
   "execution_count": 12,
   "metadata": {},
   "outputs": [],
   "source": [
    "def pre_process_img(image,img_shape:tuple)->list:\n",
    "    \"\"\"returns np.array resized to (1,img_shape,3)\"\"\"\n",
    "    img=image.resize(img_shape,Image.ANTIALIAS)\n",
    "    imgArray = np.asarray(img)\n",
    "    imgArray=imgArray.reshape((1,)+img_shape+(3,))# Create batch axis\n",
    "    return imgArray"
   ]
  },
  {
   "cell_type": "code",
   "execution_count": 15,
   "metadata": {},
   "outputs": [],
   "source": [
    "def one_encode_labels(df:'pandas.core.frame.DataFrame',labels=[\"good\",\"bad\"]):\n",
    "    \"\"\" Returns the modified dataframe with the labels one hot encoded\"\"\"\n",
    "    mapping = {}\n",
    "    for x in range(len(labels)):\n",
    "        mapping[labels[x]] = x\n",
    "    # outputs {'good': 0, 'bad': 1}\n",
    "    # Replace each label in sorted with corresponding one hot encoded label\n",
    "    for x in range(len(df['Sorted'])):\n",
    "        df['Sorted'][x] = mapping[df['Sorted'][x]]\n",
    "    return df"
   ]
  },
  {
   "cell_type": "code",
   "execution_count": 53,
   "metadata": {},
   "outputs": [],
   "source": [
    "def read_labeled_df(csv_path:str):\n",
    "    \"\"\"Returns a cleaned dataframe with the labels one hot encoded\n",
    "    Use this function when you have a dataframe with correct labels\n",
    "    you want to compare the model against\n",
    "    \"\"\"\n",
    "    # Read in the labeled_df that the model has never seen before\n",
    "    df=pd.read_csv(csv_path)\n",
    "    if \"index\" in df.columns:\n",
    "        print(\"Dropping column index\")\n",
    "        df.drop(['index'],axis=1,inplace=True)\n",
    "    if \"Unnamed: 0\"in df.columns:\n",
    "        print(\"Dropping column Unnamed: 0\")\n",
    "        df.drop(['Unnamed: 0'],axis=1,inplace=True)\n",
    "    # one hot encode the labels in the \"sorted\" if they aren't already\n",
    "    if df['Sorted'].dtypes !='int64':\n",
    "        df=one_encode_labels(df)\n",
    "    return df"
   ]
  },
  {
   "cell_type": "code",
   "execution_count": 29,
   "metadata": {},
   "outputs": [],
   "source": [
    "def create_prediction_ready_data(dataset_path:str,img_shape:tuple):\n",
    "    \"\"\"returns a numpy array of the shape (number_images,img_shape,3)\"\"\"\n",
    "    images=[]\n",
    "    for image in os.listdir(dataset_path):\n",
    "        img=Image.open(dataset_path+os.sep+image)\n",
    "        img_array=pre_process_img(img,img_shape)\n",
    "        images.append(img_array)\n",
    "    data=np.vstack(images)\n",
    "    return data"
   ]
  },
  {
   "cell_type": "code",
   "execution_count": 39,
   "metadata": {},
   "outputs": [],
   "source": [
    "def get_predictions(data:np.array):\n",
    "    \"\"\"Returns a numpy array of the predicted labels\"\"\"\n",
    "    predictions=model.predict(data)\n",
    "    prediction_labels=[pred.flatten().argmax(axis=0) for pred in predictions]\n",
    "    # Converted to float....\n",
    "    # prediction_labels=np.array(prediction_labels,dtype='uint8')\n",
    "    prediction_labels=np.array(prediction_labels,dtype='float')\n",
    "    print(type(prediction_labels))\n",
    "    return prediction_labels\n"
   ]
  },
  {
   "cell_type": "code",
   "execution_count": 30,
   "metadata": {},
   "outputs": [],
   "source": [
    "data=create_prediction_ready_data(dataset_path,img_shape)"
   ]
  },
  {
   "cell_type": "code",
   "execution_count": 40,
   "metadata": {},
   "outputs": [
    {
     "name": "stdout",
     "output_type": "stream",
     "text": [
      "<class 'numpy.ndarray'>\n"
     ]
    },
    {
     "data": {
      "text/plain": [
       "(179,)"
      ]
     },
     "execution_count": 40,
     "metadata": {},
     "output_type": "execute_result"
    }
   ],
   "source": [
    "prediction_labels=get_predictions(data)\n",
    "prediction_labels.shape"
   ]
  },
  {
   "cell_type": "code",
   "execution_count": 42,
   "metadata": {},
   "outputs": [
    {
     "data": {
      "text/plain": [
       "array([0., 0., 0., 1., 0., 1., 0., 0., 0., 0., 1., 1., 0., 0., 0., 0., 0.,\n",
       "       0., 1., 1., 0., 0., 0., 0., 0., 0., 0., 0., 0., 0., 0., 0., 1., 0.,\n",
       "       0., 0., 0., 1., 1., 1., 0., 0., 0., 1., 0., 0., 0., 1., 0., 1.])"
      ]
     },
     "execution_count": 42,
     "metadata": {},
     "output_type": "execute_result"
    }
   ],
   "source": [
    "prediction_labels[:50]"
   ]
  },
  {
   "cell_type": "markdown",
   "metadata": {},
   "source": [
    "## Create a Confusion Matrix"
   ]
  },
  {
   "cell_type": "code",
   "execution_count": 55,
   "metadata": {},
   "outputs": [
    {
     "name": "stdout",
     "output_type": "stream",
     "text": [
      "Dropping column Unnamed: 0\n"
     ]
    }
   ],
   "source": [
    "# Read the correct labels from the dataframe\n",
    "df=read_labeled_df(csv_path)\n",
    "labels=df[\"Sorted\"]"
   ]
  },
  {
   "cell_type": "code",
   "execution_count": 59,
   "metadata": {},
   "outputs": [
    {
     "name": "stdout",
     "output_type": "stream",
     "text": [
      "[[110   0]\n",
      " [ 13  56]]\n"
     ]
    },
    {
     "data": {
      "text/plain": [
       "Text(0.5, 24.0, 'Predicted')"
      ]
     },
     "execution_count": 59,
     "metadata": {},
     "output_type": "execute_result"
    },
    {
     "data": {
      "image/png": "[encoded data removed]",
      "text/plain": [
       "<Figure size 360x360 with 2 Axes>"
      ]
     },
     "metadata": {
      "needs_background": "light"
     },
     "output_type": "display_data"
    }
   ],
   "source": [
    "cm=confusion_matrix(labels,prediction_labels)\n",
    "print(cm)\n",
    "plt.figure(figsize=(5,5))\n",
    "sns.heatmap(cm,annot=True,fmt='g')\n",
    "plt.title(\"Confusion Matrix\")\n",
    "plt.ylabel(\"Actual\")\n",
    "plt.xlabel(\"Predicted\")"
   ]
  },
  {
   "cell_type": "markdown",
   "metadata": {},
   "source": [
    "## Predict on a Single Image\n",
    "---"
   ]
  },
  {
   "cell_type": "code",
   "execution_count": 60,
   "metadata": {},
   "outputs": [
    {
     "name": "stdout",
     "output_type": "stream",
     "text": [
      "<class 'numpy.ndarray'>\n"
     ]
    }
   ],
   "source": [
    "image_path=r\"C:\\Users\\Sharon\\Downloads\\ob-20220412T220737Z-001\\ob\"+os.sep+\"2017-09-25-18-52-27_L8_rgbr.jpg\"\n",
    "img = keras.preprocessing.image.load_img(\n",
    "    image_path, target_size=(100,100))\n",
    "img_array = keras.preprocessing.image.img_to_array(img)\n",
    "img_array = tf.expand_dims(img_array, 0)  # Create batch axis\n",
    "np.array(img_array) "
   ]
  },
  {
   "cell_type": "code",
   "execution_count": 61,
   "metadata": {},
   "outputs": [
    {
     "data": {
      "text/plain": [
       "'good'"
      ]
     },
     "execution_count": 61,
     "metadata": {},
     "output_type": "execute_result"
    }
   ],
   "source": [
    "prediction=model.predict(np.array(img_array) )\n",
    "reverse_mapping={0:\"good\",1:\"bad\"}\n",
    "label=reverse_mapping[prediction.flatten().argmax(axis=0)]\n",
    "label"
   ]
  }
 ],
 "metadata": {
  "interpreter": {
   "hash": "3d2172767698a5f3d02b8c0066e6c8964018f76571aae7a5af18f1bff83069ee"
  },
  "kernelspec": {
   "display_name": "Python 3.7.11 ('machine_learning')",
   "language": "python",
   "name": "python3"
  },
  "language_info": {
   "codemirror_mode": {
    "name": "ipython",
    "version": 3
   },
   "file_extension": ".py",
   "mimetype": "text/x-python",
   "name": "python",
   "nbconvert_exporter": "python",
   "pygments_lexer": "ipython3",
   "version": "3.7.11"
  },
  "orig_nbformat": 4
 },
 "nbformat": 4,
 "nbformat_minor": 2
}
