{
 "cells": [
  {
   "cell_type": "markdown",
   "metadata": {},
   "source": [
    "# Sniffer Classifer Predictor\n",
    "Use this notebook to run predictions with the sniffer classifier"
   ]
  },
  {
   "cell_type": "code",
   "execution_count": 3,
   "metadata": {},
   "outputs": [],
   "source": [
    "import os\n",
    "import pandas as pd\n",
    "import numpy as np\n",
    "from PIL import Image\n",
    "import matplotlib.pyplot as plt\n",
    "\n",
    "import tensorflow as tf\n",
    "from tensorflow import keras\n",
    "\n",
    "from sklearn.metrics import confusion_matrix\n",
    "from keras.metrics import BinaryAccuracy\n",
    "import seaborn as sns"
   ]
  },
  {
   "cell_type": "markdown",
   "metadata": {},
   "source": [
    "## Load the model"
   ]
  },
  {
   "cell_type": "code",
   "execution_count": 4,
   "metadata": {},
   "outputs": [],
   "source": [
    "model_name=\"binary_classification_model_v_1_4\"\n",
    "model_path=os.getcwd()+ os.sep+\"models\"+os.sep+model_name"
   ]
  },
  {
   "cell_type": "code",
   "execution_count": 5,
   "metadata": {},
   "outputs": [
    {
     "name": "stdout",
     "output_type": "stream",
     "text": [
      "Model: \"sequential_11\"\n",
      "_________________________________________________________________\n",
      " Layer (type)                Output Shape              Param #   \n",
      "=================================================================\n",
      " conv2d_37 (Conv2D)          (None, 98, 98, 16)        448       \n",
      "                                                                 \n",
      " max_pooling2d_37 (MaxPoolin  (None, 49, 49, 16)       0         \n",
      " g2D)                                                            \n",
      "                                                                 \n",
      " conv2d_38 (Conv2D)          (None, 47, 47, 32)        4640      \n",
      "                                                                 \n",
      " max_pooling2d_38 (MaxPoolin  (None, 23, 23, 32)       0         \n",
      " g2D)                                                            \n",
      "                                                                 \n",
      " conv2d_39 (Conv2D)          (None, 21, 21, 64)        18496     \n",
      "                                                                 \n",
      " max_pooling2d_39 (MaxPoolin  (None, 10, 10, 64)       0         \n",
      " g2D)                                                            \n",
      "                                                                 \n",
      " conv2d_40 (Conv2D)          (None, 8, 8, 128)         73856     \n",
      "                                                                 \n",
      " max_pooling2d_40 (MaxPoolin  (None, 4, 4, 128)        0         \n",
      " g2D)                                                            \n",
      "                                                                 \n",
      " dropout_11 (Dropout)        (None, 4, 4, 128)         0         \n",
      "                                                                 \n",
      " flatten_11 (Flatten)        (None, 2048)              0         \n",
      "                                                                 \n",
      " dense_22 (Dense)            (None, 64)                131136    \n",
      "                                                                 \n",
      " dense_23 (Dense)            (None, 1)                 65        \n",
      "                                                                 \n",
      "=================================================================\n",
      "Total params: 228,641\n",
      "Trainable params: 228,641\n",
      "Non-trainable params: 0\n",
      "_________________________________________________________________\n"
     ]
    }
   ],
   "source": [
    "model = tf.keras.models.load_model(model_path+os.sep+\"model\")\n",
    "model.summary()"
   ]
  },
  {
   "cell_type": "markdown",
   "metadata": {},
   "source": [
    "## Local Variables\n",
    "Use these variables to change the prediction parameters for your CNN.\n",
    "- `dataset_path`: directory containing the unzipped imagery\n",
    "- `img_shape` : shape (width , height) your imagery will be resized to. These are inputs into the model. This must be the same size as the size you trained your model on."
   ]
  },
  {
   "cell_type": "code",
   "execution_count": 7,
   "metadata": {},
   "outputs": [],
   "source": [
    "dataset_path=os.getcwd()+os.sep+\"test_images\"\n",
    "# csv_name=\"mapped_test_dataset.csv\"\n",
    "csv_name=\"test_dataset.csv\"\n",
    "csv_path=os.getcwd()+os.sep+csv_name\n",
    "img_shape=(100, 100)"
   ]
  },
  {
   "cell_type": "code",
   "execution_count": 8,
   "metadata": {},
   "outputs": [],
   "source": [
    "def pre_process_img(image,img_shape:tuple)->list:\n",
    "    \"\"\"returns np.array resized to (1,img_shape,3)\"\"\"\n",
    "    img=image.resize(img_shape,Image.ANTIALIAS)\n",
    "    imgArray = np.asarray(img)\n",
    "    imgArray=imgArray.reshape((1,)+img_shape+(3,))# Create batch axis\n",
    "    return imgArray"
   ]
  },
  {
   "cell_type": "code",
   "execution_count": 9,
   "metadata": {},
   "outputs": [],
   "source": [
    "def binary_encode_labels(df:'pandas.core.frame.DataFrame',labels=[\"bad\",\"good\"]):\n",
    "    \"\"\" Returns the modified dataframe with the labels encoded into binary (0 or 1)\"\"\"\n",
    "    mapping = {}\n",
    "    for x in range(len(labels)):\n",
    "        mapping[labels[x]] = x\n",
    "    # outputs {'bad': 0, 'good': 1}\n",
    "    # Replace each label in sorted with corresponding one hot encoded label\n",
    "    for x in range(len(df['Sorted'])):\n",
    "        df['Sorted'][x] = mapping[df['Sorted'][x]]\n",
    "    return df"
   ]
  },
  {
   "cell_type": "code",
   "execution_count": 10,
   "metadata": {},
   "outputs": [],
   "source": [
    "def read_labeled_df(csv_path:str):\n",
    "    \"\"\"Returns a cleaned dataframe with the labels binary encoded.\n",
    "    Use this function when you have a dataframe with correct labels\n",
    "    you want to compare the model against\n",
    "    \"\"\"\n",
    "    # Read in the labeled_df that the model has never seen before\n",
    "    df=pd.read_csv(csv_path)\n",
    "    if \"index\" in df.columns:\n",
    "        print(\"Dropping column index\")\n",
    "        df.drop(['index'],axis=1,inplace=True)\n",
    "    if \"Unnamed: 0\"in df.columns:\n",
    "        print(\"Dropping column Unnamed: 0\")\n",
    "        df.drop(['Unnamed: 0'],axis=1,inplace=True)\n",
    "    # one hot encode the labels in the \"sorted\" if they aren't already\n",
    "    if df['Sorted'].dtypes !='int64':\n",
    "        df=binary_encode_labels(df)\n",
    "    return df"
   ]
  },
  {
   "cell_type": "code",
   "execution_count": 11,
   "metadata": {},
   "outputs": [],
   "source": [
    "def create_prediction_ready_data(dataset_path:str,img_shape:tuple):\n",
    "    \"\"\"returns a numpy array of the shape (number_images,img_shape,3)\"\"\"\n",
    "    images=[]\n",
    "    for image in os.listdir(dataset_path):\n",
    "        img=Image.open(dataset_path+os.sep+image)\n",
    "        img_array=pre_process_img(img,img_shape)\n",
    "        images.append(img_array)\n",
    "    data=np.vstack(images)\n",
    "    return data"
   ]
  },
  {
   "cell_type": "code",
   "execution_count": 12,
   "metadata": {},
   "outputs": [],
   "source": [
    "def get_predictions(data:np.array):\n",
    "    \"\"\"Returns a numpy array of the predicted labels\"\"\"\n",
    "    predictions=model.predict(data)\n",
    "    return predictions"
   ]
  },
  {
   "cell_type": "code",
   "execution_count": 15,
   "metadata": {},
   "outputs": [
    {
     "name": "stdout",
     "output_type": "stream",
     "text": [
      "Dropping column index\n"
     ]
    },
    {
     "data": {
      "text/plain": [
       "1    110\n",
       "0     69\n",
       "Name: Sorted, dtype: int64"
      ]
     },
     "execution_count": 15,
     "metadata": {},
     "output_type": "execute_result"
    }
   ],
   "source": [
    "df=read_labeled_df(csv_path)\n",
    "labels=df[\"Sorted\"]\n",
    "labels=labels.astype('uint8')\n",
    "labels.value_counts()"
   ]
  },
  {
   "cell_type": "code",
   "execution_count": 16,
   "metadata": {},
   "outputs": [],
   "source": [
    "data=create_prediction_ready_data(dataset_path,img_shape)\n",
    "predictions=model.predict(data)"
   ]
  },
  {
   "cell_type": "code",
   "execution_count": 37,
   "metadata": {},
   "outputs": [],
   "source": [
    "np.set_printoptions(precision=5)\n",
    "np.set_printoptions(suppress=True)\n",
    "# predictions"
   ]
  },
  {
   "cell_type": "code",
   "execution_count": 19,
   "metadata": {},
   "outputs": [
    {
     "name": "stdout",
     "output_type": "stream",
     "text": [
      "0.7094972\n"
     ]
    }
   ],
   "source": [
    "m=BinaryAccuracy()\n",
    "m.update_state(labels,predictions)\n",
    "print(m.result().numpy())"
   ]
  },
  {
   "cell_type": "markdown",
   "metadata": {},
   "source": [
    "## Create a Confusion Matrix"
   ]
  },
  {
   "cell_type": "code",
   "execution_count": 26,
   "metadata": {},
   "outputs": [
    {
     "name": "stdout",
     "output_type": "stream",
     "text": [
      "Dropping column index\n"
     ]
    },
    {
     "data": {
      "text/plain": [
       "1    110\n",
       "0     69\n",
       "Name: Sorted, dtype: int64"
      ]
     },
     "execution_count": 26,
     "metadata": {},
     "output_type": "execute_result"
    }
   ],
   "source": [
    "# Read the correct labels from the dataframe\n",
    "df=read_labeled_df(csv_path)\n",
    "labels=df[\"Sorted\"]\n",
    "labels=labels.astype('uint8')\n",
    "# Print the counts of each label (good:1)(bad:0)\n",
    "labels.value_counts()"
   ]
  },
  {
   "cell_type": "code",
   "execution_count": 28,
   "metadata": {},
   "outputs": [
    {
     "name": "stdout",
     "output_type": "stream",
     "text": [
      "[[68  1]\n",
      " [51 59]]\n"
     ]
    },
    {
     "data": {
      "text/plain": [
       "Text(0.5, 24.0, 'Predicted')"
      ]
     },
     "execution_count": 28,
     "metadata": {},
     "output_type": "execute_result"
    },
    {
     "data": {
      "image/png": "[encoded data removed]",
      "text/plain": [
       "<Figure size 360x360 with 2 Axes>"
      ]
     },
     "metadata": {
      "needs_background": "light"
     },
     "output_type": "display_data"
    }
   ],
   "source": [
    "threshold=0.5\n",
    "y_pred = (predictions > threshold).astype('float')\n",
    "cm=confusion_matrix(labels,y_pred)\n",
    "print(cm)\n",
    "plt.figure(figsize=(5,5))\n",
    "sns.heatmap(cm,annot=True,fmt='g')\n",
    "plt.title(\"Confusion Matrix\")\n",
    "plt.ylabel(\"Actual\")\n",
    "plt.xlabel(\"Predicted\")"
   ]
  },
  {
   "cell_type": "markdown",
   "metadata": {},
   "source": [
    "## Predict on a Single Image\n",
    "---"
   ]
  },
  {
   "cell_type": "code",
   "execution_count": 34,
   "metadata": {},
   "outputs": [
    {
     "data": {
      "image/png": "[encoded data removed]",
      "text/plain": [
       "<PIL.Image.Image image mode=RGB size=100x100 at 0x1BB28E47A48>"
      ]
     },
     "execution_count": 34,
     "metadata": {},
     "output_type": "execute_result"
    }
   ],
   "source": [
    "image_path=r\"C:\\Users\\Sharon\\Downloads\\ob-20220412T220737Z-001\\ob\"+os.sep+\"2017-09-25-18-52-27_L8_rgbr.jpg\"\n",
    "# image_path=r\"C:\\Users\\Sharon\\Downloads\\duck-20220412T220723Z-001\\duck\\2015-06-23-15-40-23_L8_rgbr.jpg\"\n",
    "\n",
    "img = keras.preprocessing.image.load_img(\n",
    "    image_path, target_size=(100,100))\n",
    "img_array = keras.preprocessing.image.img_to_array(img)\n",
    "img_array = tf.expand_dims(img_array, 0)  # Create batch axis\n",
    "img"
   ]
  },
  {
   "cell_type": "code",
   "execution_count": 35,
   "metadata": {},
   "outputs": [
    {
     "name": "stdout",
     "output_type": "stream",
     "text": [
      "[0.]\n",
      "[0]\n"
     ]
    },
    {
     "data": {
      "text/plain": [
       "'bad'"
      ]
     },
     "execution_count": 35,
     "metadata": {},
     "output_type": "execute_result"
    }
   ],
   "source": [
    "prediction=model.predict(np.array(img_array)).flatten()\n",
    "print(prediction)\n",
    "threshold=0.5\n",
    "y_pred = (prediction > threshold).astype('uint8')\n",
    "print(y_pred)\n",
    "reverse_mapping={0:\"bad\",1:\"good\"}\n",
    "label=reverse_mapping[y_pred[0]]\n",
    "label"
   ]
  },
  {
   "cell_type": "code",
   "execution_count": null,
   "metadata": {},
   "outputs": [],
   "source": []
  }
 ],
 "metadata": {
  "interpreter": {
   "hash": "8b8ae1edc86552629b4c9d7d73567d118985f86b154082d80ae1b6d4223a5d4e"
  },
  "kernelspec": {
   "display_name": "Python 3.7.11 ('machine_learning')",
   "language": "python",
   "name": "python3"
  },
  "language_info": {
   "codemirror_mode": {
    "name": "ipython",
    "version": 3
   },
   "file_extension": ".py",
   "mimetype": "text/x-python",
   "name": "python",
   "nbconvert_exporter": "python",
   "pygments_lexer": "ipython3",
   "version": "3.7.11"
  },
  "orig_nbformat": 4
 },
 "nbformat": 4,
 "nbformat_minor": 2
}
