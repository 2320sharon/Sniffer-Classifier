{
 "cells": [
  {
   "cell_type": "markdown",
   "metadata": {},
   "source": [
    "# Sniffer Classifer Predictor\n",
    "Use this notebook to run predictions with the sniffer classifier"
   ]
  },
  {
   "cell_type": "code",
   "execution_count": 21,
   "metadata": {},
   "outputs": [],
   "source": [
    "import os\n",
    "import glob\n",
    "import pandas as pd\n",
    "import numpy as np\n",
    "from PIL import Image\n",
    "import matplotlib.pyplot as plt\n",
    "\n",
    "import tensorflow as tf\n",
    "from tensorflow import keras\n",
    "\n",
    "from sklearn.metrics import confusion_matrix\n",
    "from keras.metrics import BinaryAccuracy\n",
    "import seaborn as sns"
   ]
  },
  {
   "cell_type": "markdown",
   "metadata": {},
   "source": [
    "## Load the model"
   ]
  },
  {
   "cell_type": "code",
   "execution_count": 37,
   "metadata": {},
   "outputs": [],
   "source": [
    "model_name=\"binary_classification_model_v_1_2\"\n",
    "model_path=os.getcwd()+ os.sep+\"models\"+os.sep+model_name"
   ]
  },
  {
   "cell_type": "code",
   "execution_count": 38,
   "metadata": {},
   "outputs": [
    {
     "name": "stdout",
     "output_type": "stream",
     "text": [
      "Model: \"sequential_9\"\n",
      "_________________________________________________________________\n",
      " Layer (type)                Output Shape              Param #   \n",
      "=================================================================\n",
      " conv2d_27 (Conv2D)          (None, 98, 98, 16)        448       \n",
      "                                                                 \n",
      " max_pooling2d_27 (MaxPoolin  (None, 49, 49, 16)       0         \n",
      " g2D)                                                            \n",
      "                                                                 \n",
      " conv2d_28 (Conv2D)          (None, 47, 47, 32)        4640      \n",
      "                                                                 \n",
      " max_pooling2d_28 (MaxPoolin  (None, 23, 23, 32)       0         \n",
      " g2D)                                                            \n",
      "                                                                 \n",
      " conv2d_29 (Conv2D)          (None, 21, 21, 64)        18496     \n",
      "                                                                 \n",
      " max_pooling2d_29 (MaxPoolin  (None, 10, 10, 64)       0         \n",
      " g2D)                                                            \n",
      "                                                                 \n",
      " conv2d_30 (Conv2D)          (None, 8, 8, 128)         73856     \n",
      "                                                                 \n",
      " max_pooling2d_30 (MaxPoolin  (None, 4, 4, 128)        0         \n",
      " g2D)                                                            \n",
      "                                                                 \n",
      " conv2d_31 (Conv2D)          (None, 2, 2, 128)         147584    \n",
      "                                                                 \n",
      " max_pooling2d_31 (MaxPoolin  (None, 1, 1, 128)        0         \n",
      " g2D)                                                            \n",
      "                                                                 \n",
      " dropout_9 (Dropout)         (None, 1, 1, 128)         0         \n",
      "                                                                 \n",
      " flatten_9 (Flatten)         (None, 128)               0         \n",
      "                                                                 \n",
      " dense_18 (Dense)            (None, 64)                8256      \n",
      "                                                                 \n",
      " dense_19 (Dense)            (None, 1)                 65        \n",
      "                                                                 \n",
      "=================================================================\n",
      "Total params: 253,345\n",
      "Trainable params: 253,345\n",
      "Non-trainable params: 0\n",
      "_________________________________________________________________\n"
     ]
    }
   ],
   "source": [
    "model = tf.keras.models.load_model(model_path+os.sep+\"model\")\n",
    "model.summary()"
   ]
  },
  {
   "cell_type": "markdown",
   "metadata": {},
   "source": [
    "## Local Variables\n",
    "Use these variables to change the prediction parameters for your CNN.\n",
    "- `dataset_path`: directory containing the unzipped imagery\n",
    "- `img_shape` : shape (width , height) your imagery will be resized to. These are inputs into the model. This must be the same size as the size you trained your model on."
   ]
  },
  {
   "cell_type": "code",
   "execution_count": 39,
   "metadata": {},
   "outputs": [],
   "source": [
    "dataset_path=os.getcwd()+os.sep+\"test_images\"\n",
    "csv_name=\"mapped_test_dataset.csv\"\n",
    "csv_path=os.getcwd()+os.sep+csv_name\n",
    "img_shape=(100, 100)"
   ]
  },
  {
   "cell_type": "code",
   "execution_count": 40,
   "metadata": {},
   "outputs": [],
   "source": [
    "def pre_process_img(image,img_shape:tuple)->list:\n",
    "    \"\"\"returns np.array resized to (1,img_shape,3)\"\"\"\n",
    "    img=image.resize(img_shape,Image.ANTIALIAS)\n",
    "    imgArray = np.asarray(img)\n",
    "    imgArray=imgArray.reshape((1,)+img_shape+(3,))# Create batch axis\n",
    "    return imgArray"
   ]
  },
  {
   "cell_type": "code",
   "execution_count": 41,
   "metadata": {},
   "outputs": [],
   "source": [
    "def binary_encode_labels(df:'pandas.core.frame.DataFrame',labels=[\"good\",\"bad\"]):\n",
    "    \"\"\" Returns the modified dataframe with the labels encoded into binary (0 or 1)\"\"\"\n",
    "    mapping = {}\n",
    "    for x in range(len(labels)):\n",
    "        mapping[labels[x]] = x\n",
    "    # outputs {'good': 0, 'bad': 1}\n",
    "    # Replace each label in sorted with corresponding one hot encoded label\n",
    "    for x in range(len(df['Sorted'])):\n",
    "        df['Sorted'][x] = mapping[df['Sorted'][x]]\n",
    "    return df"
   ]
  },
  {
   "cell_type": "code",
   "execution_count": 42,
   "metadata": {},
   "outputs": [],
   "source": [
    "def read_labeled_df(csv_path:str):\n",
    "    \"\"\"Returns a cleaned dataframe with the labels one hot encoded\n",
    "    Use this function when you have a dataframe with correct labels\n",
    "    you want to compare the model against\n",
    "    \"\"\"\n",
    "    # Read in the labeled_df that the model has never seen before\n",
    "    df=pd.read_csv(csv_path)\n",
    "    if \"index\" in df.columns:\n",
    "        print(\"Dropping column index\")\n",
    "        df.drop(['index'],axis=1,inplace=True)\n",
    "    if \"Unnamed: 0\"in df.columns:\n",
    "        print(\"Dropping column Unnamed: 0\")\n",
    "        df.drop(['Unnamed: 0'],axis=1,inplace=True)\n",
    "    # one hot encode the labels in the \"sorted\" if they aren't already\n",
    "    if df['Sorted'].dtypes !='int64':\n",
    "        df=binary_encode_labels(df)\n",
    "    return df"
   ]
  },
  {
   "cell_type": "code",
   "execution_count": 43,
   "metadata": {},
   "outputs": [],
   "source": [
    "def create_prediction_ready_data(dataset_path:str,img_shape:tuple):\n",
    "    \"\"\"returns a numpy array of the shape (number_images,img_shape,3)\"\"\"\n",
    "    images=[]\n",
    "    for image in os.listdir(dataset_path):\n",
    "        img=Image.open(dataset_path+os.sep+image)\n",
    "        img_array=pre_process_img(img,img_shape)\n",
    "        images.append(img_array)\n",
    "    data=np.vstack(images)\n",
    "    return data"
   ]
  },
  {
   "cell_type": "code",
   "execution_count": 10,
   "metadata": {},
   "outputs": [],
   "source": [
    "def get_predictions(data:np.array):\n",
    "    \"\"\"Returns a numpy array of the predicted labels\"\"\"\n",
    "    predictions=model.predict(data)\n",
    "    return predictions"
   ]
  },
  {
   "cell_type": "code",
   "execution_count": 44,
   "metadata": {},
   "outputs": [
    {
     "name": "stdout",
     "output_type": "stream",
     "text": [
      "<class 'numpy.ndarray'>\n"
     ]
    }
   ],
   "source": [
    "data=create_prediction_ready_data(dataset_path,img_shape)\n",
    "predictions=model.predict(data)\n",
    "print(type(predictions))"
   ]
  },
  {
   "cell_type": "code",
   "execution_count": 45,
   "metadata": {},
   "outputs": [],
   "source": [
    "np.set_printoptions(precision=5)\n",
    "np.set_printoptions(suppress=True)"
   ]
  },
  {
   "cell_type": "code",
   "execution_count": 46,
   "metadata": {},
   "outputs": [
    {
     "name": "stdout",
     "output_type": "stream",
     "text": [
      "[[0.     ]\n",
      " [0.     ]\n",
      " [0.     ]\n",
      " [1.     ]\n",
      " [0.     ]\n",
      " [1.     ]\n",
      " [0.     ]\n",
      " [0.     ]\n",
      " [0.     ]\n",
      " [0.     ]\n",
      " [1.     ]\n",
      " [1.     ]\n",
      " [0.     ]\n",
      " [0.     ]\n",
      " [0.     ]\n",
      " [0.     ]\n",
      " [0.     ]\n",
      " [0.     ]\n",
      " [1.     ]\n",
      " [1.     ]\n",
      " [0.     ]\n",
      " [0.     ]\n",
      " [0.     ]\n",
      " [0.     ]\n",
      " [0.     ]\n",
      " [0.     ]\n",
      " [0.     ]\n",
      " [0.     ]\n",
      " [0.     ]\n",
      " [0.     ]\n",
      " [0.     ]\n",
      " [0.     ]\n",
      " [0.     ]\n",
      " [0.     ]\n",
      " [0.99992]\n",
      " [1.     ]\n",
      " [1.     ]\n",
      " [1.     ]\n",
      " [1.     ]\n",
      " [1.     ]\n",
      " [1.     ]\n",
      " [1.     ]\n",
      " [1.     ]\n",
      " [1.     ]\n",
      " [1.     ]\n",
      " [1.     ]\n",
      " [0.     ]\n",
      " [1.     ]\n",
      " [0.     ]\n",
      " [1.     ]\n",
      " [0.     ]\n",
      " [1.     ]\n",
      " [1.     ]\n",
      " [1.     ]\n",
      " [1.     ]\n",
      " [0.     ]\n",
      " [1.     ]\n",
      " [0.     ]\n",
      " [1.     ]\n",
      " [1.     ]\n",
      " [1.     ]\n",
      " [1.     ]\n",
      " [1.     ]\n",
      " [1.     ]\n",
      " [1.     ]\n",
      " [1.     ]\n",
      " [1.     ]\n",
      " [1.     ]\n",
      " [1.     ]\n",
      " [1.     ]\n",
      " [1.     ]\n",
      " [1.     ]\n",
      " [1.     ]\n",
      " [1.     ]\n",
      " [0.     ]\n",
      " [0.     ]\n",
      " [0.     ]\n",
      " [0.     ]\n",
      " [1.     ]\n",
      " [0.     ]\n",
      " [0.     ]\n",
      " [0.     ]\n",
      " [0.     ]\n",
      " [0.     ]\n",
      " [0.     ]\n",
      " [0.     ]\n",
      " [0.     ]\n",
      " [0.     ]\n",
      " [0.     ]\n",
      " [0.     ]\n",
      " [0.     ]\n",
      " [0.     ]\n",
      " [0.     ]\n",
      " [0.     ]\n",
      " [1.     ]\n",
      " [1.     ]\n",
      " [1.     ]\n",
      " [0.     ]\n",
      " [0.23667]\n",
      " [0.00002]\n",
      " [0.00003]\n",
      " [1.     ]\n",
      " [1.     ]\n",
      " [0.     ]\n",
      " [0.00006]\n",
      " [0.     ]\n",
      " [0.     ]\n",
      " [1.     ]\n",
      " [0.     ]\n",
      " [0.     ]\n",
      " [0.     ]\n",
      " [0.     ]\n",
      " [0.     ]\n",
      " [0.     ]\n",
      " [0.     ]\n",
      " [0.     ]\n",
      " [0.00002]\n",
      " [0.     ]\n",
      " [0.     ]\n",
      " [0.     ]\n",
      " [0.     ]\n",
      " [0.     ]\n",
      " [0.     ]\n",
      " [0.     ]\n",
      " [0.     ]\n",
      " [1.     ]\n",
      " [1.     ]\n",
      " [1.     ]\n",
      " [1.     ]\n",
      " [1.     ]\n",
      " [1.     ]\n",
      " [1.     ]\n",
      " [1.     ]\n",
      " [1.     ]\n",
      " [1.     ]\n",
      " [0.     ]\n",
      " [0.     ]\n",
      " [0.     ]\n",
      " [0.     ]\n",
      " [0.     ]\n",
      " [0.     ]\n",
      " [0.     ]\n",
      " [0.     ]\n",
      " [0.     ]\n",
      " [0.     ]\n",
      " [0.     ]\n",
      " [0.     ]\n",
      " [1.     ]\n",
      " [1.     ]\n",
      " [1.     ]\n",
      " [0.     ]\n",
      " [1.     ]\n",
      " [0.     ]\n",
      " [1.     ]\n",
      " [1.     ]\n",
      " [1.     ]\n",
      " [1.     ]\n",
      " [1.     ]\n",
      " [0.     ]\n",
      " [0.     ]\n",
      " [0.     ]\n",
      " [0.     ]\n",
      " [1.     ]\n",
      " [0.     ]\n",
      " [1.     ]\n",
      " [0.     ]\n",
      " [1.     ]\n",
      " [1.     ]\n",
      " [0.04273]\n",
      " [0.     ]\n",
      " [1.     ]\n",
      " [1.     ]\n",
      " [1.     ]\n",
      " [1.     ]\n",
      " [1.     ]\n",
      " [0.     ]\n",
      " [0.     ]\n",
      " [1.     ]\n",
      " [0.     ]]\n"
     ]
    }
   ],
   "source": [
    "print(predictions)"
   ]
  },
  {
   "cell_type": "code",
   "execution_count": 52,
   "metadata": {},
   "outputs": [
    {
     "data": {
      "text/plain": [
       "array([[0.     ],\n",
       "       [0.     ],\n",
       "       [0.     ],\n",
       "       [1.     ],\n",
       "       [0.     ],\n",
       "       [1.     ],\n",
       "       [0.     ],\n",
       "       [0.     ],\n",
       "       [0.     ],\n",
       "       [0.     ],\n",
       "       [1.     ],\n",
       "       [1.     ],\n",
       "       [0.     ],\n",
       "       [0.     ],\n",
       "       [0.     ],\n",
       "       [0.     ],\n",
       "       [0.     ],\n",
       "       [0.     ],\n",
       "       [1.     ],\n",
       "       [1.     ],\n",
       "       [0.     ],\n",
       "       [0.     ],\n",
       "       [0.     ],\n",
       "       [0.     ],\n",
       "       [0.     ],\n",
       "       [0.     ],\n",
       "       [0.     ],\n",
       "       [0.     ],\n",
       "       [0.     ],\n",
       "       [0.     ],\n",
       "       [0.     ],\n",
       "       [0.     ],\n",
       "       [0.     ],\n",
       "       [0.     ],\n",
       "       [0.99992],\n",
       "       [1.     ],\n",
       "       [1.     ],\n",
       "       [1.     ],\n",
       "       [1.     ],\n",
       "       [1.     ],\n",
       "       [1.     ],\n",
       "       [1.     ],\n",
       "       [1.     ],\n",
       "       [1.     ],\n",
       "       [1.     ],\n",
       "       [1.     ],\n",
       "       [0.     ],\n",
       "       [1.     ],\n",
       "       [0.     ],\n",
       "       [1.     ],\n",
       "       [0.     ],\n",
       "       [1.     ],\n",
       "       [1.     ],\n",
       "       [1.     ],\n",
       "       [1.     ],\n",
       "       [0.     ],\n",
       "       [1.     ],\n",
       "       [0.     ],\n",
       "       [1.     ],\n",
       "       [1.     ],\n",
       "       [1.     ],\n",
       "       [1.     ],\n",
       "       [1.     ],\n",
       "       [1.     ],\n",
       "       [1.     ],\n",
       "       [1.     ],\n",
       "       [1.     ],\n",
       "       [1.     ],\n",
       "       [1.     ],\n",
       "       [1.     ],\n",
       "       [1.     ],\n",
       "       [1.     ],\n",
       "       [1.     ],\n",
       "       [1.     ],\n",
       "       [0.     ],\n",
       "       [0.     ],\n",
       "       [0.     ],\n",
       "       [0.     ],\n",
       "       [1.     ],\n",
       "       [0.     ],\n",
       "       [0.     ],\n",
       "       [0.     ],\n",
       "       [0.     ],\n",
       "       [0.     ],\n",
       "       [0.     ],\n",
       "       [0.     ],\n",
       "       [0.     ],\n",
       "       [0.     ],\n",
       "       [0.     ],\n",
       "       [0.     ],\n",
       "       [0.     ],\n",
       "       [0.     ],\n",
       "       [0.     ],\n",
       "       [0.     ],\n",
       "       [1.     ],\n",
       "       [1.     ],\n",
       "       [1.     ],\n",
       "       [0.     ],\n",
       "       [0.23667],\n",
       "       [0.00002],\n",
       "       [0.00003],\n",
       "       [1.     ],\n",
       "       [1.     ],\n",
       "       [0.     ],\n",
       "       [0.00006],\n",
       "       [0.     ],\n",
       "       [0.     ],\n",
       "       [1.     ],\n",
       "       [0.     ],\n",
       "       [0.     ],\n",
       "       [0.     ],\n",
       "       [0.     ],\n",
       "       [0.     ],\n",
       "       [0.     ],\n",
       "       [0.     ],\n",
       "       [0.     ],\n",
       "       [0.00002],\n",
       "       [0.     ],\n",
       "       [0.     ],\n",
       "       [0.     ],\n",
       "       [0.     ],\n",
       "       [0.     ],\n",
       "       [0.     ],\n",
       "       [0.     ],\n",
       "       [0.     ],\n",
       "       [1.     ],\n",
       "       [1.     ],\n",
       "       [1.     ],\n",
       "       [1.     ],\n",
       "       [1.     ],\n",
       "       [1.     ],\n",
       "       [1.     ],\n",
       "       [1.     ],\n",
       "       [1.     ],\n",
       "       [1.     ],\n",
       "       [0.     ],\n",
       "       [0.     ],\n",
       "       [0.     ],\n",
       "       [0.     ],\n",
       "       [0.     ],\n",
       "       [0.     ],\n",
       "       [0.     ],\n",
       "       [0.     ],\n",
       "       [0.     ],\n",
       "       [0.     ],\n",
       "       [0.     ],\n",
       "       [0.     ],\n",
       "       [1.     ],\n",
       "       [1.     ],\n",
       "       [1.     ],\n",
       "       [0.     ],\n",
       "       [1.     ],\n",
       "       [0.     ],\n",
       "       [1.     ],\n",
       "       [1.     ],\n",
       "       [1.     ],\n",
       "       [1.     ],\n",
       "       [1.     ],\n",
       "       [0.     ],\n",
       "       [0.     ],\n",
       "       [0.     ],\n",
       "       [0.     ],\n",
       "       [1.     ],\n",
       "       [0.     ],\n",
       "       [1.     ],\n",
       "       [0.     ],\n",
       "       [1.     ],\n",
       "       [1.     ],\n",
       "       [0.04273],\n",
       "       [0.     ],\n",
       "       [1.     ],\n",
       "       [1.     ],\n",
       "       [1.     ],\n",
       "       [1.     ],\n",
       "       [1.     ],\n",
       "       [0.     ],\n",
       "       [0.     ],\n",
       "       [1.     ],\n",
       "       [0.     ]], dtype=float32)"
      ]
     },
     "execution_count": 52,
     "metadata": {},
     "output_type": "execute_result"
    }
   ],
   "source": [
    "predictions"
   ]
  },
  {
   "cell_type": "code",
   "execution_count": 47,
   "metadata": {},
   "outputs": [
    {
     "data": {
      "text/plain": [
       "array([0, 0, 0, 0, 0, 0, 0, 0, 0, 0, 0, 0, 0, 0, 0, 0, 0, 0, 0, 0, 0, 0,\n",
       "       0, 0, 0, 0, 0, 0, 0, 0, 0, 0, 0, 0, 0, 0, 0, 0, 0, 0, 0, 0, 0, 0,\n",
       "       0, 0, 0, 0, 0, 0], dtype=uint8)"
      ]
     },
     "execution_count": 47,
     "metadata": {},
     "output_type": "execute_result"
    }
   ],
   "source": [
    "prediction_labels[:50]\n"
   ]
  },
  {
   "cell_type": "code",
   "execution_count": 25,
   "metadata": {},
   "outputs": [
    {
     "data": {
      "text/plain": [
       "numpy.ndarray"
      ]
     },
     "execution_count": 25,
     "metadata": {},
     "output_type": "execute_result"
    }
   ],
   "source": [
    "type(prediction_labels)\n"
   ]
  },
  {
   "cell_type": "code",
   "execution_count": 29,
   "metadata": {},
   "outputs": [
    {
     "data": {
      "text/plain": [
       "dtype('float64')"
      ]
     },
     "execution_count": 29,
     "metadata": {},
     "output_type": "execute_result"
    }
   ],
   "source": [
    "prediction_labels.dtype"
   ]
  },
  {
   "cell_type": "code",
   "execution_count": 31,
   "metadata": {},
   "outputs": [],
   "source": [
    "prediction_labels=prediction_labels.astype('uint8')\n"
   ]
  },
  {
   "cell_type": "code",
   "execution_count": 48,
   "metadata": {},
   "outputs": [
    {
     "name": "stdout",
     "output_type": "stream",
     "text": [
      "0.5698324\n"
     ]
    }
   ],
   "source": [
    "m=BinaryAccuracy()\n",
    "m.update_state(prediction_labels,predictions)\n",
    "print(m.result().numpy())"
   ]
  },
  {
   "cell_type": "code",
   "execution_count": 36,
   "metadata": {},
   "outputs": [
    {
     "name": "stdout",
     "output_type": "stream",
     "text": [
      "0.698324\n"
     ]
    }
   ],
   "source": [
    "m=BinaryAccuracy()\n",
    "m.update_state(prediction_labels,predictions)\n",
    "print(m.result().numpy())"
   ]
  },
  {
   "cell_type": "markdown",
   "metadata": {},
   "source": [
    "## Create a Confusion Matrix"
   ]
  },
  {
   "cell_type": "code",
   "execution_count": 49,
   "metadata": {},
   "outputs": [
    {
     "name": "stdout",
     "output_type": "stream",
     "text": [
      "Dropping column Unnamed: 0\n"
     ]
    }
   ],
   "source": [
    "# Read the correct labels from the dataframe\n",
    "df=read_labeled_df(csv_path)\n",
    "labels=df[\"Sorted\"]"
   ]
  },
  {
   "cell_type": "code",
   "execution_count": 51,
   "metadata": {},
   "outputs": [
    {
     "data": {
      "text/plain": [
       "0    110\n",
       "1     69\n",
       "Name: Sorted, dtype: int64"
      ]
     },
     "execution_count": 51,
     "metadata": {},
     "output_type": "execute_result"
    }
   ],
   "source": [
    "df['Sorted'].value_counts()"
   ]
  },
  {
   "cell_type": "code",
   "execution_count": 50,
   "metadata": {},
   "outputs": [
    {
     "name": "stdout",
     "output_type": "stream",
     "text": [
      "[[110   0]\n",
      " [ 69   0]]\n"
     ]
    },
    {
     "data": {
      "text/plain": [
       "Text(0.5, 24.0, 'Predicted')"
      ]
     },
     "execution_count": 50,
     "metadata": {},
     "output_type": "execute_result"
    },
    {
     "data": {
      "image/png": "[encoded data removed]",
      "text/plain": [
       "<Figure size 360x360 with 2 Axes>"
      ]
     },
     "metadata": {
      "needs_background": "light"
     },
     "output_type": "display_data"
    }
   ],
   "source": [
    "cm=confusion_matrix(labels,prediction_labels)\n",
    "print(cm)\n",
    "plt.figure(figsize=(5,5))\n",
    "sns.heatmap(cm,annot=True,fmt='g')\n",
    "plt.title(\"Confusion Matrix\")\n",
    "plt.ylabel(\"Actual\")\n",
    "plt.xlabel(\"Predicted\")"
   ]
  },
  {
   "cell_type": "markdown",
   "metadata": {},
   "source": [
    "## Predict on a Single Image\n",
    "---"
   ]
  },
  {
   "cell_type": "code",
   "execution_count": 60,
   "metadata": {},
   "outputs": [
    {
     "name": "stdout",
     "output_type": "stream",
     "text": [
      "<class 'numpy.ndarray'>\n"
     ]
    }
   ],
   "source": [
    "image_path=r\"C:\\Users\\Sharon\\Downloads\\ob-20220412T220737Z-001\\ob\"+os.sep+\"2017-09-25-18-52-27_L8_rgbr.jpg\"\n",
    "img = keras.preprocessing.image.load_img(\n",
    "    image_path, target_size=(100,100))\n",
    "img_array = keras.preprocessing.image.img_to_array(img)\n",
    "img_array = tf.expand_dims(img_array, 0)  # Create batch axis\n",
    "np.array(img_array) "
   ]
  },
  {
   "cell_type": "code",
   "execution_count": 61,
   "metadata": {},
   "outputs": [
    {
     "data": {
      "text/plain": [
       "'good'"
      ]
     },
     "execution_count": 61,
     "metadata": {},
     "output_type": "execute_result"
    }
   ],
   "source": [
    "prediction=model.predict(np.array(img_array) )\n",
    "reverse_mapping={0:\"good\",1:\"bad\"}\n",
    "label=reverse_mapping[prediction.flatten().argmax(axis=0)]\n",
    "label"
   ]
  }
 ],
 "metadata": {
  "interpreter": {
   "hash": "8b8ae1edc86552629b4c9d7d73567d118985f86b154082d80ae1b6d4223a5d4e"
  },
  "kernelspec": {
   "display_name": "Python 3.7.11 ('machine_learning')",
   "language": "python",
   "name": "python3"
  },
  "language_info": {
   "codemirror_mode": {
    "name": "ipython",
    "version": 3
   },
   "file_extension": ".py",
   "mimetype": "text/x-python",
   "name": "python",
   "nbconvert_exporter": "python",
   "pygments_lexer": "ipython3",
   "version": "3.7.11"
  },
  "orig_nbformat": 4
 },
 "nbformat": 4,
 "nbformat_minor": 2
}
