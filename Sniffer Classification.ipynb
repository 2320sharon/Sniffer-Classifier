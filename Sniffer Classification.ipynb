{
 "cells": [
  {
   "cell_type": "code",
   "execution_count": 1,
   "id": "b2f44b38",
   "metadata": {},
   "outputs": [],
   "source": [
    "import matplotlib.pyplot as plt\n",
    "\n",
    "from skimage import data\n",
    "from skimage.color import rgb2gray\n",
    "from skimage import io\n",
    "\n",
    "import glob\n",
    "import os\n",
    "import pandas as pd\n",
    "import numpy as np\n",
    "\n",
    "from keras_preprocessing.image import ImageDataGenerator\n",
    "import tensorflow as tf\n",
    "from tensorflow import keras\n",
    "from tensorflow.keras import layers\n",
    "#Import from keras_preprocessing not from keras.preprocessing\n",
    "from keras_preprocessing.image import ImageDataGenerator\n",
    "from keras.layers import Dense, Activation, Flatten, Dropout, BatchNormalization\n",
    "from keras.layers import Conv2D, MaxPooling2D\n",
    "from keras import regularizers, optimizers\n",
    "from tensorflow.keras import optimizers\n",
    "\n",
    "%matplotlib inline"
   ]
  },
  {
   "cell_type": "code",
   "execution_count": 2,
   "id": "66810c20",
   "metadata": {},
   "outputs": [
    {
     "data": {
      "text/plain": [
       "741"
      ]
     },
     "execution_count": 2,
     "metadata": {},
     "output_type": "execute_result"
    }
   ],
   "source": [
    "dataset_path=os.getcwd()+os.sep+\"images\"\n",
    "imgs=glob.glob(dataset_path+os.sep+\"*.jpg\")\n",
    "len(imgs)"
   ]
  },
  {
   "cell_type": "markdown",
   "id": "430b5c13",
   "metadata": {},
   "source": [
    "## Goal #1 Create a pipeline to preprocesses all the images\n",
    "1. convert images to grayscale\n",
    "2. Normalize the images\n",
    "3. Perform Data Augmentation\n",
    "4. Image Standardization"
   ]
  },
  {
   "cell_type": "markdown",
   "id": "0aca7869",
   "metadata": {},
   "source": [
    "## Create a image generator to apply augmentations to the imagery\n",
    "- standardizes the image sizes \n",
    "- applies zooms, flips, rotations to the imagery"
   ]
  },
  {
   "cell_type": "code",
   "execution_count": 3,
   "id": "587541d8",
   "metadata": {},
   "outputs": [],
   "source": [
    "\n",
    "train_datagen=ImageDataGenerator(rescale=1./255.,\n",
    "rotation_range=20,\n",
    "zoom_range=0.05,\n",
    "width_shift_range=0.05,\n",
    "height_shift_range=0.05,\n",
    "shear_range=0.05,\n",
    "horizontal_flip=True,\n",
    "fill_mode=\"nearest\",\n",
    "validation_split=0.20\n",
    ")\n",
    "\n",
    "test_datagen=ImageDataGenerator(rescale=1./255.)\n"
   ]
  },
  {
   "cell_type": "markdown",
   "id": "3d73ed02",
   "metadata": {},
   "source": [
    "# Read in the  csv file and transform in df\n",
    "1. read in the csv\n",
    "2. one hot encode the sorted labels\n",
    "3. Update the one hot encoded labels to strings"
   ]
  },
  {
   "cell_type": "code",
   "execution_count": 4,
   "id": "baaeaff3",
   "metadata": {},
   "outputs": [
    {
     "name": "stdout",
     "output_type": "stream",
     "text": [
      "Index(['Unnamed: 0', 'Filename', 'Sorted'], dtype='object')\n",
      "Dropping column Unnamed: 0\n"
     ]
    },
    {
     "data": {
      "text/html": [
       "<div>\n",
       "<style scoped>\n",
       "    .dataframe tbody tr th:only-of-type {\n",
       "        vertical-align: middle;\n",
       "    }\n",
       "\n",
       "    .dataframe tbody tr th {\n",
       "        vertical-align: top;\n",
       "    }\n",
       "\n",
       "    .dataframe thead th {\n",
       "        text-align: right;\n",
       "    }\n",
       "</style>\n",
       "<table border=\"1\" class=\"dataframe\">\n",
       "  <thead>\n",
       "    <tr style=\"text-align: right;\">\n",
       "      <th></th>\n",
       "      <th>Filename</th>\n",
       "      <th>Sorted</th>\n",
       "    </tr>\n",
       "  </thead>\n",
       "  <tbody>\n",
       "    <tr>\n",
       "      <th>0</th>\n",
       "      <td>2000-01-07-18-21-07_L5_rgb.jpg</td>\n",
       "      <td>bad</td>\n",
       "    </tr>\n",
       "    <tr>\n",
       "      <th>1</th>\n",
       "      <td>2000-04-12-18-20-29_L5_rgb.jpg</td>\n",
       "      <td>bad</td>\n",
       "    </tr>\n",
       "    <tr>\n",
       "      <th>2</th>\n",
       "      <td>2000-04-28-18-21-24_L5_rgb.jpg</td>\n",
       "      <td>good</td>\n",
       "    </tr>\n",
       "    <tr>\n",
       "      <th>3</th>\n",
       "      <td>2000-08-02-18-23-18_L5_rgb.jpg</td>\n",
       "      <td>bad</td>\n",
       "    </tr>\n",
       "    <tr>\n",
       "      <th>4</th>\n",
       "      <td>2000-08-18-18-23-46_L5_rgb.jpg</td>\n",
       "      <td>good</td>\n",
       "    </tr>\n",
       "    <tr>\n",
       "      <th>...</th>\n",
       "      <td>...</td>\n",
       "      <td>...</td>\n",
       "    </tr>\n",
       "    <tr>\n",
       "      <th>736</th>\n",
       "      <td>2018-12-31-15-40-54_S2_ID02022-04-22.jpg</td>\n",
       "      <td>good</td>\n",
       "    </tr>\n",
       "    <tr>\n",
       "      <th>737</th>\n",
       "      <td>2018-12-31-15-40-54_S2_ID12022-04-22.jpg</td>\n",
       "      <td>good</td>\n",
       "    </tr>\n",
       "    <tr>\n",
       "      <th>738</th>\n",
       "      <td>2018-12-31-15-40-54_S2_ID22022-04-22.jpg</td>\n",
       "      <td>good</td>\n",
       "    </tr>\n",
       "    <tr>\n",
       "      <th>739</th>\n",
       "      <td>2018-12-31-15-40-54_S2_ID32022-04-22.jpg</td>\n",
       "      <td>good</td>\n",
       "    </tr>\n",
       "    <tr>\n",
       "      <th>740</th>\n",
       "      <td>2018-12-31-15-40-54_S2_ID42022-04-22.jpg</td>\n",
       "      <td>good</td>\n",
       "    </tr>\n",
       "  </tbody>\n",
       "</table>\n",
       "<p>741 rows × 2 columns</p>\n",
       "</div>"
      ],
      "text/plain": [
       "                                     Filename Sorted\n",
       "0              2000-01-07-18-21-07_L5_rgb.jpg    bad\n",
       "1              2000-04-12-18-20-29_L5_rgb.jpg    bad\n",
       "2              2000-04-28-18-21-24_L5_rgb.jpg   good\n",
       "3              2000-08-02-18-23-18_L5_rgb.jpg    bad\n",
       "4              2000-08-18-18-23-46_L5_rgb.jpg   good\n",
       "..                                        ...    ...\n",
       "736  2018-12-31-15-40-54_S2_ID02022-04-22.jpg   good\n",
       "737  2018-12-31-15-40-54_S2_ID12022-04-22.jpg   good\n",
       "738  2018-12-31-15-40-54_S2_ID22022-04-22.jpg   good\n",
       "739  2018-12-31-15-40-54_S2_ID32022-04-22.jpg   good\n",
       "740  2018-12-31-15-40-54_S2_ID42022-04-22.jpg   good\n",
       "\n",
       "[741 rows x 2 columns]"
      ]
     },
     "execution_count": 4,
     "metadata": {},
     "output_type": "execute_result"
    }
   ],
   "source": [
    "dataset_path=os.getcwd()+os.sep+\"images\"\n",
    "labels=[\"good\",\"bad\"]\n",
    "df =  pd.read_csv(\"master.csv\")\n",
    "print(df.columns)\n",
    "if \"index\" in df.columns:\n",
    "    print(\"Dropping column index\")\n",
    "    df.drop(['index'],axis=1,inplace=True)\n",
    "if \"Unnamed: 0\"in df.columns:\n",
    "    print(\"Dropping column Unnamed: 0\")\n",
    "    df.drop(['Unnamed: 0'],axis=1,inplace=True)\n",
    "df"
   ]
  },
  {
   "cell_type": "code",
   "execution_count": 5,
   "id": "00d6fbc9",
   "metadata": {},
   "outputs": [
    {
     "name": "stdout",
     "output_type": "stream",
     "text": [
      "{'good': 0, 'bad': 1}\n",
      "\n",
      " 0      1\n",
      "1      1\n",
      "2      0\n",
      "3      1\n",
      "4      0\n",
      "      ..\n",
      "736    0\n",
      "737    0\n",
      "738    0\n",
      "739    0\n",
      "740    0\n",
      "Name: Sorted, Length: 741, dtype: object\n"
     ]
    }
   ],
   "source": [
    "### map each label(good or bad) to an integer\n",
    "mapping = {}\n",
    "for x in range(len(labels)):\n",
    "  mapping[labels[x]] = x\n",
    "# outputs {'good': 0, 'bad': 1}\n",
    "print(mapping)\n",
    "# integer representation\n",
    "for x in range(len(df['Sorted'])):\n",
    "  df['Sorted'][x] = mapping[df['Sorted'][x]]\n",
    "print(\"\\n\",df['Sorted'])"
   ]
  },
  {
   "cell_type": "code",
   "execution_count": 6,
   "id": "f15b260a",
   "metadata": {},
   "outputs": [
    {
     "name": "stdout",
     "output_type": "stream",
     "text": [
      "                           Filename Sorted\n",
      "0    2000-01-07-18-21-07_L5_rgb.jpg      1\n",
      "1    2000-04-12-18-20-29_L5_rgb.jpg      1\n",
      "2    2000-04-28-18-21-24_L5_rgb.jpg      0\n",
      "3    2000-08-02-18-23-18_L5_rgb.jpg      1\n",
      "4    2000-08-18-18-23-46_L5_rgb.jpg      0\n",
      "..                              ...    ...\n",
      "495  2018-12-26-18-45-57_L8_rgb.jpg      0\n",
      "496      2018-12-26-18-46-21_L8.jpg      1\n",
      "497      2018-12-27-16-03-10_S2.jpg      1\n",
      "498      2018-12-28-16-57-05_L8.jpg      1\n",
      "499      2018-12-28-17-15-43_S2.jpg      1\n",
      "\n",
      "[500 rows x 2 columns]\n",
      "                                              Filename Sorted\n",
      "500                         2018-12-29-15-51-40_S2.jpg      0\n",
      "501  2018-12-29-15-51-40_S2_2022-03-31__09_hr_48_mi...      0\n",
      "502  2018-12-29-15-51-40_S2_2022-03-31__09_hr_49_mi...      0\n",
      "503  2018-12-29-15-51-40_S2_2022-03-31__09_hr_50_mi...      0\n",
      "504  2018-12-29-15-51-40_S2_2022-03-31__09_hr_51_mi...      0\n",
      "..                                                 ...    ...\n",
      "736           2018-12-31-15-40-54_S2_ID02022-04-22.jpg      0\n",
      "737           2018-12-31-15-40-54_S2_ID12022-04-22.jpg      0\n",
      "738           2018-12-31-15-40-54_S2_ID22022-04-22.jpg      0\n",
      "739           2018-12-31-15-40-54_S2_ID32022-04-22.jpg      0\n",
      "740           2018-12-31-15-40-54_S2_ID42022-04-22.jpg      0\n",
      "\n",
      "[241 rows x 2 columns]\n"
     ]
    }
   ],
   "source": [
    "\n",
    "# Converted the sorted column to string otherwises data generator will not work\n",
    "df[\"Sorted\"]=df[\"Sorted\"].astype(str)\n",
    "# Split the dataframe into a train and test set into a .75 and .25 training and test set respectively\n",
    "traindf=df.iloc[:500,:] # get the first 500 rows\n",
    "testdf=df.iloc[500:,:] # get the  remaining 150 rows\n",
    "\n",
    "# Get the x and y column names from the csv file\n",
    "x_col_name=df.columns[0]\n",
    "y_col_name=df.columns[1]\n",
    "\n",
    "print(traindf)\n",
    "print(testdf)"
   ]
  },
  {
   "cell_type": "markdown",
   "id": "cf669819",
   "metadata": {},
   "source": [
    "## Flow the images from the dataframe\n",
    "- resize the images from 934 x 294 to 900x294\n",
    "- shuffle the images\n",
    "- divide the data into a training and validation subset\n",
    "- set a random seed\n",
    "- set the column names to check \n",
    "\n",
    "1. TASK: investigate class_mode\n",
    "2. TASK: modify the images target size"
   ]
  },
  {
   "cell_type": "code",
   "execution_count": 7,
   "id": "4b553451",
   "metadata": {},
   "outputs": [
    {
     "name": "stdout",
     "output_type": "stream",
     "text": [
      "Found 400 validated image filenames belonging to 2 classes.\n"
     ]
    }
   ],
   "source": [
    "train_generator=train_datagen.flow_from_dataframe(\n",
    "dataframe=traindf,\n",
    "directory=dataset_path,\n",
    "x_col=x_col_name, #image filenames\n",
    "y_col=y_col_name,   # class names in this case good/bad\n",
    "subset=\"training\",\n",
    "batch_size=25,\n",
    "seed=42,\n",
    "shuffle=True,\n",
    "class_mode=\"categorical\",\n",
    "target_size=(900,250))\n"
   ]
  },
  {
   "cell_type": "code",
   "execution_count": 8,
   "id": "5232b2e3",
   "metadata": {},
   "outputs": [
    {
     "name": "stdout",
     "output_type": "stream",
     "text": [
      "Found 100 validated image filenames belonging to 2 classes.\n"
     ]
    }
   ],
   "source": [
    "valid_generator=train_datagen.flow_from_dataframe(\n",
    "dataframe=traindf,\n",
    "directory=dataset_path,\n",
    "x_col=x_col_name, #image filenames\n",
    "y_col=y_col_name,   # class names in this case good/bad\n",
    "subset=\"validation\", #only difference is this\n",
    "batch_size=10, #135/6=15\n",
    "seed=42,\n",
    "shuffle=True,\n",
    "class_mode=\"categorical\",\n",
    "target_size=(900,250))"
   ]
  },
  {
   "cell_type": "code",
   "execution_count": 9,
   "id": "4dc3633b",
   "metadata": {},
   "outputs": [
    {
     "name": "stdout",
     "output_type": "stream",
     "text": [
      "Found 241 validated image filenames.\n"
     ]
    }
   ],
   "source": [
    "\n",
    "test_generator=test_datagen.flow_from_dataframe(\n",
    "dataframe=testdf,\n",
    "directory=\"./images/\",\n",
    "x_col=x_col_name, #image filenames\n",
    "y_col=None,\n",
    "batch_size=15, #136/6=15\n",
    "seed=42,\n",
    "shuffle=False,  #shuffle must be false for validation dataset otherwise labels will not match\n",
    "class_mode=None,\n",
    "target_size=(900,250))"
   ]
  },
  {
   "cell_type": "markdown",
   "id": "680e874f",
   "metadata": {},
   "source": [
    "## Create the Model\n",
    "Create a simple Sequential Model"
   ]
  },
  {
   "cell_type": "code",
   "execution_count": 10,
   "id": "ec859eda",
   "metadata": {},
   "outputs": [],
   "source": [
    "def prepare_model():\n",
    "    model = keras.Sequential()\n",
    "    model.add(Conv2D(32,kernel_size=(3,3),activation='relu',input_shape=(900, 250, 3)))\n",
    "    model.add(MaxPooling2D(pool_size=(2, 2)))\n",
    "    model.add(Conv2D(32, (3, 3),activation='relu'))\n",
    "    model.add(MaxPooling2D(pool_size=(2, 2)))\n",
    "    model.add(Conv2D(32, (3, 3),activation='relu'))\n",
    "    model.add(MaxPooling2D(pool_size=(2, 2)))\n",
    "    model.add(Dropout(0.25))\n",
    "    model.add(Flatten())\n",
    "    model.add(Dense(16, activation='relu'))\n",
    "    model.add(Dense(2, activation='sigmoid'))\n",
    "    model.compile(loss=\"binary_crossentropy\",optimizer=\"adam\",metrics=['accuracy'])\n",
    "    return model"
   ]
  },
  {
   "cell_type": "code",
   "execution_count": 11,
   "id": "2a595226",
   "metadata": {},
   "outputs": [
    {
     "name": "stdout",
     "output_type": "stream",
     "text": [
      "Epoch 1/10\n",
      "16/16 [==============================] - 87s 5s/step - loss: 0.8085 - accuracy: 0.5475 - val_loss: 0.6436 - val_accuracy: 0.5600\n",
      "Epoch 2/10\n",
      "16/16 [==============================] - 80s 5s/step - loss: 0.5494 - accuracy: 0.6100 - val_loss: 0.5350 - val_accuracy: 0.7320\n",
      "Epoch 3/10\n",
      "16/16 [==============================] - 83s 5s/step - loss: 0.5044 - accuracy: 0.7800 - val_loss: 0.4953 - val_accuracy: 0.7200\n",
      "Epoch 4/10\n",
      "16/16 [==============================] - 86s 5s/step - loss: 0.4894 - accuracy: 0.7875 - val_loss: 0.4862 - val_accuracy: 0.8080\n",
      "Epoch 5/10\n",
      "16/16 [==============================] - 87s 5s/step - loss: 0.4818 - accuracy: 0.7775 - val_loss: 0.4831 - val_accuracy: 0.8000\n",
      "Epoch 6/10\n",
      "16/16 [==============================] - 89s 6s/step - loss: 0.4600 - accuracy: 0.8175 - val_loss: 0.4552 - val_accuracy: 0.8120\n",
      "Epoch 7/10\n",
      "16/16 [==============================] - 110s 7s/step - loss: 0.4797 - accuracy: 0.8400 - val_loss: 0.4551 - val_accuracy: 0.8600\n",
      "Epoch 8/10\n",
      "16/16 [==============================] - 105s 7s/step - loss: 0.4882 - accuracy: 0.8100 - val_loss: 0.4856 - val_accuracy: 0.8000\n",
      "Epoch 9/10\n",
      "16/16 [==============================] - 103s 6s/step - loss: 0.4609 - accuracy: 0.8400 - val_loss: 0.4454 - val_accuracy: 0.8520\n",
      "Epoch 10/10\n",
      "16/16 [==============================] - 98s 6s/step - loss: 0.4670 - accuracy: 0.7925 - val_loss: 0.4132 - val_accuracy: 0.8760\n"
     ]
    },
    {
     "data": {
      "text/plain": [
       "<keras.callbacks.History at 0x219e1bf52c8>"
      ]
     },
     "execution_count": 11,
     "metadata": {},
     "output_type": "execute_result"
    }
   ],
   "source": [
    "model = prepare_model()\n",
    "model.fit(train_generator,\n",
    "                    validation_data = train_generator,\n",
    "                    steps_per_epoch = train_generator.n//train_generator.batch_size,\n",
    "                    validation_steps = valid_generator.n//valid_generator.batch_size,\n",
    "                    epochs=10)"
   ]
  },
  {
   "cell_type": "code",
   "execution_count": 12,
   "id": "1758970b",
   "metadata": {},
   "outputs": [
    {
     "name": "stdout",
     "output_type": "stream",
     "text": [
      "10/10 [==============================] - 12s 1s/step - loss: 0.4009 - accuracy: 0.8700\n",
      "Test loss: 0.40092357993125916\n",
      "Test accuracy: 0.8700000047683716\n"
     ]
    }
   ],
   "source": [
    "score = model.evaluate(valid_generator)\n",
    "print('Test loss:', score[0])\n",
    "print('Test accuracy:', score[1])"
   ]
  },
  {
   "cell_type": "code",
   "execution_count": 33,
   "id": "4b45a647",
   "metadata": {},
   "outputs": [
    {
     "data": {
      "text/plain": [
       "'C:\\\\Users\\\\Sharon\\\\Downloads\\\\ob-20220412T220737Z-001\\\\ob\\\\2017-09-25-18-52-27_L8_rgbr.jpg'"
      ]
     },
     "execution_count": 33,
     "metadata": {},
     "output_type": "execute_result"
    }
   ],
   "source": [
    "image_path=r\"C:\\Users\\Sharon\\Downloads\\duck-20220412T220723Z-001\\duck\"+os.sep+\"2000-04-12-18-20-29_L5_rgb.jpg\"\n",
    "image_path=r\"C:\\Users\\Sharon\\Downloads\\ob-20220412T220737Z-001\\ob\"+os.sep+\"2017-09-25-18-52-27_L8_rgbr.jpg\"\n",
    "image_path"
   ]
  },
  {
   "cell_type": "code",
   "execution_count": 34,
   "id": "68314cd4",
   "metadata": {},
   "outputs": [
    {
     "data": {
      "image/png": "[encoded data removed]",
      "text/plain": [
       "<PIL.Image.Image image mode=RGB size=250x900 at 0x2183713CAC8>"
      ]
     },
     "execution_count": 34,
     "metadata": {},
     "output_type": "execute_result"
    }
   ],
   "source": [
    "img = keras.preprocessing.image.load_img(\n",
    "    image_path, target_size=(900,250)\n",
    ")\n",
    "img"
   ]
  },
  {
   "cell_type": "code",
   "execution_count": 36,
   "id": "90dc0710",
   "metadata": {},
   "outputs": [
    {
     "data": {
      "text/plain": [
       "array([1., 0.], dtype=float32)"
      ]
     },
     "execution_count": 36,
     "metadata": {},
     "output_type": "execute_result"
    }
   ],
   "source": [
    "\n",
    "img_array = keras.preprocessing.image.img_to_array(img)\n",
    "img_array = tf.expand_dims(img_array, 0)  # Create batch axis\n",
    "\n",
    "predictions = model.predict(img_array)\n",
    "score = predictions[0]\n",
    "score\n"
   ]
  },
  {
   "cell_type": "code",
   "execution_count": 37,
   "id": "8e3d8b9a",
   "metadata": {},
   "outputs": [
    {
     "data": {
      "text/plain": [
       "0"
      ]
     },
     "execution_count": 37,
     "metadata": {},
     "output_type": "execute_result"
    }
   ],
   "source": [
    "label=score.argmax(axis=0)\n",
    "label"
   ]
  },
  {
   "cell_type": "code",
   "execution_count": 38,
   "id": "2f74dd53",
   "metadata": {},
   "outputs": [],
   "source": [
    "save_location=os.getcwd() +os.sep + \"models\"\n",
    "if not os.path.exists(save_location):\n",
    "    os.mkdir(save_location)"
   ]
  },
  {
   "cell_type": "code",
   "execution_count": 39,
   "id": "884085c1",
   "metadata": {},
   "outputs": [
    {
     "name": "stdout",
     "output_type": "stream",
     "text": [
      "INFO:tensorflow:Assets written to: c:\\1_USGS\\2_Machine_Learning\\1_tutorials_phase1\\1_scikitlearn\\models\\model3\\assets\n"
     ]
    }
   ],
   "source": [
    "model_save_location=save_location+os.sep + \"model3\"\n",
    "model.save(model_save_location)"
   ]
  },
  {
   "cell_type": "code",
   "execution_count": 41,
   "id": "f3542ffc",
   "metadata": {},
   "outputs": [],
   "source": [
    "# Write the test scores to a file\n",
    "import csv\n",
    "csv_file_path=os.getcwd()+os.sep+\"test_results\"+os.sep+\"modelScores.csv\"\n",
    "if not os.path.exists(csv_file_path):\n",
    "    with open(csv_file_path, 'w', newline='') as outcsv:\n",
    "        writer = csv.writer(outcsv)\n",
    "        writer.writerow([\"Accuracy\", \"Test Loss\", \"Model Description\"])\n",
    "elif os.path.exists(csv_file_path):\n",
    "    with open(csv_file_path, 'a', newline='') as outcsv:\n",
    "            writer = csv.writer(outcsv)\n",
    "            writer.writerow([score[1], score[0], \"refined model with data pipeline 4.22.2022\"])\n"
   ]
  }
 ],
 "metadata": {
  "kernelspec": {
   "display_name": "Python 3 (ipykernel)",
   "language": "python",
   "name": "python3"
  },
  "language_info": {
   "codemirror_mode": {
    "name": "ipython",
    "version": 3
   },
   "file_extension": ".py",
   "mimetype": "text/x-python",
   "name": "python",
   "nbconvert_exporter": "python",
   "pygments_lexer": "ipython3",
   "version": "3.7.11"
  }
 },
 "nbformat": 4,
 "nbformat_minor": 5
}
