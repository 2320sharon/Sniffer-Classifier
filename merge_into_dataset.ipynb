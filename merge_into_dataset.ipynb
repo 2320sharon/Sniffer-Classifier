{
 "cells": [
  {
   "cell_type": "code",
   "execution_count": 1,
   "metadata": {},
   "outputs": [],
   "source": [
    "import pandas as pd\n",
    "import numpy as np\n",
    "import csv\n",
    "import os\n",
    "import glob"
   ]
  },
  {
   "cell_type": "code",
   "execution_count": 2,
   "metadata": {},
   "outputs": [],
   "source": [
    "csv_path=os.getcwd() + os.sep+\"csv\"\n",
    "image_path=os.getcwd() + os.sep+\"images\"\n",
    "column_names=[\"Filename\",\"Sorted\"]\n",
    "master_df=pd.DataFrame(columns = column_names)"
   ]
  },
  {
   "cell_type": "markdown",
   "metadata": {},
   "source": [
    "## Combine all the CSVs into a single dataframe\n",
    "1. Read in the csv files as dataframes\n",
    "2. Append each dataframe to the master dataframe\n",
    "3. Return the master dataframe"
   ]
  },
  {
   "cell_type": "code",
   "execution_count": 3,
   "metadata": {},
   "outputs": [
    {
     "name": "stdout",
     "output_type": "stream",
     "text": [
      "                                     Filename Sorted  index\n",
      "0              2000-01-07-18-21-07_L5_rgb.jpg    bad    0.0\n",
      "1              2000-04-12-18-20-29_L5_rgb.jpg    bad    1.0\n",
      "2              2000-04-28-18-21-24_L5_rgb.jpg   good    2.0\n",
      "3              2000-08-02-18-23-18_L5_rgb.jpg    bad    3.0\n",
      "4              2000-08-18-18-23-46_L5_rgb.jpg   good    4.0\n",
      "..                                        ...    ...    ...\n",
      "772  2018-12-31-15-40-54_S2_ID02022-04-22.jpg   good  110.0\n",
      "773  2018-12-31-15-40-54_S2_ID12022-04-22.jpg   good  111.0\n",
      "774  2018-12-31-15-40-54_S2_ID22022-04-22.jpg   good  112.0\n",
      "775  2018-12-31-15-40-54_S2_ID32022-04-22.jpg   good  113.0\n",
      "776  2018-12-31-15-40-54_S2_ID42022-04-22.jpg   good  114.0\n",
      "\n",
      "[777 rows x 3 columns]\n"
     ]
    }
   ],
   "source": [
    "for file in glob.glob(csv_path+os.sep+\"*csv\"):\n",
    "    df=pd.read_csv(file)\n",
    "    master_df=master_df.append(df,ignore_index = True)\n",
    "print(master_df)"
   ]
  },
  {
   "cell_type": "markdown",
   "metadata": {},
   "source": [
    "## Perform Data Cleaning on the Master_df\n",
    "1. Drop the index columns\n",
    "2. Drop any rows with duplicate filenames\n",
    "3. Create a new csv called `main.csv`. This will replace the former `main.csv`"
   ]
  },
  {
   "cell_type": "code",
   "execution_count": 4,
   "metadata": {},
   "outputs": [
    {
     "name": "stdout",
     "output_type": "stream",
     "text": [
      "684    2018-12-06-15-54-55_L8_ID02022-04-21.jpg\n",
      "685    2018-12-06-15-54-55_L8_ID12022-04-21.jpg\n",
      "686    2018-12-06-15-54-55_L8_ID22022-04-21.jpg\n",
      "687    2018-12-06-15-54-55_L8_ID32022-04-21.jpg\n",
      "688    2018-12-06-15-54-55_L8_ID42022-04-21.jpg\n",
      "689    2018-12-06-15-54-55_L8_ID52022-04-21.jpg\n",
      "720    2018-12-22-15-54-53_L8_ID02022-04-21.jpg\n",
      "721    2018-12-22-15-54-53_L8_ID12022-04-21.jpg\n",
      "722    2018-12-22-15-54-53_L8_ID22022-04-21.jpg\n",
      "723    2018-12-22-15-54-53_L8_ID32022-04-21.jpg\n",
      "724    2018-12-22-15-54-53_L8_ID42022-04-21.jpg\n",
      "725    2018-12-22-15-54-53_L8_ID52022-04-21.jpg\n",
      "736    2018-12-25-16-14-56_S2_ID02022-04-21.jpg\n",
      "737    2018-12-25-16-14-56_S2_ID12022-04-21.jpg\n",
      "738    2018-12-25-16-14-56_S2_ID22022-04-21.jpg\n",
      "739    2018-12-25-16-14-56_S2_ID32022-04-21.jpg\n",
      "740    2018-12-25-16-14-56_S2_ID42022-04-21.jpg\n",
      "741    2018-12-25-16-14-56_S2_ID52022-04-21.jpg\n",
      "Name: Filename, dtype: object\n",
      "c:\\1_USGS\\2_Machine_Learning\\3_sniffer_classifier\\images\\2018-12-06-15-54-55_L8_ID02022-04-21.jpg \n",
      "Removing duplicated c:\\1_USGS\\2_Machine_Learning\\3_sniffer_classifier\\images\\2018-12-06-15-54-55_L8_ID02022-04-21.jpg \n",
      "c:\\1_USGS\\2_Machine_Learning\\3_sniffer_classifier\\images\\2018-12-06-15-54-55_L8_ID12022-04-21.jpg \n",
      "Removing duplicated c:\\1_USGS\\2_Machine_Learning\\3_sniffer_classifier\\images\\2018-12-06-15-54-55_L8_ID12022-04-21.jpg \n",
      "c:\\1_USGS\\2_Machine_Learning\\3_sniffer_classifier\\images\\2018-12-06-15-54-55_L8_ID22022-04-21.jpg \n",
      "Removing duplicated c:\\1_USGS\\2_Machine_Learning\\3_sniffer_classifier\\images\\2018-12-06-15-54-55_L8_ID22022-04-21.jpg \n",
      "c:\\1_USGS\\2_Machine_Learning\\3_sniffer_classifier\\images\\2018-12-06-15-54-55_L8_ID32022-04-21.jpg \n",
      "Removing duplicated c:\\1_USGS\\2_Machine_Learning\\3_sniffer_classifier\\images\\2018-12-06-15-54-55_L8_ID32022-04-21.jpg \n",
      "c:\\1_USGS\\2_Machine_Learning\\3_sniffer_classifier\\images\\2018-12-06-15-54-55_L8_ID42022-04-21.jpg \n",
      "Removing duplicated c:\\1_USGS\\2_Machine_Learning\\3_sniffer_classifier\\images\\2018-12-06-15-54-55_L8_ID42022-04-21.jpg \n",
      "c:\\1_USGS\\2_Machine_Learning\\3_sniffer_classifier\\images\\2018-12-06-15-54-55_L8_ID52022-04-21.jpg \n",
      "Removing duplicated c:\\1_USGS\\2_Machine_Learning\\3_sniffer_classifier\\images\\2018-12-06-15-54-55_L8_ID52022-04-21.jpg \n",
      "c:\\1_USGS\\2_Machine_Learning\\3_sniffer_classifier\\images\\2018-12-22-15-54-53_L8_ID02022-04-21.jpg \n",
      "Removing duplicated c:\\1_USGS\\2_Machine_Learning\\3_sniffer_classifier\\images\\2018-12-22-15-54-53_L8_ID02022-04-21.jpg \n",
      "c:\\1_USGS\\2_Machine_Learning\\3_sniffer_classifier\\images\\2018-12-22-15-54-53_L8_ID12022-04-21.jpg \n",
      "Removing duplicated c:\\1_USGS\\2_Machine_Learning\\3_sniffer_classifier\\images\\2018-12-22-15-54-53_L8_ID12022-04-21.jpg \n",
      "c:\\1_USGS\\2_Machine_Learning\\3_sniffer_classifier\\images\\2018-12-22-15-54-53_L8_ID22022-04-21.jpg \n",
      "Removing duplicated c:\\1_USGS\\2_Machine_Learning\\3_sniffer_classifier\\images\\2018-12-22-15-54-53_L8_ID22022-04-21.jpg \n",
      "c:\\1_USGS\\2_Machine_Learning\\3_sniffer_classifier\\images\\2018-12-22-15-54-53_L8_ID32022-04-21.jpg \n",
      "Removing duplicated c:\\1_USGS\\2_Machine_Learning\\3_sniffer_classifier\\images\\2018-12-22-15-54-53_L8_ID32022-04-21.jpg \n",
      "c:\\1_USGS\\2_Machine_Learning\\3_sniffer_classifier\\images\\2018-12-22-15-54-53_L8_ID42022-04-21.jpg \n",
      "Removing duplicated c:\\1_USGS\\2_Machine_Learning\\3_sniffer_classifier\\images\\2018-12-22-15-54-53_L8_ID42022-04-21.jpg \n",
      "c:\\1_USGS\\2_Machine_Learning\\3_sniffer_classifier\\images\\2018-12-22-15-54-53_L8_ID52022-04-21.jpg \n",
      "Removing duplicated c:\\1_USGS\\2_Machine_Learning\\3_sniffer_classifier\\images\\2018-12-22-15-54-53_L8_ID52022-04-21.jpg \n",
      "c:\\1_USGS\\2_Machine_Learning\\3_sniffer_classifier\\images\\2018-12-25-16-14-56_S2_ID02022-04-21.jpg \n",
      "Removing duplicated c:\\1_USGS\\2_Machine_Learning\\3_sniffer_classifier\\images\\2018-12-25-16-14-56_S2_ID02022-04-21.jpg \n",
      "c:\\1_USGS\\2_Machine_Learning\\3_sniffer_classifier\\images\\2018-12-25-16-14-56_S2_ID12022-04-21.jpg \n",
      "Removing duplicated c:\\1_USGS\\2_Machine_Learning\\3_sniffer_classifier\\images\\2018-12-25-16-14-56_S2_ID12022-04-21.jpg \n",
      "c:\\1_USGS\\2_Machine_Learning\\3_sniffer_classifier\\images\\2018-12-25-16-14-56_S2_ID22022-04-21.jpg \n",
      "Removing duplicated c:\\1_USGS\\2_Machine_Learning\\3_sniffer_classifier\\images\\2018-12-25-16-14-56_S2_ID22022-04-21.jpg \n",
      "c:\\1_USGS\\2_Machine_Learning\\3_sniffer_classifier\\images\\2018-12-25-16-14-56_S2_ID32022-04-21.jpg \n",
      "Removing duplicated c:\\1_USGS\\2_Machine_Learning\\3_sniffer_classifier\\images\\2018-12-25-16-14-56_S2_ID32022-04-21.jpg \n",
      "c:\\1_USGS\\2_Machine_Learning\\3_sniffer_classifier\\images\\2018-12-25-16-14-56_S2_ID42022-04-21.jpg \n",
      "Removing duplicated c:\\1_USGS\\2_Machine_Learning\\3_sniffer_classifier\\images\\2018-12-25-16-14-56_S2_ID42022-04-21.jpg \n",
      "c:\\1_USGS\\2_Machine_Learning\\3_sniffer_classifier\\images\\2018-12-25-16-14-56_S2_ID52022-04-21.jpg \n",
      "Removing duplicated c:\\1_USGS\\2_Machine_Learning\\3_sniffer_classifier\\images\\2018-12-25-16-14-56_S2_ID52022-04-21.jpg \n",
      "c:\\1_USGS\\2_Machine_Learning\\3_sniffer_classifier\\images\\2018-12-06-15-54-55_L8_ID02022-04-21.jpg \n",
      "c:\\1_USGS\\2_Machine_Learning\\3_sniffer_classifier\\images\\2018-12-06-15-54-55_L8_ID12022-04-21.jpg \n",
      "c:\\1_USGS\\2_Machine_Learning\\3_sniffer_classifier\\images\\2018-12-06-15-54-55_L8_ID22022-04-21.jpg \n",
      "c:\\1_USGS\\2_Machine_Learning\\3_sniffer_classifier\\images\\2018-12-06-15-54-55_L8_ID32022-04-21.jpg \n",
      "c:\\1_USGS\\2_Machine_Learning\\3_sniffer_classifier\\images\\2018-12-06-15-54-55_L8_ID42022-04-21.jpg \n",
      "c:\\1_USGS\\2_Machine_Learning\\3_sniffer_classifier\\images\\2018-12-06-15-54-55_L8_ID52022-04-21.jpg \n",
      "c:\\1_USGS\\2_Machine_Learning\\3_sniffer_classifier\\images\\2018-12-22-15-54-53_L8_ID02022-04-21.jpg \n",
      "c:\\1_USGS\\2_Machine_Learning\\3_sniffer_classifier\\images\\2018-12-22-15-54-53_L8_ID12022-04-21.jpg \n",
      "c:\\1_USGS\\2_Machine_Learning\\3_sniffer_classifier\\images\\2018-12-22-15-54-53_L8_ID22022-04-21.jpg \n",
      "c:\\1_USGS\\2_Machine_Learning\\3_sniffer_classifier\\images\\2018-12-22-15-54-53_L8_ID32022-04-21.jpg \n",
      "c:\\1_USGS\\2_Machine_Learning\\3_sniffer_classifier\\images\\2018-12-22-15-54-53_L8_ID42022-04-21.jpg \n",
      "c:\\1_USGS\\2_Machine_Learning\\3_sniffer_classifier\\images\\2018-12-22-15-54-53_L8_ID52022-04-21.jpg \n",
      "c:\\1_USGS\\2_Machine_Learning\\3_sniffer_classifier\\images\\2018-12-25-16-14-56_S2_ID02022-04-21.jpg \n",
      "c:\\1_USGS\\2_Machine_Learning\\3_sniffer_classifier\\images\\2018-12-25-16-14-56_S2_ID12022-04-21.jpg \n",
      "c:\\1_USGS\\2_Machine_Learning\\3_sniffer_classifier\\images\\2018-12-25-16-14-56_S2_ID22022-04-21.jpg \n",
      "c:\\1_USGS\\2_Machine_Learning\\3_sniffer_classifier\\images\\2018-12-25-16-14-56_S2_ID32022-04-21.jpg \n",
      "c:\\1_USGS\\2_Machine_Learning\\3_sniffer_classifier\\images\\2018-12-25-16-14-56_S2_ID42022-04-21.jpg \n",
      "c:\\1_USGS\\2_Machine_Learning\\3_sniffer_classifier\\images\\2018-12-25-16-14-56_S2_ID52022-04-21.jpg \n"
     ]
    }
   ],
   "source": [
    "if True in master_df.duplicated(\"Filename\") :\n",
    "    # Get all the duplicated filenames\n",
    "    print(master_df[master_df.duplicated(\"Filename\")][\"Filename\"])\n",
    "    duplicates=master_df[master_df.duplicated(\"Filename\",keep=False)][\"Filename\"]\n",
    "    master_df.drop_duplicates(subset='Filename',keep=False, inplace = True)\n",
    "    # Delete all the jpgs with duplicate file names\n",
    "    for image in duplicates:\n",
    "        img=image_path+os.sep+image\n",
    "        print(f\"{img} \")\n",
    "        if os.path.exists(img):\n",
    "            print(f\"Removing duplicated {img} \")\n",
    "            os.remove(img)\n",
    "\n",
    "\n",
    "    "
   ]
  },
  {
   "cell_type": "code",
   "execution_count": 5,
   "metadata": {},
   "outputs": [],
   "source": [
    "master_df=master_df[master_df[\"Filename\"].isin(np.setdiff1d(master_df[\"Filename\"],pd.Series(glob.glob1(image_path+os.sep,\"*jpg\")))) == False]"
   ]
  },
  {
   "cell_type": "code",
   "execution_count": 6,
   "metadata": {},
   "outputs": [
    {
     "data": {
      "text/html": [
       "<div>\n",
       "<style scoped>\n",
       "    .dataframe tbody tr th:only-of-type {\n",
       "        vertical-align: middle;\n",
       "    }\n",
       "\n",
       "    .dataframe tbody tr th {\n",
       "        vertical-align: top;\n",
       "    }\n",
       "\n",
       "    .dataframe thead th {\n",
       "        text-align: right;\n",
       "    }\n",
       "</style>\n",
       "<table border=\"1\" class=\"dataframe\">\n",
       "  <thead>\n",
       "    <tr style=\"text-align: right;\">\n",
       "      <th></th>\n",
       "      <th>Filename</th>\n",
       "      <th>Sorted</th>\n",
       "      <th>index</th>\n",
       "    </tr>\n",
       "  </thead>\n",
       "  <tbody>\n",
       "    <tr>\n",
       "      <th>0</th>\n",
       "      <td>2000-01-07-18-21-07_L5_rgb.jpg</td>\n",
       "      <td>bad</td>\n",
       "      <td>0.0</td>\n",
       "    </tr>\n",
       "    <tr>\n",
       "      <th>1</th>\n",
       "      <td>2000-04-12-18-20-29_L5_rgb.jpg</td>\n",
       "      <td>bad</td>\n",
       "      <td>1.0</td>\n",
       "    </tr>\n",
       "    <tr>\n",
       "      <th>2</th>\n",
       "      <td>2000-04-28-18-21-24_L5_rgb.jpg</td>\n",
       "      <td>good</td>\n",
       "      <td>2.0</td>\n",
       "    </tr>\n",
       "    <tr>\n",
       "      <th>3</th>\n",
       "      <td>2000-08-02-18-23-18_L5_rgb.jpg</td>\n",
       "      <td>bad</td>\n",
       "      <td>3.0</td>\n",
       "    </tr>\n",
       "    <tr>\n",
       "      <th>4</th>\n",
       "      <td>2000-08-18-18-23-46_L5_rgb.jpg</td>\n",
       "      <td>good</td>\n",
       "      <td>4.0</td>\n",
       "    </tr>\n",
       "    <tr>\n",
       "      <th>...</th>\n",
       "      <td>...</td>\n",
       "      <td>...</td>\n",
       "      <td>...</td>\n",
       "    </tr>\n",
       "    <tr>\n",
       "      <th>772</th>\n",
       "      <td>2018-12-31-15-40-54_S2_ID02022-04-22.jpg</td>\n",
       "      <td>good</td>\n",
       "      <td>110.0</td>\n",
       "    </tr>\n",
       "    <tr>\n",
       "      <th>773</th>\n",
       "      <td>2018-12-31-15-40-54_S2_ID12022-04-22.jpg</td>\n",
       "      <td>good</td>\n",
       "      <td>111.0</td>\n",
       "    </tr>\n",
       "    <tr>\n",
       "      <th>774</th>\n",
       "      <td>2018-12-31-15-40-54_S2_ID22022-04-22.jpg</td>\n",
       "      <td>good</td>\n",
       "      <td>112.0</td>\n",
       "    </tr>\n",
       "    <tr>\n",
       "      <th>775</th>\n",
       "      <td>2018-12-31-15-40-54_S2_ID32022-04-22.jpg</td>\n",
       "      <td>good</td>\n",
       "      <td>113.0</td>\n",
       "    </tr>\n",
       "    <tr>\n",
       "      <th>776</th>\n",
       "      <td>2018-12-31-15-40-54_S2_ID42022-04-22.jpg</td>\n",
       "      <td>good</td>\n",
       "      <td>114.0</td>\n",
       "    </tr>\n",
       "  </tbody>\n",
       "</table>\n",
       "<p>741 rows × 3 columns</p>\n",
       "</div>"
      ],
      "text/plain": [
       "                                     Filename Sorted  index\n",
       "0              2000-01-07-18-21-07_L5_rgb.jpg    bad    0.0\n",
       "1              2000-04-12-18-20-29_L5_rgb.jpg    bad    1.0\n",
       "2              2000-04-28-18-21-24_L5_rgb.jpg   good    2.0\n",
       "3              2000-08-02-18-23-18_L5_rgb.jpg    bad    3.0\n",
       "4              2000-08-18-18-23-46_L5_rgb.jpg   good    4.0\n",
       "..                                        ...    ...    ...\n",
       "772  2018-12-31-15-40-54_S2_ID02022-04-22.jpg   good  110.0\n",
       "773  2018-12-31-15-40-54_S2_ID12022-04-22.jpg   good  111.0\n",
       "774  2018-12-31-15-40-54_S2_ID22022-04-22.jpg   good  112.0\n",
       "775  2018-12-31-15-40-54_S2_ID32022-04-22.jpg   good  113.0\n",
       "776  2018-12-31-15-40-54_S2_ID42022-04-22.jpg   good  114.0\n",
       "\n",
       "[741 rows x 3 columns]"
      ]
     },
     "execution_count": 6,
     "metadata": {},
     "output_type": "execute_result"
    }
   ],
   "source": [
    "master_df"
   ]
  },
  {
   "cell_type": "code",
   "execution_count": 158,
   "metadata": {},
   "outputs": [],
   "source": [
    "if \"index\" in master_df.columns:\n",
    "    master_df.drop(['index'],axis=1,inplace=True)\n",
    "\n",
    "master_df.to_csv(\"master.csv\")"
   ]
  },
  {
   "cell_type": "code",
   "execution_count": null,
   "metadata": {},
   "outputs": [],
   "source": []
  }
 ],
 "metadata": {
  "interpreter": {
   "hash": "3d2172767698a5f3d02b8c0066e6c8964018f76571aae7a5af18f1bff83069ee"
  },
  "kernelspec": {
   "display_name": "Python 3.7.11 ('machine_learning')",
   "language": "python",
   "name": "python3"
  },
  "language_info": {
   "codemirror_mode": {
    "name": "ipython",
    "version": 3
   },
   "file_extension": ".py",
   "mimetype": "text/x-python",
   "name": "python",
   "nbconvert_exporter": "python",
   "pygments_lexer": "ipython3",
   "version": "3.7.11"
  },
  "orig_nbformat": 4
 },
 "nbformat": 4,
 "nbformat_minor": 2
}
