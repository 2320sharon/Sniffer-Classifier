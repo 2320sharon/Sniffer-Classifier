{
 "cells": [
  {
   "cell_type": "markdown",
   "id": "eff3dfeb",
   "metadata": {},
   "source": [
    "# Sniffer Classifer\n",
    "- Author: Sharon Fitzpatrick \n",
    "- Date April 2022\n",
    "</br>\n",
    "</br>\n",
    "CNN that distinguishes between \"good\" and \"bad\" imagery. Based on the image sorting tool Sniffer. Intended purpose is to quickly sort through geospatial imagery and filter out bad imagery such as images with large segments missing, cloudy  images, or images with errors."
   ]
  },
  {
   "cell_type": "code",
   "execution_count": 1,
   "id": "b2f44b38",
   "metadata": {},
   "outputs": [],
   "source": [
    "import matplotlib.pyplot as plt\n",
    "from skimage import io\n",
    "\n",
    "import glob\n",
    "import os\n",
    "import pandas as pd\n",
    "import numpy as np\n",
    "\n",
    "import tensorflow as tf\n",
    "from tensorflow import keras\n",
    "\n",
    "from keras_preprocessing.image import ImageDataGenerator\n",
    "from keras_preprocessing.image import ImageDataGenerator\n",
    "from keras.layers import Dense, Flatten, Dropout\n",
    "from keras.layers import Conv2D, MaxPooling2D\n",
    "from keras.metrics import BinaryAccuracy, FalseNegatives, FalsePositives, TrueNegatives,TruePositives, Precision, Recall, AUC\n",
    "\n",
    "# Allows for matplot's to be displayed inline\n",
    "%matplotlib inline"
   ]
  },
  {
   "cell_type": "markdown",
   "id": "3dc9187c",
   "metadata": {},
   "source": [
    "## Local Variables\n",
    "Use these variables to change the training parameters for your CNN.\n",
    "- `dataset_path`: directory containing the  unzipped imagery\n",
    "- `img_shape` : shape (width , height) your imagery will be resized to. These are inputs into the model.\n",
    "- `imgs`: list containing all the jpgs  the model will be trained on"
   ]
  },
  {
   "cell_type": "code",
   "execution_count": 2,
   "id": "66810c20",
   "metadata": {},
   "outputs": [
    {
     "name": "stdout",
     "output_type": "stream",
     "text": [
      "In c:\\1_USGS\\2_Machine_Learning\\3_sniffer_classifier\\Sniffer-Classifier\\images there are 1516 images\n"
     ]
    }
   ],
   "source": [
    "dataset_path=os.getcwd()+os.sep+\"images\"\n",
    "imgs=glob.glob(dataset_path+os.sep+\"*.jpg\")\n",
    "img_shape=(100, 100)\n",
    "print(\"In {0} there are {1:n} images\".format(dataset_path,len(imgs)))"
   ]
  },
  {
   "cell_type": "markdown",
   "id": "0aca7869",
   "metadata": {},
   "source": [
    "## Augmenting the Dataset\n",
    "Create an image generator to apply augmentations to the imagery.\n",
    "- standardizes the image sizes \n",
    "- applies zooms, flips, rotations to the imagery"
   ]
  },
  {
   "cell_type": "code",
   "execution_count": 3,
   "id": "587541d8",
   "metadata": {},
   "outputs": [],
   "source": [
    "train_datagen=ImageDataGenerator(\n",
    "samplewise_std_normalization=True,\n",
    "rotation_range=20,\n",
    "zoom_range=0.05,\n",
    "width_shift_range=0.05,\n",
    "height_shift_range=0.05,\n",
    "shear_range=0.05,\n",
    "horizontal_flip=True,\n",
    "fill_mode=\"nearest\",\n",
    "validation_split=0.20\n",
    ")\n",
    "# Not used at all in the code\n",
    "test_datagen=ImageDataGenerator(samplewise_std_normalization=True,)\n"
   ]
  },
  {
   "cell_type": "markdown",
   "id": "3d73ed02",
   "metadata": {},
   "source": [
    "# Read in the  csv file and transform in df\n",
    "1. Read in the csv\n",
    "2. Clean the csv by dropping unused columns\n",
    "3. Encode the categorical labels to binary labels consisting of 0 and 1"
   ]
  },
  {
   "cell_type": "code",
   "execution_count": 4,
   "id": "baaeaff3",
   "metadata": {},
   "outputs": [],
   "source": [
    "def clean_csv(csv: str):\n",
    "    \"\"\"Takes in the name of the csv file to clean (ex. 'master.csv') and a list labels to one hot encode.\n",
    "        Returns the modified dataframe.\n",
    "    \"\"\"\n",
    "    df =  pd.read_csv(csv)\n",
    "    if \"index\" in df.columns:\n",
    "        print(\"Dropping column index\")\n",
    "        df.drop(['index'],axis=1,inplace=True)\n",
    "    if \"Index\" in df.columns:\n",
    "        print(\"Dropping column Index\")\n",
    "        df.drop(['Index'],axis=1,inplace=True)\n",
    "    if \"Unnamed: 0\"in df.columns:\n",
    "        print(\"Dropping column Unnamed: 0\")\n",
    "        df.drop(['Unnamed: 0'],axis=1,inplace=True)\n",
    "    if \"Unnamed: 0.1\"in df.columns:\n",
    "        print(\"Dropping column Unnamed: 0.1\")\n",
    "        df.drop(['Unnamed: 0.1'],axis=1,inplace=True)\n",
    "    return df"
   ]
  },
  {
   "cell_type": "code",
   "execution_count": 5,
   "id": "00d6fbc9",
   "metadata": {},
   "outputs": [],
   "source": [
    "def binary_encode_labels(df:'pandas.core.frame.DataFrame',labels=[\"bad\",\"good\"]):\n",
    "  \"\"\" Returns the modified dataframe with the labels encoded as binary labels of 0 and 1\"\"\"\n",
    "  mapping = {}\n",
    "  df[\"Filename\"]=df[\"Filename\"].astype(str)\n",
    "  df[\"Sorted\"]=df[\"Sorted\"].astype(str)\n",
    "  if df[\"Sorted\"].str.contains('|'.join( [\"good\",\"bad\"])).any():\n",
    "    for x in range(len(labels)):\n",
    "      mapping[labels[x]] = x\n",
    "    # outputs {'good': 0, 'bad': 1}\n",
    "    # Replace each label in sorted with corresponding one hot encoded label\n",
    "    for x in range(len(df['Sorted'])):\n",
    "      df['Sorted'][x] = mapping[df['Sorted'][x]]\n",
    "    df[\"Sorted\"]=df[\"Sorted\"].astype(str)\n",
    "  return df"
   ]
  },
  {
   "cell_type": "code",
   "execution_count": 6,
   "id": "fa6dea1c",
   "metadata": {},
   "outputs": [],
   "source": [
    "def prep_dataset(csv:str):\n",
    "    # Clean the dataset read from the csv file\n",
    "    df=clean_csv(csv)\n",
    "    # Encode the categorical labels to binary labels of 0 and 1\n",
    "    df=binary_encode_labels(df)\n",
    "    return df"
   ]
  },
  {
   "cell_type": "code",
   "execution_count": 7,
   "id": "e0a40bfc",
   "metadata": {},
   "outputs": [
    {
     "name": "stdout",
     "output_type": "stream",
     "text": [
      "Dropping column Unnamed: 0\n"
     ]
    },
    {
     "data": {
      "text/html": [
       "<div>\n",
       "<style scoped>\n",
       "    .dataframe tbody tr th:only-of-type {\n",
       "        vertical-align: middle;\n",
       "    }\n",
       "\n",
       "    .dataframe tbody tr th {\n",
       "        vertical-align: top;\n",
       "    }\n",
       "\n",
       "    .dataframe thead th {\n",
       "        text-align: right;\n",
       "    }\n",
       "</style>\n",
       "<table border=\"1\" class=\"dataframe\">\n",
       "  <thead>\n",
       "    <tr style=\"text-align: right;\">\n",
       "      <th></th>\n",
       "      <th>Filename</th>\n",
       "      <th>Sorted</th>\n",
       "    </tr>\n",
       "  </thead>\n",
       "  <tbody>\n",
       "    <tr>\n",
       "      <th>0</th>\n",
       "      <td>2000-01-07-18-21-07_L5_rgb.jpg</td>\n",
       "      <td>0</td>\n",
       "    </tr>\n",
       "    <tr>\n",
       "      <th>1</th>\n",
       "      <td>2000-04-12-18-20-29_L5_rgb.jpg</td>\n",
       "      <td>0</td>\n",
       "    </tr>\n",
       "    <tr>\n",
       "      <th>2</th>\n",
       "      <td>2000-04-28-18-21-24_L5_rgb.jpg</td>\n",
       "      <td>1</td>\n",
       "    </tr>\n",
       "    <tr>\n",
       "      <th>3</th>\n",
       "      <td>2000-08-02-18-23-18_L5_rgb.jpg</td>\n",
       "      <td>0</td>\n",
       "    </tr>\n",
       "    <tr>\n",
       "      <th>4</th>\n",
       "      <td>2000-08-18-18-23-46_L5_rgb.jpg</td>\n",
       "      <td>1</td>\n",
       "    </tr>\n",
       "    <tr>\n",
       "      <th>...</th>\n",
       "      <td>...</td>\n",
       "      <td>...</td>\n",
       "    </tr>\n",
       "    <tr>\n",
       "      <th>1511</th>\n",
       "      <td>2018-12-31-16-35-16_S2_ID12022-05-09.jpg</td>\n",
       "      <td>0</td>\n",
       "    </tr>\n",
       "    <tr>\n",
       "      <th>1512</th>\n",
       "      <td>2018-12-31-16-35-16_S2_ID52022-05-09.jpg</td>\n",
       "      <td>0</td>\n",
       "    </tr>\n",
       "    <tr>\n",
       "      <th>1513</th>\n",
       "      <td>2018-12-31-16-35-16_S2_ID32022-05-09.jpg</td>\n",
       "      <td>0</td>\n",
       "    </tr>\n",
       "    <tr>\n",
       "      <th>1514</th>\n",
       "      <td>2018-12-31-16-35-16_S2_ID42022-05-09.jpg</td>\n",
       "      <td>0</td>\n",
       "    </tr>\n",
       "    <tr>\n",
       "      <th>1515</th>\n",
       "      <td>2018-12-31-16-35-16_S2_ID62022-05-09.jpg</td>\n",
       "      <td>0</td>\n",
       "    </tr>\n",
       "  </tbody>\n",
       "</table>\n",
       "<p>1516 rows × 2 columns</p>\n",
       "</div>"
      ],
      "text/plain": [
       "                                      Filename Sorted\n",
       "0               2000-01-07-18-21-07_L5_rgb.jpg      0\n",
       "1               2000-04-12-18-20-29_L5_rgb.jpg      0\n",
       "2               2000-04-28-18-21-24_L5_rgb.jpg      1\n",
       "3               2000-08-02-18-23-18_L5_rgb.jpg      0\n",
       "4               2000-08-18-18-23-46_L5_rgb.jpg      1\n",
       "...                                        ...    ...\n",
       "1511  2018-12-31-16-35-16_S2_ID12022-05-09.jpg      0\n",
       "1512  2018-12-31-16-35-16_S2_ID52022-05-09.jpg      0\n",
       "1513  2018-12-31-16-35-16_S2_ID32022-05-09.jpg      0\n",
       "1514  2018-12-31-16-35-16_S2_ID42022-05-09.jpg      0\n",
       "1515  2018-12-31-16-35-16_S2_ID62022-05-09.jpg      0\n",
       "\n",
       "[1516 rows x 2 columns]"
      ]
     },
     "execution_count": 7,
     "metadata": {},
     "output_type": "execute_result"
    }
   ],
   "source": [
    "df=prep_dataset(\"master.csv\")\n",
    "df"
   ]
  },
  {
   "cell_type": "markdown",
   "id": "c130232c",
   "metadata": {},
   "source": [
    "## Random OverSampling\n",
    "Currently the dataset is imbalanced because the number of good and bad samples are not equal to each other.\n",
    "Use Random oversampling so that the the number of samples in both classes are equal."
   ]
  },
  {
   "cell_type": "code",
   "execution_count": 8,
   "id": "dfd0815f",
   "metadata": {},
   "outputs": [],
   "source": [
    "def random_oversampling(df,over_sample_class):\n",
    "    \"\"\"Apply random oversampling to the dataframe\"\"\"\n",
    "    # Count the number of entries in both classes\n",
    "    class_count_1,class_count_0=df['Sorted'].value_counts()['1'],df['Sorted'].value_counts()['0']\n",
    "    # Divide the dataframe into the two classes\n",
    "    class_0_df=df[df[\"Sorted\"]=='0']\n",
    "    # print(class_0_df)\n",
    "    class_1_df=df[df[\"Sorted\"]=='1']\n",
    "    # print(class_1_df)\n",
    "    # Oversample the the dataframe\n",
    "    if over_sample_class == 0:\n",
    "        # Oversample the 0 class by taking the class_0_df and use the df.sample() to create class_count_1 samples\n",
    "        class_over_0=class_0_df.sample(class_count_1,replace=True)\n",
    "        # Create a new dataframe with the oversampled class\n",
    "        df =pd.concat([class_over_0,class_1_df],axis=0)\n",
    "    elif over_sample_class == 1:\n",
    "         # Oversample the 1 class by taking the class_1_df and use the df.sample() to create class_count_0 samples\n",
    "        class_over_1=class_1_df.sample(class_count_0,replace=True)\n",
    "        # Create a new dataframe with the oversampled class\n",
    "        df =pd.concat([class_0_df,class_over_1],axis=0,ignore_index=True)\n",
    "    return df"
   ]
  },
  {
   "cell_type": "code",
   "execution_count": 9,
   "id": "01d4f51f",
   "metadata": {},
   "outputs": [],
   "source": [
    "def apply_random_oversampling(df):\n",
    "    \"\"\"Apply random oversampling to the class with the least amount of samples\"\"\"\n",
    "    labels=df['Sorted'].value_counts().index.tolist()\n",
    "    if any(\"0\" in word for word in labels ) and any(\"1\" in word for word in labels):\n",
    "        class_count_1,class_count_0=df['Sorted'].value_counts()['1'],df['Sorted'].value_counts()['0']\n",
    "        if class_count_0 < class_count_1:\n",
    "            # oversample class_count_0\n",
    "            df=random_oversampling(df,0)\n",
    "        elif  class_count_0 > class_count_1:\n",
    "            # oversample class_count_1\n",
    "            df=random_oversampling(df,1)\n",
    "    return df"
   ]
  },
  {
   "cell_type": "markdown",
   "id": "3659c7af",
   "metadata": {},
   "source": [
    "## Create the Data Generators\n",
    "---"
   ]
  },
  {
   "cell_type": "code",
   "execution_count": 12,
   "id": "cb3d490f",
   "metadata": {},
   "outputs": [],
   "source": [
    "def get_training_dataframes(df):\n",
    "    \"\"\"Returns the training and test dataframes\n",
    "    Splits the dataframe int a .75 and .25 training and test set respectively\"\"\"\n",
    "    # Convert the sorted column to string otherwises data generators will not work\n",
    "    df[\"Sorted\"]=df[\"Sorted\"].astype(str)\n",
    "    # Shuffle the entries in the pandas dataframe\n",
    "    shuffled_df=df.sample(frac=1,random_state=1).reset_index()\n",
    "    # Split the dataframe into a train and test set into a .75 and .25 training and test set respectively\n",
    "    # get the first 500 rows\n",
    "    # traindf=shuffled_df.iloc[:500,:]\n",
    "    traindf=shuffled_df.iloc[:1514,:]\n",
    "    # get the remaining rows\n",
    "    # testdf=shuffled_df.iloc[500:,:]\n",
    "    testdf=shuffled_df.iloc[1514:,:]\n",
    "    # Balance the traindf and testdf datasets\n",
    "    traindf=apply_random_oversampling(traindf)\n",
    "    testdf=apply_random_oversampling(testdf)\n",
    "    traindf.drop(['index'],axis=1,inplace=True)\n",
    "    testdf.drop(['index'],axis=1,inplace=True)\n",
    "    return  traindf,testdf"
   ]
  },
  {
   "cell_type": "code",
   "execution_count": 13,
   "id": "d00ddb70",
   "metadata": {},
   "outputs": [
    {
     "name": "stderr",
     "output_type": "stream",
     "text": [
      "c:\\Users\\Sharon\\anaconda\\envs\\machine_learning\\lib\\site-packages\\pandas\\core\\frame.py:4913: SettingWithCopyWarning: \n",
      "A value is trying to be set on a copy of a slice from a DataFrame\n",
      "\n",
      "See the caveats in the documentation: https://pandas.pydata.org/pandas-docs/stable/user_guide/indexing.html#returning-a-view-versus-a-copy\n",
      "  errors=errors,\n"
     ]
    },
    {
     "data": {
      "text/plain": [
       "(                                      Filename Sorted\n",
       " 0               2021-05-31-18-52-00_L8_rgb.jpg      0\n",
       " 1               2007-05-18-18-40-32_L5_rgb.jpg      0\n",
       " 2     2018-12-23-15-43-31_L7_ID42022-05-10.jpg      0\n",
       " 3     2018-12-23-16-25-15_S2_ID42022-05-09.jpg      0\n",
       " 4     2018-12-16-16-34-56_S2_ID42022-05-09.jpg      0\n",
       " ...                                        ...    ...\n",
       " 1537            2009-04-05-18-33-04_L5_rgb.jpg      1\n",
       " 1538            2009-01-31-18-31-35_L5_rgb.jpg      1\n",
       " 1539  2018-12-18-16-25-18_S2_ID22022-05-09.jpg      1\n",
       " 1540  2018-12-02-16-06-26_S2_ID12022-05-09.jpg      1\n",
       " 1541  2018-12-13-17-16-05_S2_ID62022-05-09.jpg      1\n",
       " \n",
       " [1542 rows x 2 columns],\n",
       "                                       Filename Sorted\n",
       " 1514            2015-09-20-18-52-13_L8_rgb.jpg      1\n",
       " 1515  2018-12-12-16-04-06_S2_ID32022-05-10.jpg      1)"
      ]
     },
     "execution_count": 13,
     "metadata": {},
     "output_type": "execute_result"
    }
   ],
   "source": [
    "traindf,testdf=get_training_dataframes(df)\n",
    "traindf,testdf"
   ]
  },
  {
   "cell_type": "code",
   "execution_count": 14,
   "id": "bb009de5",
   "metadata": {},
   "outputs": [
    {
     "name": "stdout",
     "output_type": "stream",
     "text": [
      "0    771\n",
      "1    771\n",
      "Name: Sorted, dtype: int64\n"
     ]
    },
    {
     "data": {
      "text/plain": [
       "<AxesSubplot:title={'center':'Count(target)'}>"
      ]
     },
     "execution_count": 14,
     "metadata": {},
     "output_type": "execute_result"
    },
    {
     "data": {
      "image/png": "[encoded data removed]",
      "text/plain": [
       "<Figure size 432x288 with 1 Axes>"
      ]
     },
     "metadata": {
      "needs_background": "light"
     },
     "output_type": "display_data"
    }
   ],
   "source": [
    "print(traindf['Sorted'].value_counts(ascending=True))\n",
    "traindf['Sorted'].value_counts().plot(kind=\"bar\",title='Count(target)',color=plt.cm.Paired(np.arange(len(traindf))))"
   ]
  },
  {
   "cell_type": "code",
   "execution_count": null,
   "id": "2c8fec09",
   "metadata": {},
   "outputs": [],
   "source": [
    "print(testdf['Sorted'].value_counts())\n",
    "testdf['Sorted'].value_counts().plot(kind=\"bar\",title='Count(target)',color=plt.cm.Paired(np.arange(len(testdf))))"
   ]
  },
  {
   "cell_type": "code",
   "execution_count": 15,
   "id": "585d9c13",
   "metadata": {},
   "outputs": [],
   "source": [
    "def get_column_names(df):\n",
    "    \"\"\" x (data) and y (labels) column names from the dataframe \"\"\"\n",
    "    x_col_name=df.columns[0]\n",
    "    y_col_name=df.columns[1]\n",
    "    return x_col_name,y_col_name"
   ]
  },
  {
   "cell_type": "markdown",
   "id": "cf669819",
   "metadata": {},
   "source": [
    "## Flow the images from the dataframe\n",
    "- resize the images \n",
    "- shuffle the images\n",
    "- divide the data into a training and validation subset\n",
    "- set a random seed"
   ]
  },
  {
   "cell_type": "code",
   "execution_count": 26,
   "id": "4b553451",
   "metadata": {},
   "outputs": [
    {
     "name": "stdout",
     "output_type": "stream",
     "text": [
      "Found 1234 validated image filenames belonging to 2 classes.\n"
     ]
    }
   ],
   "source": [
    "# traindf,testdf=get_training_dataframes(df)\n",
    "x_col_name,y_col_name=get_column_names(df)\n",
    "\n",
    "train_generator=train_datagen.flow_from_dataframe(\n",
    "dataframe=traindf,\n",
    "directory=dataset_path,\n",
    "x_col=x_col_name,   # image filenames\n",
    "y_col=y_col_name,   # labels \n",
    "subset=\"training\",\n",
    "batch_size=24,\n",
    "seed=42,\n",
    "shuffle=True,\n",
    "class_mode=\"binary\",\n",
    "target_size=img_shape)\n"
   ]
  },
  {
   "cell_type": "code",
   "execution_count": 27,
   "id": "dba02518",
   "metadata": {},
   "outputs": [
    {
     "name": "stdout",
     "output_type": "stream",
     "text": [
      "Found 308 validated image filenames belonging to 2 classes.\n"
     ]
    }
   ],
   "source": [
    "\n",
    "valid_generator=train_datagen.flow_from_dataframe(\n",
    "dataframe=traindf,\n",
    "directory=dataset_path,\n",
    "x_col=x_col_name, \n",
    "y_col=y_col_name, \n",
    "subset=\"validation\", \n",
    "batch_size=22, \n",
    "seed=42,\n",
    "shuffle=True,\n",
    "class_mode=\"binary\",\n",
    "target_size=img_shape)"
   ]
  },
  {
   "cell_type": "markdown",
   "id": "680e874f",
   "metadata": {},
   "source": [
    "## Create the Model\n",
    "----\n",
    "Create a simple Sequential Model"
   ]
  },
  {
   "cell_type": "code",
   "execution_count": 42,
   "id": "ec859eda",
   "metadata": {},
   "outputs": [],
   "source": [
    "def prepare_model():\n",
    "    # metrics=[TruePositives(name='tp'),FalsePositives(name='fp'), TrueNegatives(name='tn'), FalseNegatives(name='fn'), BinaryAccuracy(name=\"BinaryAccuracy\"), Precision(name=\"precision\"), Recall(name=\"recall\"),AUC(name=\"AUC\")]\n",
    "    metrics=[BinaryAccuracy(name=\"binary_accuracy\"), Recall(name=\"recall\")]\n",
    "    model = keras.Sequential()\n",
    "    model.add(Conv2D(16,kernel_size=(3,3),activation='relu',input_shape=img_shape+(3,)))\n",
    "    model.add(MaxPooling2D(pool_size=(2, 2)))\n",
    "    model.add(Conv2D(32, (3, 3),activation='relu'))\n",
    "    model.add(MaxPooling2D(pool_size=(2, 2)))\n",
    "    model.add(Conv2D(64, (3, 3),activation='relu'))\n",
    "    model.add(MaxPooling2D(pool_size=(2, 2)))\n",
    "    model.add(Conv2D(128,(3,3),activation='relu'))\n",
    "    model.add(MaxPooling2D(2,2))\n",
    "    model.add(Dropout(0.25))\n",
    "    model.add(Flatten())\n",
    "    model.add(Dense(64, activation='relu'))\n",
    "    model.add(Dense(1, activation='sigmoid'))\n",
    "    model.compile(loss=\"binary_crossentropy\",optimizer=\"adam\",metrics=metrics)\n",
    "    return model"
   ]
  },
  {
   "cell_type": "code",
   "execution_count": 43,
   "id": "2ce6b46f",
   "metadata": {},
   "outputs": [],
   "source": [
    "model = prepare_model()"
   ]
  },
  {
   "cell_type": "code",
   "execution_count": 44,
   "id": "f4ee93ad",
   "metadata": {},
   "outputs": [
    {
     "name": "stdout",
     "output_type": "stream",
     "text": [
      "Model: \"sequential_2\"\n",
      "_________________________________________________________________\n",
      " Layer (type)                Output Shape              Param #   \n",
      "=================================================================\n",
      " conv2d_8 (Conv2D)           (None, 98, 98, 16)        448       \n",
      "                                                                 \n",
      " max_pooling2d_8 (MaxPooling  (None, 49, 49, 16)       0         \n",
      " 2D)                                                             \n",
      "                                                                 \n",
      " conv2d_9 (Conv2D)           (None, 47, 47, 32)        4640      \n",
      "                                                                 \n",
      " max_pooling2d_9 (MaxPooling  (None, 23, 23, 32)       0         \n",
      " 2D)                                                             \n",
      "                                                                 \n",
      " conv2d_10 (Conv2D)          (None, 21, 21, 64)        18496     \n",
      "                                                                 \n",
      " max_pooling2d_10 (MaxPoolin  (None, 10, 10, 64)       0         \n",
      " g2D)                                                            \n",
      "                                                                 \n",
      " conv2d_11 (Conv2D)          (None, 8, 8, 128)         73856     \n",
      "                                                                 \n",
      " max_pooling2d_11 (MaxPoolin  (None, 4, 4, 128)        0         \n",
      " g2D)                                                            \n",
      "                                                                 \n",
      " dropout_2 (Dropout)         (None, 4, 4, 128)         0         \n",
      "                                                                 \n",
      " flatten_2 (Flatten)         (None, 2048)              0         \n",
      "                                                                 \n",
      " dense_4 (Dense)             (None, 64)                131136    \n",
      "                                                                 \n",
      " dense_5 (Dense)             (None, 1)                 65        \n",
      "                                                                 \n",
      "=================================================================\n",
      "Total params: 228,641\n",
      "Trainable params: 228,641\n",
      "Non-trainable params: 0\n",
      "_________________________________________________________________\n"
     ]
    }
   ],
   "source": [
    "model.summary()"
   ]
  },
  {
   "cell_type": "code",
   "execution_count": 45,
   "id": "2a595226",
   "metadata": {},
   "outputs": [
    {
     "name": "stdout",
     "output_type": "stream",
     "text": [
      "Epoch 1/20\n",
      "51/51 [==============================] - 20s 359ms/step - loss: 0.5304 - binary_accuracy: 0.7471 - recall: 0.9313 - val_loss: 0.4512 - val_binary_accuracy: 0.8393 - val_recall: 0.9858\n",
      "Epoch 2/20\n",
      "51/51 [==============================] - 18s 355ms/step - loss: 0.3417 - binary_accuracy: 0.8717 - recall: 0.9738 - val_loss: 0.3347 - val_binary_accuracy: 0.8661 - val_recall: 0.9857\n",
      "Epoch 3/20\n",
      "51/51 [==============================] - 18s 352ms/step - loss: 0.3203 - binary_accuracy: 0.8843 - recall: 0.9813 - val_loss: 0.3389 - val_binary_accuracy: 0.8661 - val_recall: 0.9662\n",
      "Epoch 4/20\n",
      "51/51 [==============================] - 21s 419ms/step - loss: 0.3164 - binary_accuracy: 0.8826 - recall: 0.9802 - val_loss: 0.2969 - val_binary_accuracy: 0.8869 - val_recall: 1.0000\n",
      "Epoch 5/20\n",
      "51/51 [==============================] - 19s 371ms/step - loss: 0.3088 - binary_accuracy: 0.8926 - recall: 0.9908 - val_loss: 0.3160 - val_binary_accuracy: 0.9048 - val_recall: 0.9825\n",
      "Epoch 6/20\n",
      "51/51 [==============================] - 19s 378ms/step - loss: 0.3464 - binary_accuracy: 0.8744 - recall: 0.9762 - val_loss: 0.2761 - val_binary_accuracy: 0.9077 - val_recall: 0.9906\n",
      "Epoch 7/20\n",
      "51/51 [==============================] - 20s 386ms/step - loss: 0.2993 - binary_accuracy: 0.8901 - recall: 0.9907 - val_loss: 0.2930 - val_binary_accuracy: 0.8810 - val_recall: 0.9953\n",
      "Epoch 8/20\n",
      "51/51 [==============================] - 19s 377ms/step - loss: 0.2860 - binary_accuracy: 0.8975 - recall: 0.9867 - val_loss: 0.2695 - val_binary_accuracy: 0.9018 - val_recall: 0.9862\n",
      "Epoch 9/20\n",
      "51/51 [==============================] - 18s 352ms/step - loss: 0.2912 - binary_accuracy: 0.8934 - recall: 0.9840 - val_loss: 0.2683 - val_binary_accuracy: 0.9077 - val_recall: 1.0000\n",
      "Epoch 10/20\n",
      "51/51 [==============================] - 17s 338ms/step - loss: 0.2982 - binary_accuracy: 0.8942 - recall: 0.9908 - val_loss: 0.3153 - val_binary_accuracy: 0.8810 - val_recall: 0.9805\n",
      "Epoch 11/20\n",
      "51/51 [==============================] - 18s 358ms/step - loss: 0.2907 - binary_accuracy: 0.8959 - recall: 0.9881 - val_loss: 0.2932 - val_binary_accuracy: 0.8958 - val_recall: 1.0000\n",
      "Epoch 12/20\n",
      "51/51 [==============================] - 17s 340ms/step - loss: 0.2864 - binary_accuracy: 0.9008 - recall: 0.9921 - val_loss: 0.2675 - val_binary_accuracy: 0.8869 - val_recall: 0.9906\n",
      "Epoch 13/20\n",
      "51/51 [==============================] - 18s 358ms/step - loss: 0.2655 - binary_accuracy: 0.9058 - recall: 0.9894 - val_loss: 0.2537 - val_binary_accuracy: 0.8988 - val_recall: 0.9860\n",
      "Epoch 14/20\n",
      "51/51 [==============================] - 18s 357ms/step - loss: 0.2730 - binary_accuracy: 0.9050 - recall: 0.9880 - val_loss: 0.2723 - val_binary_accuracy: 0.8958 - val_recall: 0.9859\n",
      "Epoch 15/20\n",
      "51/51 [==============================] - 18s 351ms/step - loss: 0.2747 - binary_accuracy: 0.9025 - recall: 0.9894 - val_loss: 0.2511 - val_binary_accuracy: 0.9107 - val_recall: 0.9847\n",
      "Epoch 16/20\n",
      "51/51 [==============================] - 18s 355ms/step - loss: 0.2728 - binary_accuracy: 0.9000 - recall: 0.9841 - val_loss: 0.2273 - val_binary_accuracy: 0.9167 - val_recall: 0.9900\n",
      "Epoch 17/20\n",
      "51/51 [==============================] - 19s 366ms/step - loss: 0.2619 - binary_accuracy: 0.9083 - recall: 0.9841 - val_loss: 0.2620 - val_binary_accuracy: 0.9077 - val_recall: 0.9630\n",
      "Epoch 18/20\n",
      "51/51 [==============================] - 21s 410ms/step - loss: 0.2633 - binary_accuracy: 0.9025 - recall: 0.9841 - val_loss: 0.2320 - val_binary_accuracy: 0.9107 - val_recall: 0.9722\n",
      "Epoch 19/20\n",
      "51/51 [==============================] - 18s 353ms/step - loss: 0.2673 - binary_accuracy: 0.9050 - recall: 0.9841 - val_loss: 0.2796 - val_binary_accuracy: 0.8929 - val_recall: 0.9565\n",
      "Epoch 20/20\n",
      "51/51 [==============================] - 19s 375ms/step - loss: 0.2550 - binary_accuracy: 0.9099 - recall: 0.9842 - val_loss: 0.2132 - val_binary_accuracy: 0.9345 - val_recall: 0.9954\n"
     ]
    }
   ],
   "source": [
    "history=model.fit(train_generator,\n",
    "                    validation_data = train_generator,\n",
    "                    steps_per_epoch = train_generator.n//train_generator.batch_size,\n",
    "                    validation_steps = valid_generator.n//valid_generator.batch_size,\n",
    "                    epochs=20)"
   ]
  },
  {
   "cell_type": "markdown",
   "id": "788fbcbc",
   "metadata": {},
   "source": [
    "## Evaluate Model Performance\n",
    "---"
   ]
  },
  {
   "cell_type": "code",
   "execution_count": 46,
   "id": "6af50b21",
   "metadata": {},
   "outputs": [
    {
     "name": "stdout",
     "output_type": "stream",
     "text": [
      "14/14 [==============================] - 4s 281ms/step - loss: 0.3518 - binary_accuracy: 0.7890 - recall: 0.0000e+00\n",
      "[0.3518248200416565, 0.7889610528945923, 0.0]\n"
     ]
    }
   ],
   "source": [
    "score = model.evaluate(valid_generator)\n",
    "print(score)"
   ]
  },
  {
   "cell_type": "code",
   "execution_count": 47,
   "id": "d7401590",
   "metadata": {},
   "outputs": [
    {
     "data": {
      "text/html": [
       "<div>\n",
       "<style scoped>\n",
       "    .dataframe tbody tr th:only-of-type {\n",
       "        vertical-align: middle;\n",
       "    }\n",
       "\n",
       "    .dataframe tbody tr th {\n",
       "        vertical-align: top;\n",
       "    }\n",
       "\n",
       "    .dataframe thead th {\n",
       "        text-align: right;\n",
       "    }\n",
       "</style>\n",
       "<table border=\"1\" class=\"dataframe\">\n",
       "  <thead>\n",
       "    <tr style=\"text-align: right;\">\n",
       "      <th></th>\n",
       "      <th>loss</th>\n",
       "      <th>binary_accuracy</th>\n",
       "      <th>recall</th>\n",
       "      <th>val_loss</th>\n",
       "      <th>val_binary_accuracy</th>\n",
       "      <th>val_recall</th>\n",
       "    </tr>\n",
       "  </thead>\n",
       "  <tbody>\n",
       "    <tr>\n",
       "      <th>0</th>\n",
       "      <td>0.530401</td>\n",
       "      <td>0.747107</td>\n",
       "      <td>0.931308</td>\n",
       "      <td>0.451232</td>\n",
       "      <td>0.839286</td>\n",
       "      <td>0.985782</td>\n",
       "    </tr>\n",
       "    <tr>\n",
       "      <th>1</th>\n",
       "      <td>0.341675</td>\n",
       "      <td>0.871732</td>\n",
       "      <td>0.973753</td>\n",
       "      <td>0.334720</td>\n",
       "      <td>0.866071</td>\n",
       "      <td>0.985714</td>\n",
       "    </tr>\n",
       "    <tr>\n",
       "      <th>2</th>\n",
       "      <td>0.320263</td>\n",
       "      <td>0.884298</td>\n",
       "      <td>0.981333</td>\n",
       "      <td>0.338887</td>\n",
       "      <td>0.866071</td>\n",
       "      <td>0.966184</td>\n",
       "    </tr>\n",
       "    <tr>\n",
       "      <th>3</th>\n",
       "      <td>0.316431</td>\n",
       "      <td>0.882645</td>\n",
       "      <td>0.980185</td>\n",
       "      <td>0.296891</td>\n",
       "      <td>0.886905</td>\n",
       "      <td>1.000000</td>\n",
       "    </tr>\n",
       "    <tr>\n",
       "      <th>4</th>\n",
       "      <td>0.308805</td>\n",
       "      <td>0.892562</td>\n",
       "      <td>0.990826</td>\n",
       "      <td>0.316024</td>\n",
       "      <td>0.904762</td>\n",
       "      <td>0.982456</td>\n",
       "    </tr>\n",
       "    <tr>\n",
       "      <th>5</th>\n",
       "      <td>0.346393</td>\n",
       "      <td>0.874380</td>\n",
       "      <td>0.976190</td>\n",
       "      <td>0.276081</td>\n",
       "      <td>0.907738</td>\n",
       "      <td>0.990566</td>\n",
       "    </tr>\n",
       "    <tr>\n",
       "      <th>6</th>\n",
       "      <td>0.299322</td>\n",
       "      <td>0.890083</td>\n",
       "      <td>0.990704</td>\n",
       "      <td>0.293019</td>\n",
       "      <td>0.880952</td>\n",
       "      <td>0.995261</td>\n",
       "    </tr>\n",
       "    <tr>\n",
       "      <th>7</th>\n",
       "      <td>0.286011</td>\n",
       "      <td>0.897521</td>\n",
       "      <td>0.986720</td>\n",
       "      <td>0.269469</td>\n",
       "      <td>0.901786</td>\n",
       "      <td>0.986239</td>\n",
       "    </tr>\n",
       "    <tr>\n",
       "      <th>8</th>\n",
       "      <td>0.291159</td>\n",
       "      <td>0.893388</td>\n",
       "      <td>0.984043</td>\n",
       "      <td>0.268268</td>\n",
       "      <td>0.907738</td>\n",
       "      <td>1.000000</td>\n",
       "    </tr>\n",
       "    <tr>\n",
       "      <th>9</th>\n",
       "      <td>0.298152</td>\n",
       "      <td>0.894215</td>\n",
       "      <td>0.990765</td>\n",
       "      <td>0.315277</td>\n",
       "      <td>0.880952</td>\n",
       "      <td>0.980488</td>\n",
       "    </tr>\n",
       "    <tr>\n",
       "      <th>10</th>\n",
       "      <td>0.290744</td>\n",
       "      <td>0.895868</td>\n",
       "      <td>0.988127</td>\n",
       "      <td>0.293199</td>\n",
       "      <td>0.895833</td>\n",
       "      <td>1.000000</td>\n",
       "    </tr>\n",
       "    <tr>\n",
       "      <th>11</th>\n",
       "      <td>0.286443</td>\n",
       "      <td>0.900826</td>\n",
       "      <td>0.992074</td>\n",
       "      <td>0.267460</td>\n",
       "      <td>0.886905</td>\n",
       "      <td>0.990566</td>\n",
       "    </tr>\n",
       "    <tr>\n",
       "      <th>12</th>\n",
       "      <td>0.265507</td>\n",
       "      <td>0.905785</td>\n",
       "      <td>0.989432</td>\n",
       "      <td>0.253655</td>\n",
       "      <td>0.898810</td>\n",
       "      <td>0.986046</td>\n",
       "    </tr>\n",
       "    <tr>\n",
       "      <th>13</th>\n",
       "      <td>0.272981</td>\n",
       "      <td>0.904959</td>\n",
       "      <td>0.988048</td>\n",
       "      <td>0.272265</td>\n",
       "      <td>0.895833</td>\n",
       "      <td>0.985915</td>\n",
       "    </tr>\n",
       "    <tr>\n",
       "      <th>14</th>\n",
       "      <td>0.274720</td>\n",
       "      <td>0.902479</td>\n",
       "      <td>0.989404</td>\n",
       "      <td>0.251086</td>\n",
       "      <td>0.910714</td>\n",
       "      <td>0.984694</td>\n",
       "    </tr>\n",
       "    <tr>\n",
       "      <th>15</th>\n",
       "      <td>0.272811</td>\n",
       "      <td>0.900000</td>\n",
       "      <td>0.984106</td>\n",
       "      <td>0.227334</td>\n",
       "      <td>0.916667</td>\n",
       "      <td>0.990050</td>\n",
       "    </tr>\n",
       "    <tr>\n",
       "      <th>16</th>\n",
       "      <td>0.261862</td>\n",
       "      <td>0.908264</td>\n",
       "      <td>0.984148</td>\n",
       "      <td>0.261980</td>\n",
       "      <td>0.907738</td>\n",
       "      <td>0.962963</td>\n",
       "    </tr>\n",
       "    <tr>\n",
       "      <th>17</th>\n",
       "      <td>0.263311</td>\n",
       "      <td>0.902479</td>\n",
       "      <td>0.984106</td>\n",
       "      <td>0.231965</td>\n",
       "      <td>0.910714</td>\n",
       "      <td>0.972222</td>\n",
       "    </tr>\n",
       "    <tr>\n",
       "      <th>18</th>\n",
       "      <td>0.267319</td>\n",
       "      <td>0.904959</td>\n",
       "      <td>0.984106</td>\n",
       "      <td>0.279565</td>\n",
       "      <td>0.892857</td>\n",
       "      <td>0.956522</td>\n",
       "    </tr>\n",
       "    <tr>\n",
       "      <th>19</th>\n",
       "      <td>0.254994</td>\n",
       "      <td>0.909917</td>\n",
       "      <td>0.984190</td>\n",
       "      <td>0.213235</td>\n",
       "      <td>0.934524</td>\n",
       "      <td>0.995392</td>\n",
       "    </tr>\n",
       "  </tbody>\n",
       "</table>\n",
       "</div>"
      ],
      "text/plain": [
       "        loss  binary_accuracy    recall  val_loss  val_binary_accuracy  \\\n",
       "0   0.530401         0.747107  0.931308  0.451232             0.839286   \n",
       "1   0.341675         0.871732  0.973753  0.334720             0.866071   \n",
       "2   0.320263         0.884298  0.981333  0.338887             0.866071   \n",
       "3   0.316431         0.882645  0.980185  0.296891             0.886905   \n",
       "4   0.308805         0.892562  0.990826  0.316024             0.904762   \n",
       "5   0.346393         0.874380  0.976190  0.276081             0.907738   \n",
       "6   0.299322         0.890083  0.990704  0.293019             0.880952   \n",
       "7   0.286011         0.897521  0.986720  0.269469             0.901786   \n",
       "8   0.291159         0.893388  0.984043  0.268268             0.907738   \n",
       "9   0.298152         0.894215  0.990765  0.315277             0.880952   \n",
       "10  0.290744         0.895868  0.988127  0.293199             0.895833   \n",
       "11  0.286443         0.900826  0.992074  0.267460             0.886905   \n",
       "12  0.265507         0.905785  0.989432  0.253655             0.898810   \n",
       "13  0.272981         0.904959  0.988048  0.272265             0.895833   \n",
       "14  0.274720         0.902479  0.989404  0.251086             0.910714   \n",
       "15  0.272811         0.900000  0.984106  0.227334             0.916667   \n",
       "16  0.261862         0.908264  0.984148  0.261980             0.907738   \n",
       "17  0.263311         0.902479  0.984106  0.231965             0.910714   \n",
       "18  0.267319         0.904959  0.984106  0.279565             0.892857   \n",
       "19  0.254994         0.909917  0.984190  0.213235             0.934524   \n",
       "\n",
       "    val_recall  \n",
       "0     0.985782  \n",
       "1     0.985714  \n",
       "2     0.966184  \n",
       "3     1.000000  \n",
       "4     0.982456  \n",
       "5     0.990566  \n",
       "6     0.995261  \n",
       "7     0.986239  \n",
       "8     1.000000  \n",
       "9     0.980488  \n",
       "10    1.000000  \n",
       "11    0.990566  \n",
       "12    0.986046  \n",
       "13    0.985915  \n",
       "14    0.984694  \n",
       "15    0.990050  \n",
       "16    0.962963  \n",
       "17    0.972222  \n",
       "18    0.956522  \n",
       "19    0.995392  "
      ]
     },
     "execution_count": 47,
     "metadata": {},
     "output_type": "execute_result"
    }
   ],
   "source": [
    "metrics_df = pd.DataFrame(history.history)\n",
    "metrics_df"
   ]
  },
  {
   "cell_type": "markdown",
   "id": "16fd0574",
   "metadata": {},
   "source": [
    "### Plot some graphs to evaluate the model performance"
   ]
  },
  {
   "cell_type": "code",
   "execution_count": 48,
   "id": "45a441a9",
   "metadata": {},
   "outputs": [
    {
     "data": {
      "text/plain": [
       "<AxesSubplot:>"
      ]
     },
     "execution_count": 48,
     "metadata": {},
     "output_type": "execute_result"
    },
    {
     "data": {
      "image/png": "[encoded data removed]",
      "text/plain": [
       "<Figure size 432x288 with 1 Axes>"
      ]
     },
     "metadata": {
      "needs_background": "light"
     },
     "output_type": "display_data"
    }
   ],
   "source": [
    "metrics_df[[\"loss\",\"val_loss\"]].plot()"
   ]
  },
  {
   "cell_type": "code",
   "execution_count": 50,
   "id": "48e47196",
   "metadata": {},
   "outputs": [
    {
     "data": {
      "text/plain": [
       "<AxesSubplot:>"
      ]
     },
     "execution_count": 50,
     "metadata": {},
     "output_type": "execute_result"
    },
    {
     "data": {
      "image/png": "[encoded data removed]",
      "text/plain": [
       "<Figure size 432x288 with 1 Axes>"
      ]
     },
     "metadata": {
      "needs_background": "light"
     },
     "output_type": "display_data"
    }
   ],
   "source": [
    "metrics_df[[\"binary_accuracy\",\"val_binary_accuracy\"]].plot()\n"
   ]
  },
  {
   "cell_type": "code",
   "execution_count": 51,
   "id": "68ffa1b4",
   "metadata": {},
   "outputs": [
    {
     "data": {
      "text/plain": [
       "<AxesSubplot:>"
      ]
     },
     "execution_count": 51,
     "metadata": {},
     "output_type": "execute_result"
    },
    {
     "data": {
      "image/png": "[encoded data removed]",
      "text/plain": [
       "<Figure size 432x288 with 1 Axes>"
      ]
     },
     "metadata": {
      "needs_background": "light"
     },
     "output_type": "display_data"
    }
   ],
   "source": [
    "metrics_df[[\"recall\",\"val_recall\"]].plot()"
   ]
  },
  {
   "cell_type": "code",
   "execution_count": 52,
   "id": "0a812b00",
   "metadata": {},
   "outputs": [
    {
     "data": {
      "text/plain": [
       "<AxesSubplot:>"
      ]
     },
     "execution_count": 52,
     "metadata": {},
     "output_type": "execute_result"
    },
    {
     "data": {
      "image/png": "[encoded data removed]",
      "text/plain": [
       "<Figure size 432x288 with 1 Axes>"
      ]
     },
     "metadata": {
      "needs_background": "light"
     },
     "output_type": "display_data"
    }
   ],
   "source": [
    "metrics_df[[\"binary_accuracy\",\"val_binary_accuracy\",\"recall\",\"val_recall\"]].plot()"
   ]
  },
  {
   "cell_type": "markdown",
   "id": "a34e68f7",
   "metadata": {},
   "source": [
    "## Save the Model and Training Metrics\n",
    "1. Create a folder with the name of the model the user provides to store all the data in\n",
    "2. Save the metrics dataframe as a csv\n",
    "3. Save the actual model"
   ]
  },
  {
   "cell_type": "code",
   "execution_count": 53,
   "id": "cfa54a59",
   "metadata": {},
   "outputs": [],
   "source": [
    "def save_model_data(model_name:str,model:'keras.engine.sequential.Sequential',metrics_df:pd.DataFrame):\n",
    "    # Create a directory to store all the model data\n",
    "    model_save_path=os.getcwd()+os.sep+\"models\"\n",
    "    if not os.path.exists(model_save_path):\n",
    "        os.mkdir(model_save_path)\n",
    "    model_save_path=os.getcwd()+os.sep+\"models\"+os.sep+model_name\n",
    "    if os.path.exists(model_save_path):\n",
    "        raise FileExistsError(f\"This folder '{model_name}' already exists: {model_save_path}.\\n Please rename your model.\")\n",
    "    else:\n",
    "        os.mkdir(model_save_path)\n",
    "    # Save the model history (training metrics) to csv\n",
    "    metrics_df.to_csv(model_save_path+ os.sep+\"model_metrics.csv\",index=False)\n",
    "    # Save the actual model\n",
    "    model.save(model_save_path+os.sep+\"model\")"
   ]
  },
  {
   "cell_type": "code",
   "execution_count": 54,
   "id": "bad6d0ae",
   "metadata": {},
   "outputs": [
    {
     "name": "stdout",
     "output_type": "stream",
     "text": [
      "INFO:tensorflow:Assets written to: c:\\1_USGS\\2_Machine_Learning\\3_sniffer_classifier\\Sniffer-Classifier\\models\\binary_classification_model_v_2_3\\model\\assets\n"
     ]
    }
   ],
   "source": [
    "# Enter the name of your model\n",
    "model_name=\"binary_classification_model_v_2_3\"\n",
    "# This might take a few seconds\n",
    "save_model_data(model_name,model,metrics_df)"
   ]
  },
  {
   "cell_type": "code",
   "execution_count": null,
   "id": "bdef6ad2",
   "metadata": {},
   "outputs": [],
   "source": []
  }
 ],
 "metadata": {
  "interpreter": {
   "hash": "b602628b865f811f43fa06264a269a791e1feecb6be5cdade55e5944221b6f7a"
  },
  "kernelspec": {
   "display_name": "Python 3.7.11 ('ml_learning')",
   "language": "python",
   "name": "python3"
  },
  "language_info": {
   "codemirror_mode": {
    "name": "ipython",
    "version": 3
   },
   "file_extension": ".py",
   "mimetype": "text/x-python",
   "name": "python",
   "nbconvert_exporter": "python",
   "pygments_lexer": "ipython3",
   "version": "3.7.11"
  }
 },
 "nbformat": 4,
 "nbformat_minor": 5
}
