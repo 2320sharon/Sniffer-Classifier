{
 "cells": [
  {
   "cell_type": "markdown",
   "id": "eff3dfeb",
   "metadata": {},
   "source": [
    "# Sniffer Classifer\n",
    "- Author: Sharon Fitzpatrick \n",
    "- Date April 2022\n",
    "</br>\n",
    "</br>\n",
    "CNN that distinguishes between \"good\" and \"bad\" imagery. Based on the image sorting tool Sniffer. Intended purpose is to quickly sort through geospatial imagery and filter out bad imagery such as images with large segments missing, cloudy  images, or images with errors."
   ]
  },
  {
   "cell_type": "code",
   "execution_count": 144,
   "id": "b2f44b38",
   "metadata": {},
   "outputs": [],
   "source": [
    "import matplotlib.pyplot as plt\n",
    "from skimage import io\n",
    "from sklearn.metrics import confusion_matrix\n",
    "\n",
    "import glob\n",
    "import os\n",
    "import pandas as pd\n",
    "import numpy as np\n",
    "from PIL import Image\n",
    "\n",
    "import tensorflow as tf\n",
    "from tensorflow import keras\n",
    "\n",
    "from keras_preprocessing.image import ImageDataGenerator\n",
    "from keras_preprocessing.image import ImageDataGenerator\n",
    "from keras.layers import Dense, Flatten, Dropout\n",
    "from keras.layers import Conv2D, MaxPooling2D\n",
    "from keras.metrics import BinaryAccuracy, FalseNegatives, FalsePositives, TrueNegatives,TruePositives, Precision, Recall, AUC\n",
    "\n",
    "# Allows for matplot's to be displayed inline\n",
    "%matplotlib inline"
   ]
  },
  {
   "cell_type": "markdown",
   "id": "3dc9187c",
   "metadata": {},
   "source": [
    "## Local Variables\n",
    "Use these variables to change the training parameters for your CNN.\n",
    "- `dataset_path`: directory containing the  unzipped imagery\n",
    "- `img_shape` : shape (width , height) your imagery will be resized to. These are inputs into the model.\n",
    "- `imgs`: list containing all the jpgs  the model will be trained on"
   ]
  },
  {
   "cell_type": "code",
   "execution_count": 2,
   "id": "66810c20",
   "metadata": {},
   "outputs": [
    {
     "name": "stdout",
     "output_type": "stream",
     "text": [
      "In c:\\1_USGS\\2_Machine_Learning\\3_sniffer_classifier\\Sniffer-Classifier\\images there are 741 images\n"
     ]
    }
   ],
   "source": [
    "dataset_path=os.getcwd()+os.sep+\"images\"\n",
    "imgs=glob.glob(dataset_path+os.sep+\"*.jpg\")\n",
    "img_shape=(100, 100)\n",
    "print(\"In {0} there are {1:n} images\".format(dataset_path,len(imgs)))"
   ]
  },
  {
   "cell_type": "markdown",
   "id": "0aca7869",
   "metadata": {},
   "source": [
    "## Augmenting the Dataset\n",
    "Create an image generator to apply augmentations to the imagery.\n",
    "- standardizes the image sizes \n",
    "- applies zooms, flips, rotations to the imagery"
   ]
  },
  {
   "cell_type": "code",
   "execution_count": 167,
   "id": "587541d8",
   "metadata": {},
   "outputs": [],
   "source": [
    "train_datagen=ImageDataGenerator(rescale=1./255.,\n",
    "rotation_range=20,\n",
    "zoom_range=0.05,\n",
    "width_shift_range=0.05,\n",
    "height_shift_range=0.05,\n",
    "shear_range=0.05,\n",
    "horizontal_flip=True,\n",
    "fill_mode=\"nearest\",\n",
    "validation_split=0.20\n",
    ")\n",
    "# Not used at all in the code\n",
    "test_datagen=ImageDataGenerator(rescale=1./255.)\n"
   ]
  },
  {
   "cell_type": "markdown",
   "id": "3d73ed02",
   "metadata": {},
   "source": [
    "# Read in the  csv file and transform in df\n",
    "1. Read in the csv\n",
    "2. Clean the csv by dropping unused columns\n",
    "3. Encode the categorical labels to binary labels consisting of 0 and 1"
   ]
  },
  {
   "cell_type": "code",
   "execution_count": 168,
   "id": "baaeaff3",
   "metadata": {},
   "outputs": [],
   "source": [
    "def clean_csv(csv: str,labels=[\"good\",\"bad\"]):\n",
    "    \"\"\"Takes in the name of the csv file to clean (ex. 'master.csv') and a list labels to one hot encode.\n",
    "        Returns the modified dataframe.\n",
    "    \"\"\"\n",
    "    df =  pd.read_csv(csv)\n",
    "    if \"index\" in df.columns:\n",
    "        print(\"Dropping column index\")\n",
    "        df.drop(['index'],axis=1,inplace=True)\n",
    "    if \"Unnamed: 0\"in df.columns:\n",
    "        print(\"Dropping column Unnamed: 0\")\n",
    "        df.drop(['Unnamed: 0'],axis=1,inplace=True)\n",
    "    return df"
   ]
  },
  {
   "cell_type": "code",
   "execution_count": 240,
   "id": "00d6fbc9",
   "metadata": {},
   "outputs": [],
   "source": [
    "def binary_encode_labels(df:'pandas.core.frame.DataFrame',labels=[\"bad\",\"good\"]):\n",
    "  \"\"\" Returns the modified dataframe with the labels encoded as binary labels of 0 and 1\"\"\"\n",
    "  mapping = {}\n",
    "  df[\"Filename\"]=df[\"Filename\"].astype(str)\n",
    "  df[\"Sorted\"]=df[\"Sorted\"].astype(str)\n",
    "  if df[\"Sorted\"].str.contains('|'.join( [\"good\",\"bad\"])).any():\n",
    "    for x in range(len(labels)):\n",
    "      mapping[labels[x]] = x\n",
    "    # outputs {'good': 0, 'bad': 1}\n",
    "    # Replace each label in sorted with corresponding one hot encoded label\n",
    "    for x in range(len(df['Sorted'])):\n",
    "      df['Sorted'][x] = mapping[df['Sorted'][x]]\n",
    "    df[\"Sorted\"]=df[\"Sorted\"].astype(str)\n",
    "  return df"
   ]
  },
  {
   "cell_type": "code",
   "execution_count": 241,
   "id": "fa6dea1c",
   "metadata": {},
   "outputs": [],
   "source": [
    "def prep_dataset(csv:str):\n",
    "    # Clean the dataset read from the csv file\n",
    "    df=clean_csv(\"master.csv\")\n",
    "    # Encode the categorical labels to binary labels of 0 and 1\n",
    "    df=binary_encode_labels(df)\n",
    "    return df"
   ]
  },
  {
   "cell_type": "code",
   "execution_count": 242,
   "id": "e0a40bfc",
   "metadata": {},
   "outputs": [
    {
     "name": "stdout",
     "output_type": "stream",
     "text": [
      "Dropping column Unnamed: 0\n"
     ]
    },
    {
     "data": {
      "text/html": [
       "<div>\n",
       "<style scoped>\n",
       "    .dataframe tbody tr th:only-of-type {\n",
       "        vertical-align: middle;\n",
       "    }\n",
       "\n",
       "    .dataframe tbody tr th {\n",
       "        vertical-align: top;\n",
       "    }\n",
       "\n",
       "    .dataframe thead th {\n",
       "        text-align: right;\n",
       "    }\n",
       "</style>\n",
       "<table border=\"1\" class=\"dataframe\">\n",
       "  <thead>\n",
       "    <tr style=\"text-align: right;\">\n",
       "      <th></th>\n",
       "      <th>Filename</th>\n",
       "      <th>Sorted</th>\n",
       "    </tr>\n",
       "  </thead>\n",
       "  <tbody>\n",
       "    <tr>\n",
       "      <th>0</th>\n",
       "      <td>2000-01-07-18-21-07_L5_rgb.jpg</td>\n",
       "      <td>0</td>\n",
       "    </tr>\n",
       "    <tr>\n",
       "      <th>1</th>\n",
       "      <td>2000-04-12-18-20-29_L5_rgb.jpg</td>\n",
       "      <td>0</td>\n",
       "    </tr>\n",
       "    <tr>\n",
       "      <th>2</th>\n",
       "      <td>2000-04-28-18-21-24_L5_rgb.jpg</td>\n",
       "      <td>1</td>\n",
       "    </tr>\n",
       "    <tr>\n",
       "      <th>3</th>\n",
       "      <td>2000-08-02-18-23-18_L5_rgb.jpg</td>\n",
       "      <td>0</td>\n",
       "    </tr>\n",
       "    <tr>\n",
       "      <th>4</th>\n",
       "      <td>2000-08-18-18-23-46_L5_rgb.jpg</td>\n",
       "      <td>1</td>\n",
       "    </tr>\n",
       "    <tr>\n",
       "      <th>...</th>\n",
       "      <td>...</td>\n",
       "      <td>...</td>\n",
       "    </tr>\n",
       "    <tr>\n",
       "      <th>736</th>\n",
       "      <td>2018-12-31-15-40-54_S2_ID02022-04-22.jpg</td>\n",
       "      <td>1</td>\n",
       "    </tr>\n",
       "    <tr>\n",
       "      <th>737</th>\n",
       "      <td>2018-12-31-15-40-54_S2_ID12022-04-22.jpg</td>\n",
       "      <td>1</td>\n",
       "    </tr>\n",
       "    <tr>\n",
       "      <th>738</th>\n",
       "      <td>2018-12-31-15-40-54_S2_ID22022-04-22.jpg</td>\n",
       "      <td>1</td>\n",
       "    </tr>\n",
       "    <tr>\n",
       "      <th>739</th>\n",
       "      <td>2018-12-31-15-40-54_S2_ID32022-04-22.jpg</td>\n",
       "      <td>1</td>\n",
       "    </tr>\n",
       "    <tr>\n",
       "      <th>740</th>\n",
       "      <td>2018-12-31-15-40-54_S2_ID42022-04-22.jpg</td>\n",
       "      <td>1</td>\n",
       "    </tr>\n",
       "  </tbody>\n",
       "</table>\n",
       "<p>741 rows × 2 columns</p>\n",
       "</div>"
      ],
      "text/plain": [
       "                                     Filename Sorted\n",
       "0              2000-01-07-18-21-07_L5_rgb.jpg      0\n",
       "1              2000-04-12-18-20-29_L5_rgb.jpg      0\n",
       "2              2000-04-28-18-21-24_L5_rgb.jpg      1\n",
       "3              2000-08-02-18-23-18_L5_rgb.jpg      0\n",
       "4              2000-08-18-18-23-46_L5_rgb.jpg      1\n",
       "..                                        ...    ...\n",
       "736  2018-12-31-15-40-54_S2_ID02022-04-22.jpg      1\n",
       "737  2018-12-31-15-40-54_S2_ID12022-04-22.jpg      1\n",
       "738  2018-12-31-15-40-54_S2_ID22022-04-22.jpg      1\n",
       "739  2018-12-31-15-40-54_S2_ID32022-04-22.jpg      1\n",
       "740  2018-12-31-15-40-54_S2_ID42022-04-22.jpg      1\n",
       "\n",
       "[741 rows x 2 columns]"
      ]
     },
     "execution_count": 242,
     "metadata": {},
     "output_type": "execute_result"
    }
   ],
   "source": [
    "df=prep_dataset(\"master.csv\")\n",
    "df"
   ]
  },
  {
   "cell_type": "markdown",
   "id": "c130232c",
   "metadata": {},
   "source": [
    "## Random OverSampling\n",
    "Currently the dataset is imbalanced because the number of good and bad samples are not equal to each other.\n",
    "Use Random oversampling so that the the number of samples in both classes are equal."
   ]
  },
  {
   "cell_type": "code",
   "execution_count": 235,
   "id": "dfd0815f",
   "metadata": {},
   "outputs": [],
   "source": [
    "def random_oversampling(df,over_sample_class):\n",
    "    \"\"\"Apply random oversampling to the dataframe\"\"\"\n",
    "    # Count the number of entries in both classes\n",
    "    class_count_1,class_count_0=df['Sorted'].value_counts()['1'],df['Sorted'].value_counts()['0']\n",
    "    # Divide the dataframe into the two classes\n",
    "    class_0_df=df[df[\"Sorted\"]=='0']\n",
    "    # print(class_0_df)\n",
    "    class_1_df=df[df[\"Sorted\"]=='1']\n",
    "    # print(class_1_df)\n",
    "    # Oversample the the dataframe\n",
    "    if over_sample_class == 0:\n",
    "        # Oversample the 0 class by taking the class_0_df and use the df.sample() to create class_count_1 samples\n",
    "        class_over_0=class_0_df.sample(class_count_1,replace=True)\n",
    "        # Create a new dataframe with the oversampled class\n",
    "        df =pd.concat([class_over_0,class_1_df],axis=0)\n",
    "    elif over_sample_class == 1:\n",
    "         # Oversample the 1 class by taking the class_1_df and use the df.sample() to create class_count_0 samples\n",
    "        class_over_1=class_1_df.sample(class_count_0,replace=True)\n",
    "        # Create a new dataframe with the oversampled class\n",
    "        df =pd.concat([class_0_df,class_over_1],axis=0,ignore_index=True)\n",
    "    return df"
   ]
  },
  {
   "cell_type": "code",
   "execution_count": 260,
   "id": "01d4f51f",
   "metadata": {},
   "outputs": [],
   "source": [
    "def apply_random_oversampling(df):\n",
    "    \"\"\"Apply random oversampling to the class with the least amount of samples\"\"\"\n",
    "    labels=df['Sorted'].value_counts().index.tolist()\n",
    "    if any(\"0\" in word for word in labels ) and any(\"1\" in word for word in labels):\n",
    "        class_count_1,class_count_0=df['Sorted'].value_counts()['1'],df['Sorted'].value_counts()['0']\n",
    "        if class_count_0 < class_count_1:\n",
    "            # oversample class_count_0\n",
    "            df=random_oversampling(df,0)\n",
    "        elif  class_count_0 > class_count_1:\n",
    "            # oversample class_count_1\n",
    "            df=random_oversampling(df,1)\n",
    "    return df"
   ]
  },
  {
   "cell_type": "markdown",
   "id": "3659c7af",
   "metadata": {},
   "source": [
    "## Create the Data Generators\n",
    "---"
   ]
  },
  {
   "cell_type": "code",
   "execution_count": 225,
   "id": "cb3d490f",
   "metadata": {},
   "outputs": [],
   "source": [
    "def get_training_dataframes(df):\n",
    "    \"\"\"Returns the training and test dataframes\n",
    "    Splits the dataframe int a .75 and .25 training and test set respectively\"\"\"\n",
    "    # Convert the sorted column to string otherwises data generators will not work\n",
    "    df[\"Sorted\"]=df[\"Sorted\"].astype(str)\n",
    "    # Shuffle the entries in the pandas dataframe\n",
    "    shuffled_df=df.sample(frac=1,random_state=1).reset_index()\n",
    "    # Split the dataframe into a train and test set into a .75 and .25 training and test set respectively\n",
    "    # get the first 500 rows\n",
    "    # traindf=shuffled_df.iloc[:500,:]\n",
    "    traindf=shuffled_df.iloc[:740,:]\n",
    "    # get the remaining rows\n",
    "    # testdf=shuffled_df.iloc[500:,:]\n",
    "    testdf=shuffled_df.iloc[740:,:]\n",
    "    # Balance the traindf and testdf datasets\n",
    "    traindf=apply_random_oversampling(traindf)\n",
    "    testdf=apply_random_oversampling(testdf)\n",
    "    traindf.drop(['index'],axis=1,inplace=True)\n",
    "    testdf.drop(['index'],axis=1,inplace=True)\n",
    "    return  traindf,testdf"
   ]
  },
  {
   "cell_type": "code",
   "execution_count": 261,
   "id": "d00ddb70",
   "metadata": {},
   "outputs": [
    {
     "name": "stderr",
     "output_type": "stream",
     "text": [
      "c:\\Users\\Sharon\\anaconda\\envs\\machine_learning\\lib\\site-packages\\pandas\\core\\frame.py:4913: SettingWithCopyWarning: \n",
      "A value is trying to be set on a copy of a slice from a DataFrame\n",
      "\n",
      "See the caveats in the documentation: https://pandas.pydata.org/pandas-docs/stable/user_guide/indexing.html#returning-a-view-versus-a-copy\n",
      "  errors=errors,\n"
     ]
    },
    {
     "data": {
      "text/plain": [
       "(                                              Filename Sorted\n",
       " 0                           2016-11-01-19-03-46_S2.jpg      0\n",
       " 1             2018-12-12-16-03-10_L7_ID02022-04-21.jpg      0\n",
       " 2                       2019-08-23-18-46-15_L8_rgb.jpg      0\n",
       " 3    2018-12-04-15-51-35_S2_2022-03-31__09_hr_49_mi...      0\n",
       " 4                           2020-01-05-19-04-00_S2.jpg      0\n",
       " ..                                                 ...    ...\n",
       " 775  2018-12-01-15-33-12_L8_2022-03-31__09_hr_48_mi...      1\n",
       " 776                     2016-09-22-18-52-29_L8_rgb.jpg      1\n",
       " 777  2018-12-19-15-51-38_S2_2022-03-31__09_hr_48_mi...      1\n",
       " 778                     2021-08-19-18-52-25_L8_rgb.jpg      1\n",
       " 779  2018-12-01-15-33-12_L8_2022-03-31__09_hr_51_mi...      1\n",
       " \n",
       " [780 rows x 2 columns],\n",
       "                            Filename Sorted\n",
       " 740  2003-04-05-18-20-24_L5_rgb.jpg      1)"
      ]
     },
     "execution_count": 261,
     "metadata": {},
     "output_type": "execute_result"
    }
   ],
   "source": [
    "traindf,testdf=get_training_dataframes(df)\n",
    "traindf,testdf"
   ]
  },
  {
   "cell_type": "code",
   "execution_count": 262,
   "id": "bb009de5",
   "metadata": {},
   "outputs": [
    {
     "name": "stdout",
     "output_type": "stream",
     "text": [
      "0    390\n",
      "1    390\n",
      "Name: Sorted, dtype: int64\n"
     ]
    },
    {
     "data": {
      "text/plain": [
       "<AxesSubplot:title={'center':'Count(target)'}>"
      ]
     },
     "execution_count": 262,
     "metadata": {},
     "output_type": "execute_result"
    },
    {
     "data": {
      "image/png": "[encoded data removed]",
      "text/plain": [
       "<Figure size 432x288 with 1 Axes>"
      ]
     },
     "metadata": {
      "needs_background": "light"
     },
     "output_type": "display_data"
    }
   ],
   "source": [
    "print(traindf['Sorted'].value_counts(ascending=True))\n",
    "traindf['Sorted'].value_counts().plot(kind=\"bar\",title='Count(target)',color=plt.cm.Paired(np.arange(len(traindf))))"
   ]
  },
  {
   "cell_type": "code",
   "execution_count": 263,
   "id": "2c8fec09",
   "metadata": {},
   "outputs": [
    {
     "name": "stdout",
     "output_type": "stream",
     "text": [
      "1    1\n",
      "Name: Sorted, dtype: int64\n"
     ]
    },
    {
     "data": {
      "text/plain": [
       "<AxesSubplot:title={'center':'Count(target)'}>"
      ]
     },
     "execution_count": 263,
     "metadata": {},
     "output_type": "execute_result"
    },
    {
     "data": {
      "image/png": "[encoded data removed]",
      "text/plain": [
       "<Figure size 432x288 with 1 Axes>"
      ]
     },
     "metadata": {
      "needs_background": "light"
     },
     "output_type": "display_data"
    }
   ],
   "source": [
    "print(testdf['Sorted'].value_counts())\n",
    "testdf['Sorted'].value_counts().plot(kind=\"bar\",title='Count(target)',color=plt.cm.Paired(np.arange(len(testdf))))"
   ]
  },
  {
   "cell_type": "code",
   "execution_count": 264,
   "id": "585d9c13",
   "metadata": {},
   "outputs": [],
   "source": [
    "def get_column_names(df):\n",
    "    \"\"\" x (data) and y (labels) column names from the dataframe \"\"\"\n",
    "    x_col_name=df.columns[0]\n",
    "    y_col_name=df.columns[1]\n",
    "    return x_col_name,y_col_name"
   ]
  },
  {
   "cell_type": "markdown",
   "id": "cf669819",
   "metadata": {},
   "source": [
    "## Flow the images from the dataframe\n",
    "- resize the images \n",
    "- shuffle the images\n",
    "- divide the data into a training and validation subset\n",
    "- set a random seed"
   ]
  },
  {
   "cell_type": "code",
   "execution_count": 267,
   "id": "4b553451",
   "metadata": {},
   "outputs": [
    {
     "name": "stdout",
     "output_type": "stream",
     "text": [
      "Found 624 validated image filenames belonging to 2 classes.\n"
     ]
    }
   ],
   "source": [
    "# traindf,testdf=get_training_dataframes(df)\n",
    "x_col_name,y_col_name=get_column_names(df)\n",
    "\n",
    "train_generator=train_datagen.flow_from_dataframe(\n",
    "dataframe=traindf,\n",
    "directory=dataset_path,\n",
    "x_col=x_col_name,   # image filenames\n",
    "y_col=y_col_name,   # labels \n",
    "subset=\"training\",\n",
    "batch_size=24,\n",
    "seed=42,\n",
    "shuffle=True,\n",
    "class_mode=\"binary\",\n",
    "target_size=img_shape)\n"
   ]
  },
  {
   "cell_type": "code",
   "execution_count": 269,
   "id": "dba02518",
   "metadata": {},
   "outputs": [
    {
     "name": "stdout",
     "output_type": "stream",
     "text": [
      "Found 156 validated image filenames belonging to 2 classes.\n"
     ]
    }
   ],
   "source": [
    "\n",
    "valid_generator=train_datagen.flow_from_dataframe(\n",
    "dataframe=traindf,\n",
    "directory=dataset_path,\n",
    "x_col=x_col_name, \n",
    "y_col=y_col_name, \n",
    "subset=\"validation\", \n",
    "batch_size=13, \n",
    "seed=42,\n",
    "shuffle=True,\n",
    "class_mode=\"binary\",\n",
    "target_size=img_shape)"
   ]
  },
  {
   "cell_type": "markdown",
   "id": "680e874f",
   "metadata": {},
   "source": [
    "## Create the Model\n",
    "----\n",
    "Create a simple Sequential Model"
   ]
  },
  {
   "cell_type": "code",
   "execution_count": 283,
   "id": "ec859eda",
   "metadata": {},
   "outputs": [],
   "source": [
    "def prepare_model():\n",
    "    metrics=[TruePositives(name='tp'),FalsePositives(name='fp'), TrueNegatives(name='tn'), FalseNegatives(name='fn'), BinaryAccuracy(name=\"BinaryAccuracy\"), Precision(name=\"precision\"), Recall(name=\"recall\"),AUC(name=\"AUC\")]\n",
    "    model = keras.Sequential()\n",
    "    model.add(Conv2D(16,kernel_size=(3,3),activation='relu',input_shape=img_shape+(3,)))\n",
    "    model.add(MaxPooling2D(pool_size=(2, 2)))\n",
    "    model.add(Conv2D(32, (3, 3),activation='relu'))\n",
    "    model.add(MaxPooling2D(pool_size=(2, 2)))\n",
    "    model.add(Conv2D(64, (3, 3),activation='relu'))\n",
    "    model.add(MaxPooling2D(pool_size=(2, 2)))\n",
    "    model.add(Conv2D(128,(3,3),activation='relu'))\n",
    "    model.add(MaxPooling2D(2,2))\n",
    "    model.add(Dropout(0.25))\n",
    "    model.add(Flatten())\n",
    "    model.add(Dense(64, activation='relu'))\n",
    "    model.add(Dense(1, activation='sigmoid'))\n",
    "    model.compile(loss=\"binary_crossentropy\",optimizer=\"adam\",metrics=[BinaryAccuracy()])\n",
    "    return model"
   ]
  },
  {
   "cell_type": "code",
   "execution_count": 284,
   "id": "2ce6b46f",
   "metadata": {},
   "outputs": [],
   "source": [
    "model = prepare_model()"
   ]
  },
  {
   "cell_type": "code",
   "execution_count": 286,
   "id": "f4ee93ad",
   "metadata": {},
   "outputs": [
    {
     "name": "stdout",
     "output_type": "stream",
     "text": [
      "Model: \"sequential_11\"\n",
      "_________________________________________________________________\n",
      " Layer (type)                Output Shape              Param #   \n",
      "=================================================================\n",
      " conv2d_37 (Conv2D)          (None, 98, 98, 16)        448       \n",
      "                                                                 \n",
      " max_pooling2d_37 (MaxPoolin  (None, 49, 49, 16)       0         \n",
      " g2D)                                                            \n",
      "                                                                 \n",
      " conv2d_38 (Conv2D)          (None, 47, 47, 32)        4640      \n",
      "                                                                 \n",
      " max_pooling2d_38 (MaxPoolin  (None, 23, 23, 32)       0         \n",
      " g2D)                                                            \n",
      "                                                                 \n",
      " conv2d_39 (Conv2D)          (None, 21, 21, 64)        18496     \n",
      "                                                                 \n",
      " max_pooling2d_39 (MaxPoolin  (None, 10, 10, 64)       0         \n",
      " g2D)                                                            \n",
      "                                                                 \n",
      " conv2d_40 (Conv2D)          (None, 8, 8, 128)         73856     \n",
      "                                                                 \n",
      " max_pooling2d_40 (MaxPoolin  (None, 4, 4, 128)        0         \n",
      " g2D)                                                            \n",
      "                                                                 \n",
      " dropout_11 (Dropout)        (None, 4, 4, 128)         0         \n",
      "                                                                 \n",
      " flatten_11 (Flatten)        (None, 2048)              0         \n",
      "                                                                 \n",
      " dense_22 (Dense)            (None, 64)                131136    \n",
      "                                                                 \n",
      " dense_23 (Dense)            (None, 1)                 65        \n",
      "                                                                 \n",
      "=================================================================\n",
      "Total params: 228,641\n",
      "Trainable params: 228,641\n",
      "Non-trainable params: 0\n",
      "_________________________________________________________________\n"
     ]
    }
   ],
   "source": [
    "model.summary()"
   ]
  },
  {
   "cell_type": "code",
   "execution_count": 299,
   "id": "2a595226",
   "metadata": {},
   "outputs": [
    {
     "name": "stdout",
     "output_type": "stream",
     "text": [
      "Epoch 1/15\n",
      "26/26 [==============================] - 9s 345ms/step - loss: 0.2429 - binary_accuracy: 0.9215 - val_loss: 0.2340 - val_binary_accuracy: 0.9201\n",
      "Epoch 2/15\n",
      "26/26 [==============================] - 9s 335ms/step - loss: 0.2358 - binary_accuracy: 0.9231 - val_loss: 0.2242 - val_binary_accuracy: 0.9271\n",
      "Epoch 3/15\n",
      "26/26 [==============================] - 9s 336ms/step - loss: 0.2656 - binary_accuracy: 0.9167 - val_loss: 0.2119 - val_binary_accuracy: 0.9271\n",
      "Epoch 4/15\n",
      "26/26 [==============================] - 9s 328ms/step - loss: 0.2260 - binary_accuracy: 0.9295 - val_loss: 0.2352 - val_binary_accuracy: 0.9201\n",
      "Epoch 5/15\n",
      "26/26 [==============================] - 9s 329ms/step - loss: 0.2393 - binary_accuracy: 0.9215 - val_loss: 0.1827 - val_binary_accuracy: 0.9375\n",
      "Epoch 6/15\n",
      "26/26 [==============================] - 9s 339ms/step - loss: 0.2290 - binary_accuracy: 0.9263 - val_loss: 0.2551 - val_binary_accuracy: 0.9167\n",
      "Epoch 7/15\n",
      "26/26 [==============================] - 9s 333ms/step - loss: 0.2460 - binary_accuracy: 0.9215 - val_loss: 0.2542 - val_binary_accuracy: 0.9167\n",
      "Epoch 8/15\n",
      "26/26 [==============================] - 9s 326ms/step - loss: 0.2106 - binary_accuracy: 0.9263 - val_loss: 0.2193 - val_binary_accuracy: 0.9340\n",
      "Epoch 9/15\n",
      "26/26 [==============================] - 9s 334ms/step - loss: 0.2279 - binary_accuracy: 0.9311 - val_loss: 0.2012 - val_binary_accuracy: 0.9410\n",
      "Epoch 10/15\n",
      "26/26 [==============================] - 9s 329ms/step - loss: 0.2245 - binary_accuracy: 0.9295 - val_loss: 0.2570 - val_binary_accuracy: 0.9236\n",
      "Epoch 11/15\n",
      "26/26 [==============================] - 9s 334ms/step - loss: 0.2274 - binary_accuracy: 0.9247 - val_loss: 0.2244 - val_binary_accuracy: 0.9306\n",
      "Epoch 12/15\n",
      "26/26 [==============================] - 9s 331ms/step - loss: 0.2215 - binary_accuracy: 0.9231 - val_loss: 0.1869 - val_binary_accuracy: 0.9410\n",
      "Epoch 13/15\n",
      "26/26 [==============================] - 9s 334ms/step - loss: 0.1944 - binary_accuracy: 0.9407 - val_loss: 0.2140 - val_binary_accuracy: 0.9236\n",
      "Epoch 14/15\n",
      "26/26 [==============================] - 9s 332ms/step - loss: 0.2050 - binary_accuracy: 0.9375 - val_loss: 0.2173 - val_binary_accuracy: 0.9306\n",
      "Epoch 15/15\n",
      "26/26 [==============================] - 9s 342ms/step - loss: 0.2149 - binary_accuracy: 0.9343 - val_loss: 0.2372 - val_binary_accuracy: 0.9236\n"
     ]
    }
   ],
   "source": [
    "history=model.fit(train_generator,\n",
    "                    validation_data = train_generator,\n",
    "                    steps_per_epoch = train_generator.n//train_generator.batch_size,\n",
    "                    validation_steps = valid_generator.n//valid_generator.batch_size,\n",
    "                    epochs=15)"
   ]
  },
  {
   "cell_type": "markdown",
   "id": "788fbcbc",
   "metadata": {},
   "source": [
    "## Evaluate Model Performance\n",
    "---"
   ]
  },
  {
   "cell_type": "code",
   "execution_count": 300,
   "id": "6af50b21",
   "metadata": {},
   "outputs": [
    {
     "name": "stdout",
     "output_type": "stream",
     "text": [
      "12/12 [==============================] - 2s 132ms/step - loss: 0.3380 - binary_accuracy: 0.8654\n",
      "[0.3379729092121124, 0.8653846383094788]\n"
     ]
    }
   ],
   "source": [
    "score = model.evaluate(valid_generator)\n",
    "print(score)"
   ]
  },
  {
   "cell_type": "code",
   "execution_count": 301,
   "id": "d7401590",
   "metadata": {},
   "outputs": [
    {
     "data": {
      "text/html": [
       "<div>\n",
       "<style scoped>\n",
       "    .dataframe tbody tr th:only-of-type {\n",
       "        vertical-align: middle;\n",
       "    }\n",
       "\n",
       "    .dataframe tbody tr th {\n",
       "        vertical-align: top;\n",
       "    }\n",
       "\n",
       "    .dataframe thead th {\n",
       "        text-align: right;\n",
       "    }\n",
       "</style>\n",
       "<table border=\"1\" class=\"dataframe\">\n",
       "  <thead>\n",
       "    <tr style=\"text-align: right;\">\n",
       "      <th></th>\n",
       "      <th>loss</th>\n",
       "      <th>binary_accuracy</th>\n",
       "      <th>val_loss</th>\n",
       "      <th>val_binary_accuracy</th>\n",
       "    </tr>\n",
       "  </thead>\n",
       "  <tbody>\n",
       "    <tr>\n",
       "      <th>0</th>\n",
       "      <td>0.242877</td>\n",
       "      <td>0.921474</td>\n",
       "      <td>0.234017</td>\n",
       "      <td>0.920139</td>\n",
       "    </tr>\n",
       "    <tr>\n",
       "      <th>1</th>\n",
       "      <td>0.235765</td>\n",
       "      <td>0.923077</td>\n",
       "      <td>0.224212</td>\n",
       "      <td>0.927083</td>\n",
       "    </tr>\n",
       "    <tr>\n",
       "      <th>2</th>\n",
       "      <td>0.265559</td>\n",
       "      <td>0.916667</td>\n",
       "      <td>0.211880</td>\n",
       "      <td>0.927083</td>\n",
       "    </tr>\n",
       "    <tr>\n",
       "      <th>3</th>\n",
       "      <td>0.225989</td>\n",
       "      <td>0.929487</td>\n",
       "      <td>0.235182</td>\n",
       "      <td>0.920139</td>\n",
       "    </tr>\n",
       "    <tr>\n",
       "      <th>4</th>\n",
       "      <td>0.239259</td>\n",
       "      <td>0.921474</td>\n",
       "      <td>0.182676</td>\n",
       "      <td>0.937500</td>\n",
       "    </tr>\n",
       "    <tr>\n",
       "      <th>5</th>\n",
       "      <td>0.229006</td>\n",
       "      <td>0.926282</td>\n",
       "      <td>0.255073</td>\n",
       "      <td>0.916667</td>\n",
       "    </tr>\n",
       "    <tr>\n",
       "      <th>6</th>\n",
       "      <td>0.246029</td>\n",
       "      <td>0.921474</td>\n",
       "      <td>0.254202</td>\n",
       "      <td>0.916667</td>\n",
       "    </tr>\n",
       "    <tr>\n",
       "      <th>7</th>\n",
       "      <td>0.210643</td>\n",
       "      <td>0.926282</td>\n",
       "      <td>0.219349</td>\n",
       "      <td>0.934028</td>\n",
       "    </tr>\n",
       "    <tr>\n",
       "      <th>8</th>\n",
       "      <td>0.227908</td>\n",
       "      <td>0.931090</td>\n",
       "      <td>0.201158</td>\n",
       "      <td>0.940972</td>\n",
       "    </tr>\n",
       "    <tr>\n",
       "      <th>9</th>\n",
       "      <td>0.224527</td>\n",
       "      <td>0.929487</td>\n",
       "      <td>0.256959</td>\n",
       "      <td>0.923611</td>\n",
       "    </tr>\n",
       "    <tr>\n",
       "      <th>10</th>\n",
       "      <td>0.227368</td>\n",
       "      <td>0.924679</td>\n",
       "      <td>0.224434</td>\n",
       "      <td>0.930556</td>\n",
       "    </tr>\n",
       "    <tr>\n",
       "      <th>11</th>\n",
       "      <td>0.221527</td>\n",
       "      <td>0.923077</td>\n",
       "      <td>0.186900</td>\n",
       "      <td>0.940972</td>\n",
       "    </tr>\n",
       "    <tr>\n",
       "      <th>12</th>\n",
       "      <td>0.194400</td>\n",
       "      <td>0.940705</td>\n",
       "      <td>0.214046</td>\n",
       "      <td>0.923611</td>\n",
       "    </tr>\n",
       "    <tr>\n",
       "      <th>13</th>\n",
       "      <td>0.205046</td>\n",
       "      <td>0.937500</td>\n",
       "      <td>0.217345</td>\n",
       "      <td>0.930556</td>\n",
       "    </tr>\n",
       "    <tr>\n",
       "      <th>14</th>\n",
       "      <td>0.214875</td>\n",
       "      <td>0.934295</td>\n",
       "      <td>0.237233</td>\n",
       "      <td>0.923611</td>\n",
       "    </tr>\n",
       "  </tbody>\n",
       "</table>\n",
       "</div>"
      ],
      "text/plain": [
       "        loss  binary_accuracy  val_loss  val_binary_accuracy\n",
       "0   0.242877         0.921474  0.234017             0.920139\n",
       "1   0.235765         0.923077  0.224212             0.927083\n",
       "2   0.265559         0.916667  0.211880             0.927083\n",
       "3   0.225989         0.929487  0.235182             0.920139\n",
       "4   0.239259         0.921474  0.182676             0.937500\n",
       "5   0.229006         0.926282  0.255073             0.916667\n",
       "6   0.246029         0.921474  0.254202             0.916667\n",
       "7   0.210643         0.926282  0.219349             0.934028\n",
       "8   0.227908         0.931090  0.201158             0.940972\n",
       "9   0.224527         0.929487  0.256959             0.923611\n",
       "10  0.227368         0.924679  0.224434             0.930556\n",
       "11  0.221527         0.923077  0.186900             0.940972\n",
       "12  0.194400         0.940705  0.214046             0.923611\n",
       "13  0.205046         0.937500  0.217345             0.930556\n",
       "14  0.214875         0.934295  0.237233             0.923611"
      ]
     },
     "execution_count": 301,
     "metadata": {},
     "output_type": "execute_result"
    }
   ],
   "source": [
    "metrics_df = pd.DataFrame(history.history)\n",
    "metrics_df"
   ]
  },
  {
   "cell_type": "markdown",
   "id": "16fd0574",
   "metadata": {},
   "source": [
    "### Plot some graphs to evaluate the model performance"
   ]
  },
  {
   "cell_type": "code",
   "execution_count": 302,
   "id": "45a441a9",
   "metadata": {},
   "outputs": [
    {
     "data": {
      "text/plain": [
       "<AxesSubplot:>"
      ]
     },
     "execution_count": 302,
     "metadata": {},
     "output_type": "execute_result"
    },
    {
     "data": {
      "image/png": "[encoded data removed]",
      "text/plain": [
       "<Figure size 432x288 with 1 Axes>"
      ]
     },
     "metadata": {
      "needs_background": "light"
     },
     "output_type": "display_data"
    }
   ],
   "source": [
    "metrics_df[[\"loss\",\"val_loss\"]].plot()"
   ]
  },
  {
   "cell_type": "code",
   "execution_count": 303,
   "id": "48e47196",
   "metadata": {},
   "outputs": [
    {
     "data": {
      "text/plain": [
       "<AxesSubplot:>"
      ]
     },
     "execution_count": 303,
     "metadata": {},
     "output_type": "execute_result"
    },
    {
     "data": {
      "image/png": "[encoded data removed]",
      "text/plain": [
       "<Figure size 432x288 with 1 Axes>"
      ]
     },
     "metadata": {
      "needs_background": "light"
     },
     "output_type": "display_data"
    }
   ],
   "source": [
    "metrics_df[[\"binary_accuracy\",\"val_binary_accuracy\"]].plot()"
   ]
  },
  {
   "cell_type": "markdown",
   "id": "a34e68f7",
   "metadata": {},
   "source": [
    "## Save the Model and Training Metrics\n",
    "1. Create a folder with the name of the model the user provides to store all the data in\n",
    "2. Save the metrics dataframe as a csv\n",
    "3. Save the actual model"
   ]
  },
  {
   "cell_type": "code",
   "execution_count": 304,
   "id": "cfa54a59",
   "metadata": {},
   "outputs": [],
   "source": [
    "def save_model_data(model_name:str,model:'keras.engine.sequential.Sequential',metrics_df:pd.DataFrame):\n",
    "    # Create a directory to store all the model data\n",
    "    model_save_path=os.getcwd()+os.sep+\"models\"\n",
    "    if not os.path.exists(model_save_path):\n",
    "        os.mkdir(model_save_path)\n",
    "    model_save_path=os.getcwd()+os.sep+\"models\"+os.sep+model_name\n",
    "    if os.path.exists(model_save_path):\n",
    "        raise FileExistsError(f\"This folder '{model_name}' already exists: {model_save_path}.\\n Please rename your model.\")\n",
    "    else:\n",
    "        os.mkdir(model_save_path)\n",
    "    # Save the model history (training metrics) to csv\n",
    "    metrics_df.to_csv(model_save_path+ os.sep+\"model_metrics.csv\",index=False)\n",
    "    # Save the actual model\n",
    "    model.save(model_save_path+os.sep+\"model\")"
   ]
  },
  {
   "cell_type": "code",
   "execution_count": 306,
   "id": "bad6d0ae",
   "metadata": {},
   "outputs": [
    {
     "name": "stdout",
     "output_type": "stream",
     "text": [
      "INFO:tensorflow:Assets written to: c:\\1_USGS\\2_Machine_Learning\\3_sniffer_classifier\\Sniffer-Classifier\\models\\binary_classification_model_v_1_4\\model\\assets\n"
     ]
    }
   ],
   "source": [
    "# Enter the name of your model\n",
    "model_name=\"binary_classification_model_v_1_4\"\n",
    "# This might take a few seconds\n",
    "save_model_data(model_name,model,metrics_df)"
   ]
  },
  {
   "cell_type": "code",
   "execution_count": null,
   "id": "bdef6ad2",
   "metadata": {},
   "outputs": [],
   "source": []
  }
 ],
 "metadata": {
  "interpreter": {
   "hash": "8b8ae1edc86552629b4c9d7d73567d118985f86b154082d80ae1b6d4223a5d4e"
  },
  "kernelspec": {
   "display_name": "Python 3.7.11 ('machine_learning')",
   "language": "python",
   "name": "python3"
  },
  "language_info": {
   "codemirror_mode": {
    "name": "ipython",
    "version": 3
   },
   "file_extension": ".py",
   "mimetype": "text/x-python",
   "name": "python",
   "nbconvert_exporter": "python",
   "pygments_lexer": "ipython3",
   "version": "3.7.11"
  }
 },
 "nbformat": 4,
 "nbformat_minor": 5
}
