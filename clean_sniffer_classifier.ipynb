{
 "cells": [
  {
   "cell_type": "markdown",
   "id": "eff3dfeb",
   "metadata": {},
   "source": [
    "# Sniffer Classifer\n",
    "- Author: Sharon Fitzpatrick \n",
    "- Date April 2022\n",
    "</br>\n",
    "</br>\n",
    "CNN that distinguishes between \"good\" and \"bad\" imagery. Based on the image sorting tool Sniffer. Intended purpose is to quickly sort through geospatial imagery and filter out bad imagery such as images with large segments missing, cloudy  images, or images with errors."
   ]
  },
  {
   "cell_type": "code",
   "execution_count": 97,
   "id": "b2f44b38",
   "metadata": {},
   "outputs": [],
   "source": [
    "import matplotlib.pyplot as plt\n",
    "from skimage import io\n",
    "import seaborn as sns\n",
    "# import sklearn\n",
    "from sklearn.metrics import confusion_matrix\n",
    "\n",
    "import glob\n",
    "import os\n",
    "import pandas as pd\n",
    "import numpy as np\n",
    "from PIL import Image\n",
    "\n",
    "import tensorflow as tf\n",
    "from tensorflow import keras\n",
    "# from tensorflow.keras import layers\n",
    "\n",
    "# from keras import regularizers, optimizers\n",
    "from keras_preprocessing.image import ImageDataGenerator\n",
    "from keras_preprocessing.image import ImageDataGenerator\n",
    "from keras.layers import Dense, Activation, Flatten, Dropout\n",
    "from keras.layers import Conv2D, MaxPooling2D\n",
    "from keras.metrics import Accuracy, FalseNegatives, FalsePositives, TrueNegatives,TruePositives, Precision, Recall, AUC\n",
    "\n",
    "# Allows for matplot's to be displayed inline\n",
    "%matplotlib inline"
   ]
  },
  {
   "cell_type": "markdown",
   "id": "3dc9187c",
   "metadata": {},
   "source": [
    "## Local Variables\n",
    "Use these variables to change the training parameters for your CNN.\n",
    "- `dataset_path`: directory containing the  unzipped imagery\n",
    "- `img_shape` : shape (width , height) your imagery will be resized to. These are inputs into the model.\n",
    "- `imgs`: list containing all the jpgs  the model will be trained on"
   ]
  },
  {
   "cell_type": "code",
   "execution_count": 2,
   "id": "66810c20",
   "metadata": {},
   "outputs": [
    {
     "name": "stdout",
     "output_type": "stream",
     "text": [
      "In c:\\1_USGS\\2_Machine_Learning\\3_sniffer_classifier\\Sniffer-Classifier\\images there are 741 images\n"
     ]
    }
   ],
   "source": [
    "dataset_path=os.getcwd()+os.sep+\"images\"\n",
    "imgs=glob.glob(dataset_path+os.sep+\"*.jpg\")\n",
    "img_shape=(100, 100)\n",
    "print(\"In {0} there are {1:n} images\".format(dataset_path,len(imgs)))"
   ]
  },
  {
   "cell_type": "markdown",
   "id": "0aca7869",
   "metadata": {},
   "source": [
    "## Augmenting the Dataset\n",
    "Create an image generator to apply augmentations to the imagery.\n",
    "- standardizes the image sizes \n",
    "- applies zooms, flips, rotations to the imagery"
   ]
  },
  {
   "cell_type": "code",
   "execution_count": 3,
   "id": "587541d8",
   "metadata": {},
   "outputs": [],
   "source": [
    "train_datagen=ImageDataGenerator(rescale=1./255.,\n",
    "rotation_range=20,\n",
    "zoom_range=0.05,\n",
    "width_shift_range=0.05,\n",
    "height_shift_range=0.05,\n",
    "shear_range=0.05,\n",
    "horizontal_flip=True,\n",
    "fill_mode=\"nearest\",\n",
    "validation_split=0.20\n",
    ")\n",
    "\n",
    "test_datagen=ImageDataGenerator(rescale=1./255.)\n"
   ]
  },
  {
   "cell_type": "markdown",
   "id": "edda6aca",
   "metadata": {},
   "source": [
    "## Process the Imagery\n",
    "---------------\n",
    "1. Prepare the csv by one hot encoding the labels"
   ]
  },
  {
   "cell_type": "markdown",
   "id": "3d73ed02",
   "metadata": {},
   "source": [
    "# Read in the  csv file and transform in df\n",
    "1. read in the csv\n",
    "2. one hot encode the sorted labels\n",
    "3. Update the one hot encoded labels to strings"
   ]
  },
  {
   "cell_type": "code",
   "execution_count": 38,
   "id": "baaeaff3",
   "metadata": {},
   "outputs": [],
   "source": [
    "def clean_csv(csv: str,labels=[\"good\",\"bad\"]):\n",
    "    \"\"\"Takes in the name of the csv file to clean (ex. 'master.csv') and a list labels to one hot encode.\n",
    "        Returns the modified dataframe.\n",
    "    \"\"\"\n",
    "    df =  pd.read_csv(csv)\n",
    "    if \"index\" in df.columns:\n",
    "        print(\"Dropping column index\")\n",
    "        df.drop(['index'],axis=1,inplace=True)\n",
    "    if \"Unnamed: 0\"in df.columns:\n",
    "        print(\"Dropping column Unnamed: 0\")\n",
    "        df.drop(['Unnamed: 0'],axis=1,inplace=True)\n",
    "    return df"
   ]
  },
  {
   "cell_type": "code",
   "execution_count": 48,
   "id": "705cc66a",
   "metadata": {},
   "outputs": [
    {
     "name": "stdout",
     "output_type": "stream",
     "text": [
      "Dropping column Unnamed: 0\n"
     ]
    },
    {
     "data": {
      "text/html": [
       "<div>\n",
       "<style scoped>\n",
       "    .dataframe tbody tr th:only-of-type {\n",
       "        vertical-align: middle;\n",
       "    }\n",
       "\n",
       "    .dataframe tbody tr th {\n",
       "        vertical-align: top;\n",
       "    }\n",
       "\n",
       "    .dataframe thead th {\n",
       "        text-align: right;\n",
       "    }\n",
       "</style>\n",
       "<table border=\"1\" class=\"dataframe\">\n",
       "  <thead>\n",
       "    <tr style=\"text-align: right;\">\n",
       "      <th></th>\n",
       "      <th>Filename</th>\n",
       "      <th>Sorted</th>\n",
       "    </tr>\n",
       "  </thead>\n",
       "  <tbody>\n",
       "    <tr>\n",
       "      <th>0</th>\n",
       "      <td>2000-01-07-18-21-07_L5_rgb.jpg</td>\n",
       "      <td>bad</td>\n",
       "    </tr>\n",
       "    <tr>\n",
       "      <th>1</th>\n",
       "      <td>2000-04-12-18-20-29_L5_rgb.jpg</td>\n",
       "      <td>bad</td>\n",
       "    </tr>\n",
       "    <tr>\n",
       "      <th>2</th>\n",
       "      <td>2000-04-28-18-21-24_L5_rgb.jpg</td>\n",
       "      <td>good</td>\n",
       "    </tr>\n",
       "    <tr>\n",
       "      <th>3</th>\n",
       "      <td>2000-08-02-18-23-18_L5_rgb.jpg</td>\n",
       "      <td>bad</td>\n",
       "    </tr>\n",
       "    <tr>\n",
       "      <th>4</th>\n",
       "      <td>2000-08-18-18-23-46_L5_rgb.jpg</td>\n",
       "      <td>good</td>\n",
       "    </tr>\n",
       "    <tr>\n",
       "      <th>...</th>\n",
       "      <td>...</td>\n",
       "      <td>...</td>\n",
       "    </tr>\n",
       "    <tr>\n",
       "      <th>736</th>\n",
       "      <td>2018-12-31-15-40-54_S2_ID02022-04-22.jpg</td>\n",
       "      <td>good</td>\n",
       "    </tr>\n",
       "    <tr>\n",
       "      <th>737</th>\n",
       "      <td>2018-12-31-15-40-54_S2_ID12022-04-22.jpg</td>\n",
       "      <td>good</td>\n",
       "    </tr>\n",
       "    <tr>\n",
       "      <th>738</th>\n",
       "      <td>2018-12-31-15-40-54_S2_ID22022-04-22.jpg</td>\n",
       "      <td>good</td>\n",
       "    </tr>\n",
       "    <tr>\n",
       "      <th>739</th>\n",
       "      <td>2018-12-31-15-40-54_S2_ID32022-04-22.jpg</td>\n",
       "      <td>good</td>\n",
       "    </tr>\n",
       "    <tr>\n",
       "      <th>740</th>\n",
       "      <td>2018-12-31-15-40-54_S2_ID42022-04-22.jpg</td>\n",
       "      <td>good</td>\n",
       "    </tr>\n",
       "  </tbody>\n",
       "</table>\n",
       "<p>741 rows × 2 columns</p>\n",
       "</div>"
      ],
      "text/plain": [
       "                                     Filename Sorted\n",
       "0              2000-01-07-18-21-07_L5_rgb.jpg    bad\n",
       "1              2000-04-12-18-20-29_L5_rgb.jpg    bad\n",
       "2              2000-04-28-18-21-24_L5_rgb.jpg   good\n",
       "3              2000-08-02-18-23-18_L5_rgb.jpg    bad\n",
       "4              2000-08-18-18-23-46_L5_rgb.jpg   good\n",
       "..                                        ...    ...\n",
       "736  2018-12-31-15-40-54_S2_ID02022-04-22.jpg   good\n",
       "737  2018-12-31-15-40-54_S2_ID12022-04-22.jpg   good\n",
       "738  2018-12-31-15-40-54_S2_ID22022-04-22.jpg   good\n",
       "739  2018-12-31-15-40-54_S2_ID32022-04-22.jpg   good\n",
       "740  2018-12-31-15-40-54_S2_ID42022-04-22.jpg   good\n",
       "\n",
       "[741 rows x 2 columns]"
      ]
     },
     "execution_count": 48,
     "metadata": {},
     "output_type": "execute_result"
    }
   ],
   "source": [
    "df=clean_csv(\"master.csv\")\n",
    "df"
   ]
  },
  {
   "cell_type": "code",
   "execution_count": 40,
   "id": "00d6fbc9",
   "metadata": {},
   "outputs": [],
   "source": [
    "def one_encode_labels(df:'pandas.core.frame.DataFrame',labels=[\"good\",\"bad\"]):\n",
    "  \"\"\" Returns the modified dataframe with the labels one hot encoded\"\"\"\n",
    "  mapping = {}\n",
    "  for x in range(len(labels)):\n",
    "    mapping[labels[x]] = x\n",
    "  # outputs {'good': 0, 'bad': 1}\n",
    "  # Replace each label in sorted with corresponding one hot encoded label\n",
    "  for x in range(len(df['Sorted'])):\n",
    "    df['Sorted'][x] = mapping[df['Sorted'][x]]\n",
    "  return df"
   ]
  },
  {
   "cell_type": "code",
   "execution_count": 49,
   "id": "42710a47",
   "metadata": {},
   "outputs": [
    {
     "data": {
      "text/html": [
       "<div>\n",
       "<style scoped>\n",
       "    .dataframe tbody tr th:only-of-type {\n",
       "        vertical-align: middle;\n",
       "    }\n",
       "\n",
       "    .dataframe tbody tr th {\n",
       "        vertical-align: top;\n",
       "    }\n",
       "\n",
       "    .dataframe thead th {\n",
       "        text-align: right;\n",
       "    }\n",
       "</style>\n",
       "<table border=\"1\" class=\"dataframe\">\n",
       "  <thead>\n",
       "    <tr style=\"text-align: right;\">\n",
       "      <th></th>\n",
       "      <th>Filename</th>\n",
       "      <th>Sorted</th>\n",
       "    </tr>\n",
       "  </thead>\n",
       "  <tbody>\n",
       "    <tr>\n",
       "      <th>0</th>\n",
       "      <td>2000-01-07-18-21-07_L5_rgb.jpg</td>\n",
       "      <td>1</td>\n",
       "    </tr>\n",
       "    <tr>\n",
       "      <th>1</th>\n",
       "      <td>2000-04-12-18-20-29_L5_rgb.jpg</td>\n",
       "      <td>1</td>\n",
       "    </tr>\n",
       "    <tr>\n",
       "      <th>2</th>\n",
       "      <td>2000-04-28-18-21-24_L5_rgb.jpg</td>\n",
       "      <td>0</td>\n",
       "    </tr>\n",
       "    <tr>\n",
       "      <th>3</th>\n",
       "      <td>2000-08-02-18-23-18_L5_rgb.jpg</td>\n",
       "      <td>1</td>\n",
       "    </tr>\n",
       "    <tr>\n",
       "      <th>4</th>\n",
       "      <td>2000-08-18-18-23-46_L5_rgb.jpg</td>\n",
       "      <td>0</td>\n",
       "    </tr>\n",
       "    <tr>\n",
       "      <th>...</th>\n",
       "      <td>...</td>\n",
       "      <td>...</td>\n",
       "    </tr>\n",
       "    <tr>\n",
       "      <th>736</th>\n",
       "      <td>2018-12-31-15-40-54_S2_ID02022-04-22.jpg</td>\n",
       "      <td>0</td>\n",
       "    </tr>\n",
       "    <tr>\n",
       "      <th>737</th>\n",
       "      <td>2018-12-31-15-40-54_S2_ID12022-04-22.jpg</td>\n",
       "      <td>0</td>\n",
       "    </tr>\n",
       "    <tr>\n",
       "      <th>738</th>\n",
       "      <td>2018-12-31-15-40-54_S2_ID22022-04-22.jpg</td>\n",
       "      <td>0</td>\n",
       "    </tr>\n",
       "    <tr>\n",
       "      <th>739</th>\n",
       "      <td>2018-12-31-15-40-54_S2_ID32022-04-22.jpg</td>\n",
       "      <td>0</td>\n",
       "    </tr>\n",
       "    <tr>\n",
       "      <th>740</th>\n",
       "      <td>2018-12-31-15-40-54_S2_ID42022-04-22.jpg</td>\n",
       "      <td>0</td>\n",
       "    </tr>\n",
       "  </tbody>\n",
       "</table>\n",
       "<p>741 rows × 2 columns</p>\n",
       "</div>"
      ],
      "text/plain": [
       "                                     Filename Sorted\n",
       "0              2000-01-07-18-21-07_L5_rgb.jpg      1\n",
       "1              2000-04-12-18-20-29_L5_rgb.jpg      1\n",
       "2              2000-04-28-18-21-24_L5_rgb.jpg      0\n",
       "3              2000-08-02-18-23-18_L5_rgb.jpg      1\n",
       "4              2000-08-18-18-23-46_L5_rgb.jpg      0\n",
       "..                                        ...    ...\n",
       "736  2018-12-31-15-40-54_S2_ID02022-04-22.jpg      0\n",
       "737  2018-12-31-15-40-54_S2_ID12022-04-22.jpg      0\n",
       "738  2018-12-31-15-40-54_S2_ID22022-04-22.jpg      0\n",
       "739  2018-12-31-15-40-54_S2_ID32022-04-22.jpg      0\n",
       "740  2018-12-31-15-40-54_S2_ID42022-04-22.jpg      0\n",
       "\n",
       "[741 rows x 2 columns]"
      ]
     },
     "execution_count": 49,
     "metadata": {},
     "output_type": "execute_result"
    }
   ],
   "source": [
    "df=one_encode_labels(df)\n",
    "df"
   ]
  },
  {
   "cell_type": "markdown",
   "id": "c130232c",
   "metadata": {},
   "source": [
    "## Random OverSampling\n",
    "Currently the dataset is imbalanced because the number of good and bad samples are not equal to each other.\n",
    "Use Random oversampling so that the the number of samples in both classes are equal."
   ]
  },
  {
   "cell_type": "code",
   "execution_count": 54,
   "id": "dfd0815f",
   "metadata": {},
   "outputs": [],
   "source": [
    "def random_oversampling(df,over_sample_class):\n",
    "    \"\"\"Apply random oversampling to the dataframe\"\"\"\n",
    "    # Count the number of entries in both classes\n",
    "    class_count_1,class_count_0=df['Sorted'].value_counts()\n",
    "    # Divide the dataframe into the two classes\n",
    "    class_0_df=df[df[\"Sorted\"]==0]\n",
    "    class_1_df=df[df[\"Sorted\"]==1]\n",
    "    # Oversample the the dataframe\n",
    "    if over_sample_class == 0:\n",
    "        # Oversample the 0 class by taking the class_0_df and use the df.sample() to create class_count_1 samples\n",
    "        class_over_0=class_0_df.sample(class_count_1,replace=True)\n",
    "        # Create a new dataframe with the oversampled class\n",
    "        df =pd.concat([class_over_0,class_1_df],axis=0)\n",
    "    elif over_sample_class == 1:\n",
    "         # Oversample the 0 class by taking the class_0_df and use the df.sample() to create class_count_1 samples\n",
    "        class_over_1=class_1_df.sample(class_count_0,replace=True)\n",
    "        # Create a new dataframe with the oversampled class\n",
    "        df =pd.concat([class_0_df,class_over_1],axis=0)\n",
    "    return df"
   ]
  },
  {
   "cell_type": "code",
   "execution_count": 62,
   "id": "48accaa7",
   "metadata": {},
   "outputs": [
    {
     "name": "stdout",
     "output_type": "stream",
     "text": [
      "class_count_0: 390\n",
      "class_count_1: 390\n"
     ]
    },
    {
     "data": {
      "text/plain": [
       "<AxesSubplot:title={'center':'Count(target)'}>"
      ]
     },
     "execution_count": 62,
     "metadata": {},
     "output_type": "execute_result"
    },
    {
     "data": {
      "image/png": "[encoded data removed]",
      "text/plain": [
       "<Figure size 432x288 with 1 Axes>"
      ]
     },
     "metadata": {
      "needs_background": "light"
     },
     "output_type": "display_data"
    }
   ],
   "source": [
    "class_count_1,class_count_0=df['Sorted'].value_counts()\n",
    "print(f\"class_count_0: {class_count_0}\")\n",
    "print(f\"class_count_1: {class_count_1}\")\n",
    "df['Sorted'].value_counts().plot(kind=\"bar\",title='Count(target)',color=plt.cm.Paired(np.arange(len(df))))\n",
    "if class_count_0 < class_count_1:\n",
    "    # oversample class_count_0\n",
    "    df=random_oversampling(df,0)\n",
    "elif  class_count_0 > class_count_1:\n",
    "    # oversample class_count_1\n",
    "    df=random_oversampling(df,1)"
   ]
  },
  {
   "cell_type": "code",
   "execution_count": 63,
   "id": "ccbc5a94",
   "metadata": {},
   "outputs": [
    {
     "data": {
      "text/plain": [
       "<AxesSubplot:title={'center':'Count(target)'}>"
      ]
     },
     "execution_count": 63,
     "metadata": {},
     "output_type": "execute_result"
    },
    {
     "data": {
      "image/png": "[encoded data removed]",
      "text/plain": [
       "<Figure size 432x288 with 1 Axes>"
      ]
     },
     "metadata": {
      "needs_background": "light"
     },
     "output_type": "display_data"
    }
   ],
   "source": [
    "df['Sorted'].value_counts().plot(kind=\"bar\",title='Count(target)',color=plt.cm.Paired(np.arange(len(df))))"
   ]
  },
  {
   "cell_type": "markdown",
   "id": "3659c7af",
   "metadata": {},
   "source": [
    "## Create the Data Generators\n",
    "---"
   ]
  },
  {
   "cell_type": "code",
   "execution_count": 67,
   "id": "cb3d490f",
   "metadata": {},
   "outputs": [],
   "source": [
    "def get_training_dataframes(df):\n",
    "    \"\"\"Returns the training and test dataframes\n",
    "    Splits the dataframe int a .75 and .25 training and test set respectively\"\"\"\n",
    "    # Convert the sorted column to string otherwises data generators will not work\n",
    "    df[\"Sorted\"]=df[\"Sorted\"].astype(str)\n",
    "    # Split the dataframe into a train and test set into a .75 and .25 training and test set respectively\n",
    "    # get the first 500 rows\n",
    "    traindf=df.iloc[:500,:]\n",
    "    # get the remaining rows\n",
    "    testdf=df.iloc[500:,:]\n",
    "    return  traindf,testdf"
   ]
  },
  {
   "cell_type": "code",
   "execution_count": 70,
   "id": "585d9c13",
   "metadata": {},
   "outputs": [],
   "source": [
    "def get_column_names(df):\n",
    "    \"\"\" x (data) and y (labels) column names from the dataframe \"\"\"\n",
    "    x_col_name=df.columns[0]\n",
    "    y_col_name=df.columns[1]\n",
    "    return x_col_name,y_col_name"
   ]
  },
  {
   "cell_type": "markdown",
   "id": "cf669819",
   "metadata": {},
   "source": [
    "## Flow the images from the dataframe\n",
    "- resize the images \n",
    "- shuffle the images\n",
    "- divide the data into a training and validation subset\n",
    "- set a random seed"
   ]
  },
  {
   "cell_type": "code",
   "execution_count": 77,
   "id": "4b553451",
   "metadata": {},
   "outputs": [
    {
     "name": "stdout",
     "output_type": "stream",
     "text": [
      "Found 400 validated image filenames belonging to 2 classes.\n"
     ]
    }
   ],
   "source": [
    "traindf,testdf=get_training_dataframes(df)\n",
    "x_col_name,y_col_name=get_column_names(df)\n",
    "\n",
    "train_generator=train_datagen.flow_from_dataframe(\n",
    "dataframe=traindf,\n",
    "directory=dataset_path,\n",
    "x_col=x_col_name,   # image filenames\n",
    "y_col=y_col_name,   # labels \n",
    "subset=\"training\",\n",
    "batch_size=25,\n",
    "seed=42,\n",
    "shuffle=True,\n",
    "class_mode=\"categorical\",\n",
    "target_size=img_shape)\n",
    "\n",
    "valid_generator=train_datagen.flow_from_dataframe(\n",
    "dataframe=traindf,\n",
    "directory=dataset_path,\n",
    "x_col=x_col_name, #image filenames\n",
    "y_col=y_col_name,   # class names in this case good/bad\n",
    "subset=\"validation\", #only difference is this\n",
    "batch_size=10, #135/6=15\n",
    "seed=42,\n",
    "shuffle=True,\n",
    "class_mode=\"categorical\",\n",
    "target_size=img_shape)\n"
   ]
  },
  {
   "cell_type": "markdown",
   "id": "680e874f",
   "metadata": {},
   "source": [
    "## Create the Model\n",
    "----\n",
    "Create a simple Sequential Model"
   ]
  },
  {
   "cell_type": "code",
   "execution_count": 132,
   "id": "ec859eda",
   "metadata": {},
   "outputs": [],
   "source": [
    "def prepare_model():\n",
    "    metrics=[TruePositives(name='tp'),FalsePositives(name='fp'), TrueNegatives(name='tn'), FalseNegatives(name='fn'), Accuracy(name=\"accuracy\"), Precision(name=\"precision\"), Recall(name=\"recall\"),AUC(name=\"AUC\")]\n",
    "    model = keras.Sequential()\n",
    "    model.add(Conv2D(32,kernel_size=(3,3),activation='relu',input_shape=img_shape+(3,)))\n",
    "    model.add(MaxPooling2D(pool_size=(2, 2)))\n",
    "    model.add(Conv2D(32, (3, 3),activation='relu'))\n",
    "    model.add(MaxPooling2D(pool_size=(2, 2)))\n",
    "    model.add(Conv2D(32, (3, 3),activation='relu'))\n",
    "    model.add(MaxPooling2D(pool_size=(2, 2)))\n",
    "    model.add(Conv2D(32, (3, 3),activation='relu'))\n",
    "    model.add(MaxPooling2D(pool_size=(2, 2)))\n",
    "    model.add(Dropout(0.25))\n",
    "    model.add(Flatten())\n",
    "    model.add(Dense(16, activation='relu'))\n",
    "    model.add(Dense(2, activation='softmax'))\n",
    "    model.compile(loss=\"categorical_crossentropy\",optimizer=\"adam\",metrics=metrics)\n",
    "    return model"
   ]
  },
  {
   "cell_type": "code",
   "execution_count": 133,
   "id": "2ce6b46f",
   "metadata": {},
   "outputs": [],
   "source": [
    "model = prepare_model()"
   ]
  },
  {
   "cell_type": "code",
   "execution_count": 134,
   "id": "f4ee93ad",
   "metadata": {},
   "outputs": [
    {
     "name": "stdout",
     "output_type": "stream",
     "text": [
      "Model: \"sequential_2\"\n",
      "_________________________________________________________________\n",
      " Layer (type)                Output Shape              Param #   \n",
      "=================================================================\n",
      " conv2d_6 (Conv2D)           (None, 98, 98, 32)        896       \n",
      "                                                                 \n",
      " max_pooling2d_6 (MaxPooling  (None, 49, 49, 32)       0         \n",
      " 2D)                                                             \n",
      "                                                                 \n",
      " conv2d_7 (Conv2D)           (None, 47, 47, 32)        9248      \n",
      "                                                                 \n",
      " max_pooling2d_7 (MaxPooling  (None, 23, 23, 32)       0         \n",
      " 2D)                                                             \n",
      "                                                                 \n",
      " conv2d_8 (Conv2D)           (None, 21, 21, 32)        9248      \n",
      "                                                                 \n",
      " max_pooling2d_8 (MaxPooling  (None, 10, 10, 32)       0         \n",
      " 2D)                                                             \n",
      "                                                                 \n",
      " conv2d_9 (Conv2D)           (None, 8, 8, 32)          9248      \n",
      "                                                                 \n",
      " max_pooling2d_9 (MaxPooling  (None, 4, 4, 32)         0         \n",
      " 2D)                                                             \n",
      "                                                                 \n",
      " dropout_2 (Dropout)         (None, 4, 4, 32)          0         \n",
      "                                                                 \n",
      " flatten_2 (Flatten)         (None, 512)               0         \n",
      "                                                                 \n",
      " dense_4 (Dense)             (None, 16)                8208      \n",
      "                                                                 \n",
      " dense_5 (Dense)             (None, 2)                 34        \n",
      "                                                                 \n",
      "=================================================================\n",
      "Total params: 36,882\n",
      "Trainable params: 36,882\n",
      "Non-trainable params: 0\n",
      "_________________________________________________________________\n"
     ]
    }
   ],
   "source": [
    "model.summary()"
   ]
  },
  {
   "cell_type": "code",
   "execution_count": 137,
   "id": "2a595226",
   "metadata": {},
   "outputs": [
    {
     "name": "stdout",
     "output_type": "stream",
     "text": [
      "Epoch 1/15\n",
      "16/16 [==============================] - 13s 818ms/step - loss: 0.5114 - tp: 308.0000 - fp: 92.0000 - tn: 308.0000 - fn: 92.0000 - accuracy: 0.0000e+00 - precision: 0.7700 - recall: 0.7700 - AUC: 0.8388 - val_loss: 0.3819 - val_tp: 217.0000 - val_fp: 33.0000 - val_tn: 217.0000 - val_fn: 33.0000 - val_accuracy: 0.0000e+00 - val_precision: 0.8680 - val_recall: 0.8680 - val_AUC: 0.9264\n",
      "Epoch 2/15\n",
      "16/16 [==============================] - 11s 713ms/step - loss: 0.3126 - tp: 356.0000 - fp: 44.0000 - tn: 356.0000 - fn: 44.0000 - accuracy: 0.0050 - precision: 0.8900 - recall: 0.8900 - AUC: 0.9323 - val_loss: 0.2658 - val_tp: 230.0000 - val_fp: 20.0000 - val_tn: 230.0000 - val_fn: 20.0000 - val_accuracy: 0.0300 - val_precision: 0.9200 - val_recall: 0.9200 - val_AUC: 0.9538\n",
      "Epoch 3/15\n",
      "16/16 [==============================] - 11s 669ms/step - loss: 0.2385 - tp: 373.0000 - fp: 27.0000 - tn: 373.0000 - fn: 27.0000 - accuracy: 0.0400 - precision: 0.9325 - recall: 0.9325 - AUC: 0.9646 - val_loss: 0.2515 - val_tp: 232.0000 - val_fp: 18.0000 - val_tn: 232.0000 - val_fn: 18.0000 - val_accuracy: 0.0500 - val_precision: 0.9280 - val_recall: 0.9280 - val_AUC: 0.9617\n",
      "Epoch 4/15\n",
      "16/16 [==============================] - 13s 799ms/step - loss: 0.2348 - tp: 376.0000 - fp: 24.0000 - tn: 376.0000 - fn: 24.0000 - accuracy: 0.0475 - precision: 0.9400 - recall: 0.9400 - AUC: 0.9572 - val_loss: 0.2667 - val_tp: 232.0000 - val_fp: 18.0000 - val_tn: 232.0000 - val_fn: 18.0000 - val_accuracy: 0.0660 - val_precision: 0.9280 - val_recall: 0.9280 - val_AUC: 0.9716\n",
      "Epoch 5/15\n",
      "16/16 [==============================] - 13s 805ms/step - loss: 0.2064 - tp: 376.0000 - fp: 24.0000 - tn: 376.0000 - fn: 24.0000 - accuracy: 0.0562 - precision: 0.9400 - recall: 0.9400 - AUC: 0.9713 - val_loss: 0.2130 - val_tp: 234.0000 - val_fp: 16.0000 - val_tn: 234.0000 - val_fn: 16.0000 - val_accuracy: 0.0500 - val_precision: 0.9360 - val_recall: 0.9360 - val_AUC: 0.9662\n",
      "Epoch 6/15\n",
      "16/16 [==============================] - 13s 825ms/step - loss: 0.2111 - tp: 373.0000 - fp: 27.0000 - tn: 373.0000 - fn: 27.0000 - accuracy: 0.0562 - precision: 0.9325 - recall: 0.9325 - AUC: 0.9674 - val_loss: 0.1784 - val_tp: 237.0000 - val_fp: 13.0000 - val_tn: 237.0000 - val_fn: 13.0000 - val_accuracy: 0.0460 - val_precision: 0.9480 - val_recall: 0.9480 - val_AUC: 0.9766\n",
      "Epoch 7/15\n",
      "16/16 [==============================] - 13s 826ms/step - loss: 0.2031 - tp: 379.0000 - fp: 21.0000 - tn: 379.0000 - fn: 21.0000 - accuracy: 0.0500 - precision: 0.9475 - recall: 0.9475 - AUC: 0.9651 - val_loss: 0.2039 - val_tp: 234.0000 - val_fp: 16.0000 - val_tn: 234.0000 - val_fn: 16.0000 - val_accuracy: 0.0540 - val_precision: 0.9360 - val_recall: 0.9360 - val_AUC: 0.9749\n",
      "Epoch 8/15\n",
      "16/16 [==============================] - 12s 745ms/step - loss: 0.1760 - tp: 380.0000 - fp: 20.0000 - tn: 380.0000 - fn: 20.0000 - accuracy: 0.0613 - precision: 0.9500 - recall: 0.9500 - AUC: 0.9758 - val_loss: 0.1867 - val_tp: 238.0000 - val_fp: 12.0000 - val_tn: 238.0000 - val_fn: 12.0000 - val_accuracy: 0.0580 - val_precision: 0.9520 - val_recall: 0.9520 - val_AUC: 0.9776\n",
      "Epoch 9/15\n",
      "16/16 [==============================] - 13s 799ms/step - loss: 0.1619 - tp: 382.0000 - fp: 18.0000 - tn: 382.0000 - fn: 18.0000 - accuracy: 0.0575 - precision: 0.9550 - recall: 0.9550 - AUC: 0.9791 - val_loss: 0.1096 - val_tp: 242.0000 - val_fp: 8.0000 - val_tn: 242.0000 - val_fn: 8.0000 - val_accuracy: 0.0600 - val_precision: 0.9680 - val_recall: 0.9680 - val_AUC: 0.9937\n",
      "Epoch 10/15\n",
      "16/16 [==============================] - 13s 803ms/step - loss: 0.1551 - tp: 382.0000 - fp: 18.0000 - tn: 382.0000 - fn: 18.0000 - accuracy: 0.0525 - precision: 0.9550 - recall: 0.9550 - AUC: 0.9812 - val_loss: 0.1455 - val_tp: 240.0000 - val_fp: 10.0000 - val_tn: 240.0000 - val_fn: 10.0000 - val_accuracy: 0.0580 - val_precision: 0.9600 - val_recall: 0.9600 - val_AUC: 0.9837\n",
      "Epoch 11/15\n",
      "16/16 [==============================] - 14s 842ms/step - loss: 0.1410 - tp: 384.0000 - fp: 16.0000 - tn: 384.0000 - fn: 16.0000 - accuracy: 0.0625 - precision: 0.9600 - recall: 0.9600 - AUC: 0.9841 - val_loss: 0.1388 - val_tp: 240.0000 - val_fp: 10.0000 - val_tn: 240.0000 - val_fn: 10.0000 - val_accuracy: 0.0680 - val_precision: 0.9600 - val_recall: 0.9600 - val_AUC: 0.9871\n",
      "Epoch 12/15\n",
      "16/16 [==============================] - 13s 817ms/step - loss: 0.1557 - tp: 381.0000 - fp: 19.0000 - tn: 381.0000 - fn: 19.0000 - accuracy: 0.0675 - precision: 0.9525 - recall: 0.9525 - AUC: 0.9821 - val_loss: 0.1288 - val_tp: 241.0000 - val_fp: 9.0000 - val_tn: 241.0000 - val_fn: 9.0000 - val_accuracy: 0.0560 - val_precision: 0.9640 - val_recall: 0.9640 - val_AUC: 0.9905\n",
      "Epoch 13/15\n",
      "16/16 [==============================] - 13s 822ms/step - loss: 0.1881 - tp: 377.0000 - fp: 23.0000 - tn: 377.0000 - fn: 23.0000 - accuracy: 0.0562 - precision: 0.9425 - recall: 0.9425 - AUC: 0.9720 - val_loss: 0.1796 - val_tp: 237.0000 - val_fp: 13.0000 - val_tn: 237.0000 - val_fn: 13.0000 - val_accuracy: 0.0500 - val_precision: 0.9480 - val_recall: 0.9480 - val_AUC: 0.9820\n",
      "Epoch 14/15\n",
      "16/16 [==============================] - ETA: 0s - loss: 0.1625 - tp: 382.0000 - fp: 18.0000 - tn: 382.0000 - fn: 18.0000 - accuracy: 0.0550 - precision: 0.9550 - recall: 0.9550 - AUC: 0.9768"
     ]
    }
   ],
   "source": [
    "history=model.fit(train_generator,\n",
    "                    validation_data = train_generator,\n",
    "                    steps_per_epoch = train_generator.n//train_generator.batch_size,\n",
    "                    validation_steps = valid_generator.n//valid_generator.batch_size,\n",
    "                    epochs=15)"
   ]
  },
  {
   "cell_type": "markdown",
   "id": "788fbcbc",
   "metadata": {},
   "source": [
    "## Evaluate Model Performance\n",
    "---"
   ]
  },
  {
   "cell_type": "code",
   "execution_count": 136,
   "id": "6af50b21",
   "metadata": {},
   "outputs": [
    {
     "name": "stdout",
     "output_type": "stream",
     "text": [
      "10/10 [==============================] - 2s 150ms/step - loss: 0.5529 - tp: 73.0000 - fp: 27.0000 - tn: 73.0000 - fn: 27.0000 - accuracy: 0.0000e+00 - precision: 0.7300 - recall: 0.7300 - AUC: 0.8714\n",
      "[0.552876889705658, 73.0, 27.0, 73.0, 27.0, 0.0, 0.7300000190734863, 0.7300000190734863, 0.871399998664856]\n",
      "Test loss: 0.552876889705658\n",
      "True Positives: 73.0\n",
      "False Positives: 27.0\n",
      "True Negatives: 73.0\n",
      "False Negatives: 27.0\n",
      "Accuracy: 0.0\n",
      "Precision: 0.7300000190734863\n",
      "Recall: 0.7300000190734863\n",
      "AUC: 0.871399998664856\n"
     ]
    }
   ],
   "source": [
    "score = model.evaluate(valid_generator)\n",
    "print(score)\n",
    "print('Test loss:', score[0])\n",
    "print('True Positives:', score[1])\n",
    "print('False Positives:', score[2])\n",
    "print('True Negatives:', score[3])\n",
    "print('False Negatives:', score[4])\n",
    "print('Accuracy:', score[5])\n",
    "print('Precision:', score[6])\n",
    "print('Recall:', score[7])\n",
    "print('AUC:', score[8])"
   ]
  },
  {
   "cell_type": "code",
   "execution_count": 87,
   "id": "d7401590",
   "metadata": {},
   "outputs": [],
   "source": [
    "metrics_df = pd.DataFrame(history.history)"
   ]
  },
  {
   "cell_type": "markdown",
   "id": "16fd0574",
   "metadata": {},
   "source": [
    "### Plot some graphs to evaluate the model performance"
   ]
  },
  {
   "cell_type": "code",
   "execution_count": 88,
   "id": "45a441a9",
   "metadata": {},
   "outputs": [
    {
     "data": {
      "text/plain": [
       "<AxesSubplot:>"
      ]
     },
     "execution_count": 88,
     "metadata": {},
     "output_type": "execute_result"
    },
    {
     "data": {
      "image/png": "[encoded data removed]",
      "text/plain": [
       "<Figure size 432x288 with 1 Axes>"
      ]
     },
     "metadata": {
      "needs_background": "light"
     },
     "output_type": "display_data"
    }
   ],
   "source": [
    "metrics_df[[\"loss\",\"val_loss\"]].plot()"
   ]
  },
  {
   "cell_type": "code",
   "execution_count": 89,
   "id": "48e47196",
   "metadata": {},
   "outputs": [
    {
     "data": {
      "text/plain": [
       "<AxesSubplot:>"
      ]
     },
     "execution_count": 89,
     "metadata": {},
     "output_type": "execute_result"
    },
    {
     "data": {
      "image/png": "[encoded data removed]",
      "text/plain": [
       "<Figure size 432x288 with 1 Axes>"
      ]
     },
     "metadata": {
      "needs_background": "light"
     },
     "output_type": "display_data"
    }
   ],
   "source": [
    "metrics_df[[\"accuracy\",\"val_accuracy\"]].plot()"
   ]
  },
  {
   "cell_type": "code",
   "execution_count": 90,
   "id": "b5c42779",
   "metadata": {},
   "outputs": [
    {
     "data": {
      "text/plain": [
       "<AxesSubplot:>"
      ]
     },
     "execution_count": 90,
     "metadata": {},
     "output_type": "execute_result"
    },
    {
     "data": {
      "image/png": "[encoded data removed]",
      "text/plain": [
       "<Figure size 432x288 with 1 Axes>"
      ]
     },
     "metadata": {
      "needs_background": "light"
     },
     "output_type": "display_data"
    }
   ],
   "source": [
    "\n",
    "metrics_df[[\"val_recall\",\"recall\",\"AUC\",\"val_AUC\"]].plot()"
   ]
  },
  {
   "cell_type": "code",
   "execution_count": 91,
   "id": "ece0e45f",
   "metadata": {},
   "outputs": [
    {
     "data": {
      "text/plain": [
       "<AxesSubplot:>"
      ]
     },
     "execution_count": 91,
     "metadata": {},
     "output_type": "execute_result"
    },
    {
     "data": {
      "image/png": "[encoded data removed]",
      "text/plain": [
       "<Figure size 432x288 with 1 Axes>"
      ]
     },
     "metadata": {
      "needs_background": "light"
     },
     "output_type": "display_data"
    }
   ],
   "source": [
    "\n",
    "metrics_df[[\"val_precision\",\"precision\"]].plot()"
   ]
  },
  {
   "cell_type": "markdown",
   "id": "a34e68f7",
   "metadata": {},
   "source": [
    "## Save the Model and Training Metrics\n",
    "1. Create a folder with the name of the model the user provides to store all the data in\n",
    "2. Save the metrics dataframe as a csv\n",
    "3. Save the actual model"
   ]
  },
  {
   "cell_type": "code",
   "execution_count": 128,
   "id": "89dfce96",
   "metadata": {},
   "outputs": [],
   "source": [
    "# Enter the name of your model\n",
    "model_name=\"model_100_x_100\""
   ]
  },
  {
   "cell_type": "code",
   "execution_count": 117,
   "id": "cfa54a59",
   "metadata": {},
   "outputs": [],
   "source": [
    "def save_model_data(model_name:str,model:'keras.engine.sequential.Sequential',metrics_df:pd.DataFrame):\n",
    "    # Create a directory to store all the model data\n",
    "    model_save_path=os.getcwd()+os.sep+\"models\"\n",
    "    if not os.path.exists(model_save_path):\n",
    "        os.mkdir(model_save_path)\n",
    "    model_save_path=os.getcwd()+os.sep+\"models\"+os.sep+model_name\n",
    "    if os.path.exists(model_save_path):\n",
    "        raise FileExistsError(f\"This folder '{model_name}' already exists: {model_save_path}.\\n Please rename your model.\")\n",
    "    else:\n",
    "        os.mkdir(model_save_path)\n",
    "    # Save the model history (training metrics) to csv\n",
    "    metrics_df.to_csv(model_save_path+ os.sep+\"model_metrics.csv\",index=False)\n",
    "    # Save the actual model\n",
    "    model.save(model_save_path+os.sep+\"model\")"
   ]
  },
  {
   "cell_type": "code",
   "execution_count": 119,
   "id": "bad6d0ae",
   "metadata": {},
   "outputs": [
    {
     "name": "stdout",
     "output_type": "stream",
     "text": [
      "INFO:tensorflow:Assets written to: c:\\1_USGS\\2_Machine_Learning\\3_sniffer_classifier\\Sniffer-Classifier\\models\\model_100_x_100\\model\\assets\n"
     ]
    }
   ],
   "source": [
    "# This might take a few seconds\n",
    "save_model_data(model_name,model,metrics_df)"
   ]
  }
 ],
 "metadata": {
  "kernelspec": {
   "display_name": "Python 3 (ipykernel)",
   "language": "python",
   "name": "python3"
  },
  "language_info": {
   "codemirror_mode": {
    "name": "ipython",
    "version": 3
   },
   "file_extension": ".py",
   "mimetype": "text/x-python",
   "name": "python",
   "nbconvert_exporter": "python",
   "pygments_lexer": "ipython3",
   "version": "3.7.11"
  }
 },
 "nbformat": 4,
 "nbformat_minor": 5
}
