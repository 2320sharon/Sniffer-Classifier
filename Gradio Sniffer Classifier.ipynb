{
 "cells": [
  {
   "cell_type": "code",
   "execution_count": 1,
   "id": "04ccf998",
   "metadata": {},
   "outputs": [
    {
     "name": "stderr",
     "output_type": "stream",
     "text": [
      "C:\\Users\\Sharon\\anaconda\\envs\\machine_learning\\lib\\site-packages\\paramiko\\transport.py:236: CryptographyDeprecationWarning: Blowfish has been deprecated\n",
      "  \"class\": algorithms.Blowfish,\n"
     ]
    }
   ],
   "source": [
    "import gradio as gr\n",
    "import os\n",
    "import pandas as pd\n",
    "import numpy as np\n",
    "\n",
    "import tensorflow as tf\n",
    "from tensorflow import keras\n",
    "from skimage import transform\n"
   ]
  },
  {
   "cell_type": "code",
   "execution_count": 9,
   "id": "a1b40a32",
   "metadata": {},
   "outputs": [
    {
     "name": "stderr",
     "output_type": "stream",
     "text": [
      "config.json not found in HuggingFace Hub\n"
     ]
    },
    {
     "name": "stdout",
     "output_type": "stream",
     "text": [
      "WARNING:tensorflow:No training configuration found in save file, so the model was *not* compiled. Compile it manually.\n",
      "Model: \"sequential\"\n",
      "_________________________________________________________________\n",
      " Layer (type)                Output Shape              Param #   \n",
      "=================================================================\n",
      " conv2d (Conv2D)             (None, 498, 248, 32)      896       \n",
      "                                                                 \n",
      " max_pooling2d (MaxPooling2D  (None, 249, 124, 32)     0         \n",
      " )                                                               \n",
      "                                                                 \n",
      " conv2d_1 (Conv2D)           (None, 247, 122, 32)      9248      \n",
      "                                                                 \n",
      " max_pooling2d_1 (MaxPooling  (None, 123, 61, 32)      0         \n",
      " 2D)                                                             \n",
      "                                                                 \n",
      " conv2d_2 (Conv2D)           (None, 121, 59, 32)       9248      \n",
      "                                                                 \n",
      " max_pooling2d_2 (MaxPooling  (None, 60, 29, 32)       0         \n",
      " 2D)                                                             \n",
      "                                                                 \n",
      " dropout (Dropout)           (None, 60, 29, 32)        0         \n",
      "                                                                 \n",
      " flatten (Flatten)           (None, 55680)             0         \n",
      "                                                                 \n",
      " dense (Dense)               (None, 16)                890896    \n",
      "                                                                 \n",
      " dense_1 (Dense)             (None, 2)                 34        \n",
      "                                                                 \n",
      "=================================================================\n",
      "Total params: 910,322\n",
      "Trainable params: 910,322\n",
      "Non-trainable params: 0\n",
      "_________________________________________________________________\n"
     ]
    }
   ],
   "source": [
    "\n",
    "# Load the model from hugging spaces\n",
    "# If this fails then load it from the local machine using keras.load()\n",
    "# model=keras.models.load_model('./models/model5_random_over_sampling_precision')\n",
    "from huggingface_hub.keras_mixin import from_pretrained_keras\n",
    "m=from_pretrained_keras(\"2320sharon/Sniffer-Classifer\")\n",
    "m.summary()\n"
   ]
  },
  {
   "cell_type": "code",
   "execution_count": 10,
   "id": "4d9e981a",
   "metadata": {},
   "outputs": [
    {
     "name": "stdout",
     "output_type": "stream",
     "text": [
      "Running on local URL:  http://127.0.0.1:7862/\n",
      "Running on public URL: https://43117.gradio.app\n",
      "\n",
      "This share link expires in 72 hours. For free permanent hosting, check out Spaces (https://huggingface.co/spaces)\n"
     ]
    },
    {
     "data": {
      "text/html": [
       "\n",
       "        <iframe\n",
       "            width=\"900\"\n",
       "            height=\"500\"\n",
       "            src=\"https://43117.gradio.app\"\n",
       "            frameborder=\"0\"\n",
       "            allowfullscreen\n",
       "            \n",
       "        ></iframe>\n",
       "        "
      ],
      "text/plain": [
       "<IPython.lib.display.IFrame at 0x1febcaf73c8>"
      ]
     },
     "metadata": {},
     "output_type": "display_data"
    },
    {
     "name": "stdout",
     "output_type": "stream",
     "text": [
      "<class 'numpy.ndarray'>\n",
      "(200, 200, 3)\n",
      "(500, 250, 3)\n",
      "(1, 500, 250, 3)\n",
      "[[1. 0.]]\n",
      "good\n"
     ]
    }
   ],
   "source": [
    "def call_model(img):\n",
    "    print(type(img))\n",
    "    print(img.shape)\n",
    "    img=transform.resize(img,(500, 250, 3), preserve_range=True, clip=True)\n",
    "    # Convert to numpy array\n",
    "    print(img.shape)\n",
    "    img= tf.expand_dims(img, 0)\n",
    "    print(img.shape)\n",
    "    prediction=m.predict(img)\n",
    "    print(prediction)\n",
    "    reverse_mapping={0:\"good\",1:\"bad\"}\n",
    "#     prediction=prediction.flatten().argmax(axis=0)\n",
    "    label=reverse_mapping[prediction.flatten().argmax(axis=0)]\n",
    "    print(label)\n",
    "    return label\n",
    "\n",
    "\n",
    "demo = gr.Interface(call_model, gr.inputs.Image(shape=(200, 200)), outputs=gr.outputs.Textbox(type=\"str\"))\n",
    "\n",
    "if __name__ == \"__main__\":\n",
    "    demo.launch(share=True)"
   ]
  },
  {
   "cell_type": "code",
   "execution_count": null,
   "id": "9a2d34af",
   "metadata": {},
   "outputs": [],
   "source": []
  }
 ],
 "metadata": {
  "kernelspec": {
   "display_name": "Python 3 (ipykernel)",
   "language": "python",
   "name": "python3"
  },
  "language_info": {
   "codemirror_mode": {
    "name": "ipython",
    "version": 3
   },
   "file_extension": ".py",
   "mimetype": "text/x-python",
   "name": "python",
   "nbconvert_exporter": "python",
   "pygments_lexer": "ipython3",
   "version": "3.7.11"
  }
 },
 "nbformat": 4,
 "nbformat_minor": 5
}
