{
 "cells": [
  {
   "cell_type": "code",
   "execution_count": 1,
   "id": "470cd0ef",
   "metadata": {},
   "outputs": [
    {
     "name": "stderr",
     "output_type": "stream",
     "text": [
      "C:\\Users\\Sharon\\anaconda\\envs\\machine_learning\\lib\\site-packages\\paramiko\\transport.py:236: CryptographyDeprecationWarning: Blowfish has been deprecated\n",
      "  \"class\": algorithms.Blowfish,\n"
     ]
    }
   ],
   "source": [
    "import gradio as gr\n",
    "import os\n",
    "import pandas as pd\n",
    "import numpy as np\n",
    "\n",
    "import tensorflow as tf\n",
    "from tensorflow import keras\n",
    "from skimage import transform\n"
   ]
  },
  {
   "cell_type": "code",
   "execution_count": 2,
   "id": "ddfaac7b",
   "metadata": {},
   "outputs": [
    {
     "name": "stderr",
     "output_type": "stream",
     "text": [
      "config.json not found in HuggingFace Hub\n"
     ]
    },
    {
     "name": "stdout",
     "output_type": "stream",
     "text": [
      "WARNING:tensorflow:No training configuration found in save file, so the model was *not* compiled. Compile it manually.\n"
     ]
    }
   ],
   "source": [
    "\n",
    "# Load the model from hugging spaces\n",
    "# If this fails then load it from the local machine using keras.load()\n",
    "# model=keras.models.load_model('./models/model5_random_over_sampling_precision')\n",
    "from huggingface_hub.keras_mixin import from_pretrained_keras\n",
    "m=from_pretrained_keras(\"2320sharon/Sniffer-Classifer\")\n",
    "\n"
   ]
  },
  {
   "cell_type": "code",
   "execution_count": 3,
   "id": "51d150df",
   "metadata": {},
   "outputs": [
    {
     "name": "stdout",
     "output_type": "stream",
     "text": [
      "Model: \"sequential\"\n",
      "_________________________________________________________________\n",
      " Layer (type)                Output Shape              Param #   \n",
      "=================================================================\n",
      " conv2d (Conv2D)             (None, 498, 248, 32)      896       \n",
      "                                                                 \n",
      " max_pooling2d (MaxPooling2D  (None, 249, 124, 32)     0         \n",
      " )                                                               \n",
      "                                                                 \n",
      " conv2d_1 (Conv2D)           (None, 247, 122, 32)      9248      \n",
      "                                                                 \n",
      " max_pooling2d_1 (MaxPooling  (None, 123, 61, 32)      0         \n",
      " 2D)                                                             \n",
      "                                                                 \n",
      " conv2d_2 (Conv2D)           (None, 121, 59, 32)       9248      \n",
      "                                                                 \n",
      " max_pooling2d_2 (MaxPooling  (None, 60, 29, 32)       0         \n",
      " 2D)                                                             \n",
      "                                                                 \n",
      " dropout (Dropout)           (None, 60, 29, 32)        0         \n",
      "                                                                 \n",
      " flatten (Flatten)           (None, 55680)             0         \n",
      "                                                                 \n",
      " dense (Dense)               (None, 16)                890896    \n",
      "                                                                 \n",
      " dense_1 (Dense)             (None, 2)                 34        \n",
      "                                                                 \n",
      "=================================================================\n",
      "Total params: 910,322\n",
      "Trainable params: 910,322\n",
      "Non-trainable params: 0\n",
      "_________________________________________________________________\n"
     ]
    }
   ],
   "source": [
    "new_model = tf.keras.models.load_model('model')\n",
    "new_model.summary()\n",
    "m=new_model"
   ]
  },
  {
   "cell_type": "code",
   "execution_count": 4,
   "id": "12c8464f",
   "metadata": {},
   "outputs": [
    {
     "name": "stdout",
     "output_type": "stream",
     "text": [
      "<class 'numpy.ndarray'>\n"
     ]
    }
   ],
   "source": [
    "image_path=r\"C:\\Users\\Sharon\\Downloads\\ob-20220412T220737Z-001\\ob\"+os.sep+\"2017-09-25-18-52-27_L8_rgbr.jpg\"\n",
    "img = keras.preprocessing.image.load_img(\n",
    "    image_path, target_size=(500,250))\n",
    "img_array = keras.preprocessing.image.img_to_array(img)\n",
    "img_array = tf.expand_dims(img_array, 0)  # Create batch axis\n",
    "np.array(img_array) \n",
    "print(type(np.array(img_array) ))"
   ]
  },
  {
   "cell_type": "code",
   "execution_count": 5,
   "id": "003757ac",
   "metadata": {},
   "outputs": [
    {
     "data": {
      "text/plain": [
       "(500, 250, 3)"
      ]
     },
     "execution_count": 5,
     "metadata": {},
     "output_type": "execute_result"
    }
   ],
   "source": [
    "new_array=np.resize(img_array,(500, 250, 3))\n",
    "new_array.shape"
   ]
  },
  {
   "cell_type": "code",
   "execution_count": 6,
   "id": "d3788d02",
   "metadata": {},
   "outputs": [
    {
     "data": {
      "text/plain": [
       "array([[1., 0.]], dtype=float32)"
      ]
     },
     "execution_count": 6,
     "metadata": {},
     "output_type": "execute_result"
    }
   ],
   "source": [
    "m.predict(np.array(img_array))"
   ]
  },
  {
   "cell_type": "code",
   "execution_count": 7,
   "id": "c357057f",
   "metadata": {},
   "outputs": [
    {
     "name": "stdout",
     "output_type": "stream",
     "text": [
      "Running on local URL:  http://127.0.0.1:7861/\n",
      "Running on public URL: https://28094.gradio.app\n",
      "\n",
      "This share link expires in 72 hours. For free permanent hosting, check out Spaces (https://huggingface.co/spaces)\n"
     ]
    },
    {
     "data": {
      "text/html": [
       "\n",
       "        <iframe\n",
       "            width=\"900\"\n",
       "            height=\"500\"\n",
       "            src=\"https://28094.gradio.app\"\n",
       "            frameborder=\"0\"\n",
       "            allowfullscreen\n",
       "            \n",
       "        ></iframe>\n",
       "        "
      ],
      "text/plain": [
       "<IPython.lib.display.IFrame at 0x1febebb8e08>"
      ]
     },
     "metadata": {},
     "output_type": "display_data"
    },
    {
     "name": "stdout",
     "output_type": "stream",
     "text": [
      "<class 'numpy.ndarray'>\n",
      "(200, 200, 3)\n",
      "(500, 250, 3)\n",
      "(1, 500, 250, 3)\n",
      "[[1. 0.]]\n",
      "good\n",
      "<class 'numpy.ndarray'>\n",
      "(200, 200, 3)\n",
      "(500, 250, 3)\n",
      "(1, 500, 250, 3)\n",
      "[[1. 0.]]\n",
      "good\n",
      "<class 'numpy.ndarray'>\n",
      "(200, 200, 3)\n",
      "(500, 250, 3)\n",
      "(1, 500, 250, 3)\n",
      "[[1. 0.]]\n",
      "good\n",
      "<class 'numpy.ndarray'>\n",
      "(200, 200, 3)\n",
      "(500, 250, 3)\n",
      "(1, 500, 250, 3)\n",
      "[[1. 0.]]\n",
      "good\n",
      "<class 'numpy.ndarray'>\n",
      "(200, 200, 3)\n",
      "(500, 250, 3)\n",
      "(1, 500, 250, 3)\n",
      "[[0. 1.]]\n",
      "bad\n",
      "<class 'numpy.ndarray'>\n",
      "(200, 200, 3)\n",
      "(500, 250, 3)\n",
      "(1, 500, 250, 3)\n",
      "[[1. 0.]]\n",
      "good\n"
     ]
    }
   ],
   "source": [
    "def call_model(img):\n",
    "    print(type(img))\n",
    "    print(img.shape)\n",
    "    img=transform.resize(img,(500, 250, 3), preserve_range=True, clip=True)\n",
    "    # Convert to numpy array\n",
    "    print(img.shape)\n",
    "    img= tf.expand_dims(img, 0)\n",
    "    print(img.shape)\n",
    "    prediction=m.predict(img)\n",
    "    print(prediction)\n",
    "    reverse_mapping={0:\"good\",1:\"bad\"}\n",
    "#     prediction=prediction.flatten().argmax(axis=0)\n",
    "    label=reverse_mapping[prediction.flatten().argmax(axis=0)]\n",
    "    print(label)\n",
    "    return label\n",
    "\n",
    "\n",
    "demo = gr.Interface(call_model, gr.inputs.Image(shape=(200, 200)), outputs=gr.outputs.Textbox(type=\"str\"))\n",
    "\n",
    "if __name__ == \"__main__\":\n",
    "    demo.launch(share=True)"
   ]
  },
  {
   "cell_type": "code",
   "execution_count": null,
   "id": "6f1a103f",
   "metadata": {},
   "outputs": [],
   "source": []
  }
 ],
 "metadata": {
  "kernelspec": {
   "display_name": "Python 3 (ipykernel)",
   "language": "python",
   "name": "python3"
  },
  "language_info": {
   "codemirror_mode": {
    "name": "ipython",
    "version": 3
   },
   "file_extension": ".py",
   "mimetype": "text/x-python",
   "name": "python",
   "nbconvert_exporter": "python",
   "pygments_lexer": "ipython3",
   "version": "3.7.11"
  }
 },
 "nbformat": 4,
 "nbformat_minor": 5
}
