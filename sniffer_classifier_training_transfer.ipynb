{
 "cells": [
  {
   "cell_type": "markdown",
   "id": "eff3dfeb",
   "metadata": {},
   "source": [
    "# Sniffer Classifer\n",
    "- Author: Sharon Fitzpatrick \n",
    "- Date April 2022\n",
    "</br>\n",
    "</br>\n",
    "CNN that distinguishes between \"good\" and \"bad\" imagery. Based on the image sorting tool Sniffer. Intended purpose is to quickly sort through geospatial imagery and filter out bad imagery such as images with large segments missing, cloudy  images, or images with errors."
   ]
  },
  {
   "cell_type": "code",
   "execution_count": 2,
   "id": "b2f44b38",
   "metadata": {},
   "outputs": [
    {
     "name": "stdout",
     "output_type": "stream",
     "text": [
      "The tensorboard extension is already loaded. To reload it, use:\n",
      "  %reload_ext tensorboard\n"
     ]
    }
   ],
   "source": [
    "import matplotlib.pyplot as plt\n",
    "from skimage import io\n",
    "import datetime\n",
    "\n",
    "import glob\n",
    "import os\n",
    "import pandas as pd\n",
    "import numpy as np\n",
    "\n",
    "import tensorflow as tf\n",
    "from tensorflow import keras\n",
    "\n",
    "from keras_preprocessing.image import ImageDataGenerator\n",
    "from keras_preprocessing.image import ImageDataGenerator\n",
    "from keras.layers import Dense, Flatten, Dropout\n",
    "from keras.layers import Conv2D, MaxPooling2D\n",
    "from keras.metrics import BinaryAccuracy, FalseNegatives, FalsePositives, TrueNegatives,TruePositives, Precision, Recall, AUC\n",
    "\n",
    "# Allows for matplot's to be displayed inline\n",
    "%matplotlib inline\n",
    "%load_ext tensorboard"
   ]
  },
  {
   "cell_type": "markdown",
   "id": "3dc9187c",
   "metadata": {},
   "source": [
    "## Local Variables\n",
    "Use these variables to change the training parameters for your CNN.\n",
    "- `dataset_path`: directory containing the  unzipped imagery\n",
    "- `img_shape` : shape (width , height) your imagery will be resized to. These are inputs into the model.\n",
    "- `imgs`: list containing all the jpgs  the model will be trained on"
   ]
  },
  {
   "cell_type": "code",
   "execution_count": 3,
   "id": "66810c20",
   "metadata": {},
   "outputs": [
    {
     "name": "stdout",
     "output_type": "stream",
     "text": [
      "In c:\\1_USGS\\CoastSeg\\repos\\6_sniffer-classifer\\Sniffer-Classifier\\images there are 2007 images\n"
     ]
    }
   ],
   "source": [
    "dataset_path=os.getcwd()+os.sep+\"images\"\n",
    "imgs=glob.glob(dataset_path+os.sep+\"*.jpg\")\n",
    "img_shape=(768, 768)\n",
    "print(\"In {0} there are {1:n} images\".format(dataset_path,len(imgs)))"
   ]
  },
  {
   "cell_type": "markdown",
   "id": "0aca7869",
   "metadata": {},
   "source": [
    "## Augmenting the Dataset\n",
    "Create an image generator to apply augmentations to the imagery.\n",
    "- standardizes the image sizes \n",
    "- applies zooms, flips, rotations to the imagery"
   ]
  },
  {
   "cell_type": "code",
   "execution_count": 4,
   "id": "587541d8",
   "metadata": {},
   "outputs": [
    {
     "name": "stderr",
     "output_type": "stream",
     "text": [
      "c:\\Users\\Sharon\\anaconda3\\envs\\ml_learning\\lib\\site-packages\\keras_preprocessing\\image\\image_data_generator.py:356: UserWarning: This ImageDataGenerator specifies `samplewise_std_normalization`, which overrides setting of `samplewise_center`.\n",
      "  warnings.warn('This ImageDataGenerator specifies '\n"
     ]
    }
   ],
   "source": [
    "train_datagen=ImageDataGenerator(\n",
    "samplewise_std_normalization=True,\n",
    "rotation_range=20,\n",
    "zoom_range=0.05,\n",
    "width_shift_range=0.05,\n",
    "height_shift_range=0.05,\n",
    "shear_range=0.05,\n",
    "horizontal_flip=True,\n",
    "fill_mode=\"nearest\",\n",
    "validation_split=0.20\n",
    ")\n",
    "# Not used at all in the code\n",
    "test_datagen=ImageDataGenerator(samplewise_std_normalization=True,)\n"
   ]
  },
  {
   "cell_type": "markdown",
   "id": "3d73ed02",
   "metadata": {},
   "source": [
    "# Read in the  csv file and transform in df\n",
    "1. Read in the csv\n",
    "2. Clean the csv by dropping unused columns\n",
    "3. Encode the categorical labels to binary labels consisting of 0 and 1"
   ]
  },
  {
   "cell_type": "code",
   "execution_count": 5,
   "id": "baaeaff3",
   "metadata": {},
   "outputs": [],
   "source": [
    "def clean_csv(csv: str):\n",
    "    \"\"\"Takes in the name of the csv file to clean (ex. 'master.csv') and a list labels to one hot encode.\n",
    "        Returns the modified dataframe.\n",
    "    \"\"\"\n",
    "    df =  pd.read_csv(csv)\n",
    "    if \"index\" in df.columns:\n",
    "        print(\"Dropping column index\")\n",
    "        df.drop(['index'],axis=1,inplace=True)\n",
    "    if \"Index\" in df.columns:\n",
    "        print(\"Dropping column Index\")\n",
    "        df.drop(['Index'],axis=1,inplace=True)\n",
    "    if \"Unnamed: 0\"in df.columns:\n",
    "        print(\"Dropping column Unnamed: 0\")\n",
    "        df.drop(['Unnamed: 0'],axis=1,inplace=True)\n",
    "    if \"Unnamed: 0.1\"in df.columns:\n",
    "        print(\"Dropping column Unnamed: 0.1\")\n",
    "        df.drop(['Unnamed: 0.1'],axis=1,inplace=True)\n",
    "    return df"
   ]
  },
  {
   "cell_type": "code",
   "execution_count": 6,
   "id": "00d6fbc9",
   "metadata": {},
   "outputs": [],
   "source": [
    "def binary_encode_labels(df:'pandas.core.frame.DataFrame',labels=[\"bad\",\"good\"]):\n",
    "  \"\"\" Returns the modified dataframe with the labels encoded as binary labels of 0 and 1\"\"\"\n",
    "  mapping = {}\n",
    "  df[\"Filename\"]=df[\"Filename\"].astype(str)\n",
    "  df[\"Sorted\"]=df[\"Sorted\"].astype(str)\n",
    "  if df[\"Sorted\"].str.contains('|'.join( [\"good\",\"bad\"])).any():\n",
    "    for x in range(len(labels)):\n",
    "      mapping[labels[x]] = x\n",
    "    # outputs {'good': 0, 'bad': 1}\n",
    "    # Replace each label in sorted with corresponding one hot encoded label\n",
    "    for x in range(len(df['Sorted'])):\n",
    "      df['Sorted'][x] = mapping[df['Sorted'][x]]\n",
    "    df[\"Sorted\"]=df[\"Sorted\"].astype(str)\n",
    "  return df"
   ]
  },
  {
   "cell_type": "code",
   "execution_count": 7,
   "id": "fa6dea1c",
   "metadata": {},
   "outputs": [],
   "source": [
    "def prep_dataset(csv:str):\n",
    "    # Clean the dataset read from the csv file\n",
    "    df=clean_csv(csv)\n",
    "    # Encode the categorical labels to binary labels of 0 and 1\n",
    "    df=binary_encode_labels(df)\n",
    "    return df"
   ]
  },
  {
   "cell_type": "code",
   "execution_count": 8,
   "id": "e0a40bfc",
   "metadata": {},
   "outputs": [
    {
     "name": "stdout",
     "output_type": "stream",
     "text": [
      "Dropping column Unnamed: 0\n"
     ]
    },
    {
     "data": {
      "text/html": [
       "<div>\n",
       "<style scoped>\n",
       "    .dataframe tbody tr th:only-of-type {\n",
       "        vertical-align: middle;\n",
       "    }\n",
       "\n",
       "    .dataframe tbody tr th {\n",
       "        vertical-align: top;\n",
       "    }\n",
       "\n",
       "    .dataframe thead th {\n",
       "        text-align: right;\n",
       "    }\n",
       "</style>\n",
       "<table border=\"1\" class=\"dataframe\">\n",
       "  <thead>\n",
       "    <tr style=\"text-align: right;\">\n",
       "      <th></th>\n",
       "      <th>Filename</th>\n",
       "      <th>Sorted</th>\n",
       "    </tr>\n",
       "  </thead>\n",
       "  <tbody>\n",
       "    <tr>\n",
       "      <th>0</th>\n",
       "      <td>1984-09-21-15-11-10_L5_rgb.jpg</td>\n",
       "      <td>1</td>\n",
       "    </tr>\n",
       "    <tr>\n",
       "      <th>1</th>\n",
       "      <td>1984-09-21-15-11-34_L5_rgb.jpg</td>\n",
       "      <td>1</td>\n",
       "    </tr>\n",
       "    <tr>\n",
       "      <th>2</th>\n",
       "      <td>1984-11-08-15-10-58_L5_rgb.jpg</td>\n",
       "      <td>1</td>\n",
       "    </tr>\n",
       "    <tr>\n",
       "      <th>3</th>\n",
       "      <td>1984-11-08-15-11-22_L5_rgb.jpg</td>\n",
       "      <td>1</td>\n",
       "    </tr>\n",
       "    <tr>\n",
       "      <th>4</th>\n",
       "      <td>1984-11-24-15-10-57_L5_rgb.jpg</td>\n",
       "      <td>0</td>\n",
       "    </tr>\n",
       "    <tr>\n",
       "      <th>...</th>\n",
       "      <td>...</td>\n",
       "      <td>...</td>\n",
       "    </tr>\n",
       "    <tr>\n",
       "      <th>691</th>\n",
       "      <td>2017-11-12-18-52-31_L8_rgb.jpg</td>\n",
       "      <td>0</td>\n",
       "    </tr>\n",
       "    <tr>\n",
       "      <th>692</th>\n",
       "      <td>2017-11-20-15-37-50_L7_rgb.jpg</td>\n",
       "      <td>1</td>\n",
       "    </tr>\n",
       "    <tr>\n",
       "      <th>693</th>\n",
       "      <td>2017-11-21-18-46-17_L8_rgb_img.jpg</td>\n",
       "      <td>0</td>\n",
       "    </tr>\n",
       "    <tr>\n",
       "      <th>694</th>\n",
       "      <td>2017-11-28-18-52-24_L8_rgb.jpg</td>\n",
       "      <td>1</td>\n",
       "    </tr>\n",
       "    <tr>\n",
       "      <th>695</th>\n",
       "      <td>2017-12-07-18-46-13_L8_rgb.jpg</td>\n",
       "      <td>1</td>\n",
       "    </tr>\n",
       "  </tbody>\n",
       "</table>\n",
       "<p>696 rows × 2 columns</p>\n",
       "</div>"
      ],
      "text/plain": [
       "                               Filename Sorted\n",
       "0        1984-09-21-15-11-10_L5_rgb.jpg      1\n",
       "1        1984-09-21-15-11-34_L5_rgb.jpg      1\n",
       "2        1984-11-08-15-10-58_L5_rgb.jpg      1\n",
       "3        1984-11-08-15-11-22_L5_rgb.jpg      1\n",
       "4        1984-11-24-15-10-57_L5_rgb.jpg      0\n",
       "..                                  ...    ...\n",
       "691      2017-11-12-18-52-31_L8_rgb.jpg      0\n",
       "692      2017-11-20-15-37-50_L7_rgb.jpg      1\n",
       "693  2017-11-21-18-46-17_L8_rgb_img.jpg      0\n",
       "694      2017-11-28-18-52-24_L8_rgb.jpg      1\n",
       "695      2017-12-07-18-46-13_L8_rgb.jpg      1\n",
       "\n",
       "[696 rows x 2 columns]"
      ]
     },
     "execution_count": 8,
     "metadata": {},
     "output_type": "execute_result"
    }
   ],
   "source": [
    "df=prep_dataset(\"transfer_master.csv\")\n",
    "df"
   ]
  },
  {
   "cell_type": "markdown",
   "id": "c130232c",
   "metadata": {},
   "source": [
    "## Random OverSampling\n",
    "Currently the dataset is imbalanced because the number of good and bad samples are not equal to each other.\n",
    "Use Random oversampling so that the the number of samples in both classes are equal."
   ]
  },
  {
   "cell_type": "code",
   "execution_count": 9,
   "id": "dfd0815f",
   "metadata": {},
   "outputs": [],
   "source": [
    "def random_oversampling(df,over_sample_class):\n",
    "    \"\"\"Apply random oversampling to the dataframe\"\"\"\n",
    "    # Count the number of entries in both classes\n",
    "    class_count_1,class_count_0=df['Sorted'].value_counts()['1'],df['Sorted'].value_counts()['0']\n",
    "    # Divide the dataframe into the two classes\n",
    "    class_0_df=df[df[\"Sorted\"]=='0']\n",
    "    # print(class_0_df)\n",
    "    class_1_df=df[df[\"Sorted\"]=='1']\n",
    "    # print(class_1_df)\n",
    "    # Oversample the the dataframe\n",
    "    if over_sample_class == 0:\n",
    "        # Oversample the 0 class by taking the class_0_df and use the df.sample() to create class_count_1 samples\n",
    "        class_over_0=class_0_df.sample(class_count_1,replace=True)\n",
    "        # Create a new dataframe with the oversampled class\n",
    "        df =pd.concat([class_over_0,class_1_df],axis=0)\n",
    "    elif over_sample_class == 1:\n",
    "         # Oversample the 1 class by taking the class_1_df and use the df.sample() to create class_count_0 samples\n",
    "        class_over_1=class_1_df.sample(class_count_0,replace=True)\n",
    "        # Create a new dataframe with the oversampled class\n",
    "        df =pd.concat([class_0_df,class_over_1],axis=0,ignore_index=True)\n",
    "    return df"
   ]
  },
  {
   "cell_type": "code",
   "execution_count": 10,
   "id": "01d4f51f",
   "metadata": {},
   "outputs": [],
   "source": [
    "def apply_random_oversampling(df):\n",
    "    \"\"\"Apply random oversampling to the class with the least amount of samples\"\"\"\n",
    "    labels=df['Sorted'].value_counts().index.tolist()\n",
    "    if any(\"0\" in word for word in labels ) and any(\"1\" in word for word in labels):\n",
    "        class_count_1,class_count_0=df['Sorted'].value_counts()['1'],df['Sorted'].value_counts()['0']\n",
    "        if class_count_0 < class_count_1:\n",
    "            # oversample class_count_0\n",
    "            df=random_oversampling(df,0)\n",
    "        elif  class_count_0 > class_count_1:\n",
    "            # oversample class_count_1\n",
    "            df=random_oversampling(df,1)\n",
    "    return df"
   ]
  },
  {
   "cell_type": "markdown",
   "id": "3659c7af",
   "metadata": {},
   "source": [
    "## Create the Data Generators\n",
    "---"
   ]
  },
  {
   "cell_type": "code",
   "execution_count": 49,
   "id": "cb3d490f",
   "metadata": {},
   "outputs": [],
   "source": [
    "def get_training_dataframes(df):\n",
    "    \"\"\"Returns the training and test dataframes\n",
    "    Splits the dataframe int a .75 and .25 training and test set respectively\"\"\"\n",
    "    # Convert the sorted column to string otherwises data generators will not work\n",
    "    df[\"Sorted\"]=df[\"Sorted\"].astype(str)\n",
    "    # Shuffle the entries in the pandas dataframe\n",
    "    shuffled_df=df.sample(frac=1,random_state=1).reset_index()\n",
    "    # Split the dataframe into a train and test set into a .75 and .25 training and test set respectively\n",
    "    # get the first 500 rows\n",
    "    traindf=shuffled_df.iloc[:int(df.shape[0]*.75),:]\n",
    "    # get the remaining rows\n",
    "    testdf=shuffled_df.iloc[int(df.shape[0]*.75):,:]\n",
    "    # Balance the traindf and testdf datasets\n",
    "    traindf=apply_random_oversampling(traindf)\n",
    "    testdf=apply_random_oversampling(testdf)\n",
    "    traindf.drop(['index'],axis=1,inplace=True)\n",
    "    testdf.drop(['index'],axis=1,inplace=True)\n",
    "    return  traindf,testdf"
   ]
  },
  {
   "cell_type": "code",
   "execution_count": 50,
   "id": "d00ddb70",
   "metadata": {},
   "outputs": [
    {
     "data": {
      "text/plain": [
       "(                           Filename Sorted\n",
       " 229  2000-05-04-15-33-17_L7_rgb.jpg      0\n",
       " 402  1991-09-25-15-05-23_L5_rgb.jpg      0\n",
       " 27   2004-07-26-15-23-39_L5_rgb.jpg      0\n",
       " 250  2011-10-27-18-40-09_L5_rgb.jpg      0\n",
       " 36   1997-10-11-15-14-36_L5_rgb.jpg      0\n",
       " ..                              ...    ...\n",
       " 515  1986-03-03-15-07-45_L5_rgb.jpg      1\n",
       " 516  1999-04-08-15-20-08_L5_rgb.jpg      1\n",
       " 517  1996-05-01-14-51-21_L5_rgb.jpg      1\n",
       " 518  1986-09-27-15-01-13_L5_rgb.jpg      1\n",
       " 520  1993-11-01-15-03-32_L5_rgb.jpg      1\n",
       " \n",
       " [794 rows x 2 columns],\n",
       "                            Filename Sorted\n",
       " 671  1991-06-05-15-03-50_L5_rgb.jpg      0\n",
       " 550  2009-05-14-18-40-00_L5_rgb.jpg      0\n",
       " 666  2013-11-10-18-47-48_L8_rgb.jpg      0\n",
       " 635  2010-05-01-18-43-04_L5_rgb.jpg      0\n",
       " 686  2001-07-26-15-30-17_L7_rgb.jpg      0\n",
       " ..                              ...    ...\n",
       " 690  1993-04-23-15-03-52_L5_rgb.jpg      1\n",
       " 692  2016-10-17-18-46-24_L8_rgb.jpg      1\n",
       " 693  1989-10-21-15-06-20_L5_rgb.jpg      1\n",
       " 694  1999-12-20-15-16-34_L5_rgb.jpg      1\n",
       " 695  1987-03-06-15-03-00_L5_rgb.jpg      1\n",
       " \n",
       " [258 rows x 2 columns])"
      ]
     },
     "execution_count": 50,
     "metadata": {},
     "output_type": "execute_result"
    }
   ],
   "source": [
    "traindf,testdf=get_training_dataframes(df)\n",
    "traindf,testdf"
   ]
  },
  {
   "cell_type": "code",
   "execution_count": 51,
   "id": "bb009de5",
   "metadata": {},
   "outputs": [
    {
     "name": "stdout",
     "output_type": "stream",
     "text": [
      "1    397\n",
      "0    397\n",
      "Name: Sorted, dtype: int64\n"
     ]
    },
    {
     "data": {
      "text/plain": [
       "<AxesSubplot:title={'center':'Count(target)'}>"
      ]
     },
     "execution_count": 51,
     "metadata": {},
     "output_type": "execute_result"
    },
    {
     "data": {
      "image/png": "[encoded data removed]",
      "text/plain": [
       "<Figure size 432x288 with 1 Axes>"
      ]
     },
     "metadata": {
      "needs_background": "light"
     },
     "output_type": "display_data"
    }
   ],
   "source": [
    "print(traindf['Sorted'].value_counts(ascending=True))\n",
    "traindf['Sorted'].value_counts().plot(kind=\"bar\",title='Count(target)',color=plt.cm.Paired(np.arange(len(traindf))))"
   ]
  },
  {
   "cell_type": "code",
   "execution_count": 52,
   "id": "2c8fec09",
   "metadata": {},
   "outputs": [
    {
     "name": "stdout",
     "output_type": "stream",
     "text": [
      "0    129\n",
      "1    129\n",
      "Name: Sorted, dtype: int64\n"
     ]
    },
    {
     "data": {
      "text/plain": [
       "<AxesSubplot:title={'center':'Count(target)'}>"
      ]
     },
     "execution_count": 52,
     "metadata": {},
     "output_type": "execute_result"
    },
    {
     "data": {
      "image/png": "[encoded data removed]",
      "text/plain": [
       "<Figure size 432x288 with 1 Axes>"
      ]
     },
     "metadata": {
      "needs_background": "light"
     },
     "output_type": "display_data"
    }
   ],
   "source": [
    "print(testdf['Sorted'].value_counts())\n",
    "testdf['Sorted'].value_counts().plot(kind=\"bar\",title='Count(target)',color=plt.cm.Paired(np.arange(len(testdf))))"
   ]
  },
  {
   "cell_type": "code",
   "execution_count": 15,
   "id": "585d9c13",
   "metadata": {},
   "outputs": [],
   "source": [
    "def get_column_names(df):\n",
    "    \"\"\" x (data) and y (labels) column names from the dataframe \"\"\"\n",
    "    x_col_name=df.columns[0]\n",
    "    y_col_name=df.columns[1]\n",
    "    return x_col_name,y_col_name"
   ]
  },
  {
   "cell_type": "markdown",
   "id": "cf669819",
   "metadata": {},
   "source": [
    "## Flow the images from the dataframe\n",
    "- resize the images \n",
    "- shuffle the images\n",
    "- divide the data into a training and validation subset\n",
    "- set a random seed"
   ]
  },
  {
   "cell_type": "code",
   "execution_count": 16,
   "id": "4b553451",
   "metadata": {},
   "outputs": [
    {
     "name": "stdout",
     "output_type": "stream",
     "text": [
      "Found 608 validated image filenames belonging to 2 classes.\n"
     ]
    }
   ],
   "source": [
    "# traindf,testdf=get_training_dataframes(df)\n",
    "x_col_name,y_col_name=get_column_names(df)\n",
    "\n",
    "train_generator=train_datagen.flow_from_dataframe(\n",
    "dataframe=traindf,\n",
    "directory=dataset_path,\n",
    "x_col=x_col_name,   # image filenames\n",
    "y_col=y_col_name,   # labels \n",
    "subset=\"training\",\n",
    "batch_size=21,\n",
    "seed=42,\n",
    "shuffle=True,\n",
    "class_mode=\"binary\",\n",
    "target_size=img_shape)\n"
   ]
  },
  {
   "cell_type": "code",
   "execution_count": 17,
   "id": "dba02518",
   "metadata": {},
   "outputs": [
    {
     "name": "stdout",
     "output_type": "stream",
     "text": [
      "Found 152 validated image filenames belonging to 2 classes.\n"
     ]
    }
   ],
   "source": [
    "valid_generator=train_datagen.flow_from_dataframe(\n",
    "dataframe=traindf,\n",
    "directory=dataset_path,\n",
    "x_col=x_col_name, \n",
    "y_col=y_col_name, \n",
    "subset=\"validation\", \n",
    "batch_size=20, \n",
    "seed=42,\n",
    "shuffle=True,\n",
    "class_mode=\"binary\",\n",
    "target_size=img_shape)"
   ]
  },
  {
   "cell_type": "markdown",
   "id": "680e874f",
   "metadata": {},
   "source": [
    "## Create the Model\n",
    "----\n",
    "Create a simple Sequential Model"
   ]
  },
  {
   "cell_type": "code",
   "execution_count": 18,
   "id": "15ff1bc6",
   "metadata": {},
   "outputs": [],
   "source": [
    "model_name=\"transfer_model_v_1_1\"\n",
    "model_path=os.getcwd()+ os.sep+\"models\"+os.sep+model_name\n",
    "model = tf.keras.models.load_model(model_path+os.sep+\"model\")"
   ]
  },
  {
   "cell_type": "code",
   "execution_count": 97,
   "id": "bb6642c0",
   "metadata": {},
   "outputs": [],
   "source": [
    "# def myprint(s):\n",
    "#     with open('modelsummary.txt','a') as f:\n",
    "#         print(s, file=f)\n",
    "\n",
    "# model.summary(print_fn=myprint)"
   ]
  },
  {
   "cell_type": "code",
   "execution_count": 19,
   "id": "f4ee93ad",
   "metadata": {},
   "outputs": [
    {
     "name": "stdout",
     "output_type": "stream",
     "text": [
      "Model: \"model_4\"\n",
      "_____________________________________________________________________________________________________________\n",
      " Layer (type)                   Output Shape         Param #     Connected to                     Trainable  \n",
      "=============================================================================================================\n",
      " input_1 (InputLayer)           [(None, 768, 768, 3  0           []                               Y          \n",
      "                                )]                                                                           \n",
      "                                                                                                             \n",
      " conv2d (Conv2D)                (None, 768, 768, 6)  78          ['input_1[0][0]']                N          \n",
      "                                                                                                             \n",
      " batch_normalization (BatchNorm  (None, 768, 768, 6)  24         ['conv2d[0][0]']                 N          \n",
      " alization)                                                                                                  \n",
      "                                                                                                             \n",
      " conv2d_2 (Conv2D)              (None, 768, 768, 6)  24          ['input_1[0][0]']                N          \n",
      "                                                                                                             \n",
      " activation (Activation)        (None, 768, 768, 6)  0           ['batch_normalization[0][0]']    N          \n",
      "                                                                                                             \n",
      " batch_normalization_1 (BatchNo  (None, 768, 768, 6)  24         ['conv2d_2[0][0]']               N          \n",
      " rmalization)                                                                                                \n",
      "                                                                                                             \n",
      " conv2d_1 (Conv2D)              (None, 768, 768, 6)  150         ['activation[0][0]']             N          \n",
      "                                                                                                             \n",
      " activation_1 (Activation)      (None, 768, 768, 6)  0           ['batch_normalization_1[0][0]']  N          \n",
      "                                                                                                             \n",
      " add (Add)                      (None, 768, 768, 6)  0           ['conv2d_1[0][0]',               N          \n",
      "                                                                  'activation_1[0][0]']                      \n",
      "                                                                                                             \n",
      " dropout (Dropout)              (None, 768, 768, 6)  0           ['add[0][0]']                    N          \n",
      "                                                                                                             \n",
      " batch_normalization_2 (BatchNo  (None, 768, 768, 6)  24         ['dropout[0][0]']                N          \n",
      " rmalization)                                                                                                \n",
      "                                                                                                             \n",
      " activation_2 (Activation)      (None, 768, 768, 6)  0           ['batch_normalization_2[0][0]']  N          \n",
      "                                                                                                             \n",
      " conv2d_3 (Conv2D)              (None, 384, 384, 12  5844        ['activation_2[0][0]']           N          \n",
      "                                )                                                                            \n",
      "                                                                                                             \n",
      " dropout_1 (Dropout)            (None, 384, 384, 12  0           ['conv2d_3[0][0]']               N          \n",
      "                                )                                                                            \n",
      "                                                                                                             \n",
      " conv2d_5 (Conv2D)              (None, 384, 384, 12  84          ['add[0][0]']                    N          \n",
      "                                )                                                                            \n",
      "                                                                                                             \n",
      " batch_normalization_3 (BatchNo  (None, 384, 384, 12  48         ['dropout_1[0][0]']              N          \n",
      " rmalization)                   )                                                                            \n",
      "                                                                                                             \n",
      " batch_normalization_4 (BatchNo  (None, 384, 384, 12  48         ['conv2d_5[0][0]']               N          \n",
      " rmalization)                   )                                                                            \n",
      "                                                                                                             \n",
      " activation_3 (Activation)      (None, 384, 384, 12  0           ['batch_normalization_3[0][0]']  N          \n",
      "                                )                                                                            \n",
      "                                                                                                             \n",
      " activation_4 (Activation)      (None, 384, 384, 12  0           ['batch_normalization_4[0][0]']  N          \n",
      "                                )                                                                            \n",
      "                                                                                                             \n",
      " conv2d_4 (Conv2D)              (None, 384, 384, 12  11676       ['activation_3[0][0]']           N          \n",
      "                                )                                                                            \n",
      "                                                                                                             \n",
      " add_1 (Add)                    (None, 384, 384, 12  0           ['activation_4[0][0]',           N          \n",
      "                                )                                 'conv2d_4[0][0]']                          \n",
      "                                                                                                             \n",
      " dropout_2 (Dropout)            (None, 384, 384, 12  0           ['add_1[0][0]']                  N          \n",
      "                                )                                                                            \n",
      "                                                                                                             \n",
      " batch_normalization_5 (BatchNo  (None, 384, 384, 12  48         ['dropout_2[0][0]']              N          \n",
      " rmalization)                   )                                                                            \n",
      "                                                                                                             \n",
      " activation_5 (Activation)      (None, 384, 384, 12  0           ['batch_normalization_5[0][0]']  N          \n",
      "                                )                                                                            \n",
      "                                                                                                             \n",
      " conv2d_6 (Conv2D)              (None, 192, 192, 24  23352       ['activation_5[0][0]']           N          \n",
      "                                )                                                                            \n",
      "                                                                                                             \n",
      " dropout_3 (Dropout)            (None, 192, 192, 24  0           ['conv2d_6[0][0]']               N          \n",
      "                                )                                                                            \n",
      "                                                                                                             \n",
      " conv2d_8 (Conv2D)              (None, 192, 192, 24  312         ['add_1[0][0]']                  N          \n",
      "                                )                                                                            \n",
      "                                                                                                             \n",
      " batch_normalization_6 (BatchNo  (None, 192, 192, 24  96         ['dropout_3[0][0]']              N          \n",
      " rmalization)                   )                                                                            \n",
      "                                                                                                             \n",
      " batch_normalization_7 (BatchNo  (None, 192, 192, 24  96         ['conv2d_8[0][0]']               N          \n",
      " rmalization)                   )                                                                            \n",
      "                                                                                                             \n",
      " activation_6 (Activation)      (None, 192, 192, 24  0           ['batch_normalization_6[0][0]']  N          \n",
      "                                )                                                                            \n",
      "                                                                                                             \n",
      " activation_7 (Activation)      (None, 192, 192, 24  0           ['batch_normalization_7[0][0]']  N          \n",
      "                                )                                                                            \n",
      "                                                                                                             \n",
      " conv2d_7 (Conv2D)              (None, 192, 192, 24  46680       ['activation_6[0][0]']           N          \n",
      "                                )                                                                            \n",
      "                                                                                                             \n",
      " add_2 (Add)                    (None, 192, 192, 24  0           ['activation_7[0][0]',           N          \n",
      "                                )                                 'conv2d_7[0][0]']                          \n",
      "                                                                                                             \n",
      " dropout_4 (Dropout)            (None, 192, 192, 24  0           ['add_2[0][0]']                  N          \n",
      "                                )                                                                            \n",
      "                                                                                                             \n",
      " batch_normalization_8 (BatchNo  (None, 192, 192, 24  96         ['dropout_4[0][0]']              N          \n",
      " rmalization)                   )                                                                            \n",
      "                                                                                                             \n",
      " activation_8 (Activation)      (None, 192, 192, 24  0           ['batch_normalization_8[0][0]']  N          \n",
      "                                )                                                                            \n",
      "                                                                                                             \n",
      " conv2d_9 (Conv2D)              (None, 96, 96, 48)   93360       ['activation_8[0][0]']           N          \n",
      "                                                                                                             \n",
      " dropout_5 (Dropout)            (None, 96, 96, 48)   0           ['conv2d_9[0][0]']               N          \n",
      "                                                                                                             \n",
      " conv2d_11 (Conv2D)             (None, 96, 96, 48)   1200        ['add_2[0][0]']                  N          \n",
      "                                                                                                             \n",
      " batch_normalization_9 (BatchNo  (None, 96, 96, 48)  192         ['dropout_5[0][0]']              N          \n",
      " rmalization)                                                                                                \n",
      "                                                                                                             \n",
      " batch_normalization_10 (BatchN  (None, 96, 96, 48)  192         ['conv2d_11[0][0]']              N          \n",
      " ormalization)                                                                                               \n",
      "                                                                                                             \n",
      " activation_9 (Activation)      (None, 96, 96, 48)   0           ['batch_normalization_9[0][0]']  N          \n",
      "                                                                                                             \n",
      " activation_10 (Activation)     (None, 96, 96, 48)   0           ['batch_normalization_10[0][0]'  N          \n",
      "                                                                 ]                                           \n",
      "                                                                                                             \n",
      " conv2d_10 (Conv2D)             (None, 96, 96, 48)   186672      ['activation_9[0][0]']           N          \n",
      "                                                                                                             \n",
      " add_3 (Add)                    (None, 96, 96, 48)   0           ['activation_10[0][0]',          N          \n",
      "                                                                  'conv2d_10[0][0]']                         \n",
      "                                                                                                             \n",
      " dropout_6 (Dropout)            (None, 96, 96, 48)   0           ['add_3[0][0]']                  N          \n",
      "                                                                                                             \n",
      " batch_normalization_11 (BatchN  (None, 96, 96, 48)  192         ['dropout_6[0][0]']              N          \n",
      " ormalization)                                                                                               \n",
      "                                                                                                             \n",
      " activation_11 (Activation)     (None, 96, 96, 48)   0           ['batch_normalization_11[0][0]'  N          \n",
      "                                                                 ]                                           \n",
      "                                                                                                             \n",
      " conv2d_12 (Conv2D)             (None, 48, 48, 96)   373344      ['activation_11[0][0]']          N          \n",
      "                                                                                                             \n",
      " dropout_7 (Dropout)            (None, 48, 48, 96)   0           ['conv2d_12[0][0]']              N          \n",
      "                                                                                                             \n",
      " conv2d_14 (Conv2D)             (None, 48, 48, 96)   4704        ['add_3[0][0]']                  N          \n",
      "                                                                                                             \n",
      " batch_normalization_12 (BatchN  (None, 48, 48, 96)  384         ['dropout_7[0][0]']              N          \n",
      " ormalization)                                                                                               \n",
      "                                                                                                             \n",
      " batch_normalization_13 (BatchN  (None, 48, 48, 96)  384         ['conv2d_14[0][0]']              N          \n",
      " ormalization)                                                                                               \n",
      "                                                                                                             \n",
      " activation_12 (Activation)     (None, 48, 48, 96)   0           ['batch_normalization_12[0][0]'  N          \n",
      "                                                                 ]                                           \n",
      "                                                                                                             \n",
      " activation_13 (Activation)     (None, 48, 48, 96)   0           ['batch_normalization_13[0][0]'  N          \n",
      "                                                                 ]                                           \n",
      "                                                                                                             \n",
      " conv2d_13 (Conv2D)             (None, 48, 48, 96)   746592      ['activation_12[0][0]']          N          \n",
      "                                                                                                             \n",
      " add_4 (Add)                    (None, 48, 48, 96)   0           ['activation_13[0][0]',          N          \n",
      "                                                                  'conv2d_13[0][0]']                         \n",
      "                                                                                                             \n",
      " global_average_pooling2d_2 (Gl  (None, 96)          0           ['add_4[0][0]']                  Y          \n",
      " obalAveragePooling2D)                                                                                       \n",
      "                                                                                                             \n",
      " dense_5 (Dense)                (None, 64)           6208        ['global_average_pooling2d_2[0]  Y          \n",
      "                                                                 [0]']                                       \n",
      "                                                                                                             \n",
      " dense_6 (Dense)                (None, 1)            65          ['dense_5[0][0]']                Y          \n",
      "                                                                                                             \n",
      "=============================================================================================================\n",
      "Total params: 1,502,193\n",
      "Trainable params: 6,273\n",
      "Non-trainable params: 1,495,920\n",
      "_____________________________________________________________________________________________________________\n"
     ]
    }
   ],
   "source": [
    "model.summary(show_trainable=True)"
   ]
  },
  {
   "cell_type": "code",
   "execution_count": 20,
   "id": "38ac3e9d",
   "metadata": {},
   "outputs": [],
   "source": [
    "log_dir = \"logs/fit/\" + datetime.datetime.now().strftime(\"%Y%m%d-%H%M%S\")\n",
    "tensorboard_callback = tf.keras.callbacks.TensorBoard(log_dir=log_dir, histogram_freq=1)"
   ]
  },
  {
   "cell_type": "code",
   "execution_count": 21,
   "id": "2a595226",
   "metadata": {},
   "outputs": [
    {
     "name": "stdout",
     "output_type": "stream",
     "text": [
      "Epoch 1/4\n",
      "28/28 [==============================] - 368s 13s/step - loss: 0.5558 - binary_accuracy: 0.7138 - val_loss: 0.4593 - val_binary_accuracy: 0.7891\n",
      "Epoch 2/4\n",
      "28/28 [==============================] - 355s 13s/step - loss: 0.5147 - binary_accuracy: 0.7632 - val_loss: 0.4827 - val_binary_accuracy: 0.7551\n",
      "Epoch 3/4\n",
      "28/28 [==============================] - 350s 12s/step - loss: 0.4908 - binary_accuracy: 0.7956 - val_loss: 0.4405 - val_binary_accuracy: 0.7959\n",
      "Epoch 4/4\n",
      "28/28 [==============================] - 387s 14s/step - loss: 0.4928 - binary_accuracy: 0.7853 - val_loss: 0.4117 - val_binary_accuracy: 0.8163\n"
     ]
    }
   ],
   "source": [
    "history=model.fit(train_generator,\n",
    "                    validation_data = train_generator,\n",
    "                    steps_per_epoch = train_generator.n//train_generator.batch_size,\n",
    "                    validation_steps = valid_generator.n//valid_generator.batch_size,\n",
    "                    epochs=4,\n",
    "                     callbacks=[tensorboard_callback])"
   ]
  },
  {
   "cell_type": "code",
   "execution_count": 22,
   "id": "648664e4",
   "metadata": {},
   "outputs": [
    {
     "data": {
      "text/plain": [
       "Reusing TensorBoard on port 6006 (pid 17468), started 0:48:49 ago. (Use '!kill 17468' to kill it.)"
      ]
     },
     "metadata": {},
     "output_type": "display_data"
    },
    {
     "data": {
      "text/html": [
       "\n",
       "      <iframe id=\"tensorboard-frame-a575849095d7b7d3\" width=\"100%\" height=\"800\" frameborder=\"0\">\n",
       "      </iframe>\n",
       "      <script>\n",
       "        (function() {\n",
       "          const frame = document.getElementById(\"tensorboard-frame-a575849095d7b7d3\");\n",
       "          const url = new URL(\"http://localhost\");\n",
       "          const port = 6006;\n",
       "          if (port) {\n",
       "            url.port = port;\n",
       "          }\n",
       "          frame.src = url;\n",
       "        })();\n",
       "      </script>\n",
       "    "
      ],
      "text/plain": [
       "<IPython.core.display.HTML object>"
      ]
     },
     "metadata": {},
     "output_type": "display_data"
    }
   ],
   "source": [
    "%tensorboard --logdir logs/fit"
   ]
  },
  {
   "cell_type": "code",
   "execution_count": 27,
   "id": "489cfacd",
   "metadata": {},
   "outputs": [
    {
     "name": "stdout",
     "output_type": "stream",
     "text": [
      "^C\n"
     ]
    }
   ],
   "source": [
    "# It won't work if you run it from here instead open the terminal and run it from there.\n",
    "# !tensorboard dev upload --logdir \\\n",
    "#     'logs/fit'"
   ]
  },
  {
   "cell_type": "markdown",
   "id": "788fbcbc",
   "metadata": {},
   "source": [
    "## Evaluate Model Performance\n",
    "---"
   ]
  },
  {
   "cell_type": "code",
   "execution_count": 28,
   "id": "6af50b21",
   "metadata": {},
   "outputs": [
    {
     "name": "stdout",
     "output_type": "stream",
     "text": [
      "8/8 [==============================] - 80s 10s/step - loss: 0.9784 - binary_accuracy: 0.5855\n",
      "[0.9784144163131714, 0.5855262875556946]\n"
     ]
    }
   ],
   "source": [
    "score = model.evaluate(valid_generator)\n",
    "print(score)"
   ]
  },
  {
   "cell_type": "code",
   "execution_count": 103,
   "id": "d7401590",
   "metadata": {},
   "outputs": [
    {
     "data": {
      "text/html": [
       "<div>\n",
       "<style scoped>\n",
       "    .dataframe tbody tr th:only-of-type {\n",
       "        vertical-align: middle;\n",
       "    }\n",
       "\n",
       "    .dataframe tbody tr th {\n",
       "        vertical-align: top;\n",
       "    }\n",
       "\n",
       "    .dataframe thead th {\n",
       "        text-align: right;\n",
       "    }\n",
       "</style>\n",
       "<table border=\"1\" class=\"dataframe\">\n",
       "  <thead>\n",
       "    <tr style=\"text-align: right;\">\n",
       "      <th></th>\n",
       "      <th>loss</th>\n",
       "      <th>binary_accuracy</th>\n",
       "      <th>val_loss</th>\n",
       "      <th>val_binary_accuracy</th>\n",
       "    </tr>\n",
       "  </thead>\n",
       "  <tbody>\n",
       "    <tr>\n",
       "      <th>0</th>\n",
       "      <td>0.498530</td>\n",
       "      <td>0.775128</td>\n",
       "      <td>0.595625</td>\n",
       "      <td>0.721088</td>\n",
       "    </tr>\n",
       "    <tr>\n",
       "      <th>1</th>\n",
       "      <td>0.467886</td>\n",
       "      <td>0.809199</td>\n",
       "      <td>0.390150</td>\n",
       "      <td>0.857143</td>\n",
       "    </tr>\n",
       "  </tbody>\n",
       "</table>\n",
       "</div>"
      ],
      "text/plain": [
       "       loss  binary_accuracy  val_loss  val_binary_accuracy\n",
       "0  0.498530         0.775128  0.595625             0.721088\n",
       "1  0.467886         0.809199  0.390150             0.857143"
      ]
     },
     "execution_count": 103,
     "metadata": {},
     "output_type": "execute_result"
    }
   ],
   "source": [
    "metrics_df = pd.DataFrame(history.history)\n",
    "metrics_df"
   ]
  },
  {
   "cell_type": "markdown",
   "id": "16fd0574",
   "metadata": {},
   "source": [
    "### Plot some graphs to evaluate the model performance"
   ]
  },
  {
   "cell_type": "code",
   "execution_count": 48,
   "id": "45a441a9",
   "metadata": {},
   "outputs": [
    {
     "data": {
      "text/plain": [
       "<AxesSubplot:>"
      ]
     },
     "execution_count": 48,
     "metadata": {},
     "output_type": "execute_result"
    },
    {
     "data": {
      "image/png": "[encoded data removed]",
      "text/plain": [
       "<Figure size 432x288 with 1 Axes>"
      ]
     },
     "metadata": {
      "needs_background": "light"
     },
     "output_type": "display_data"
    }
   ],
   "source": [
    "metrics_df[[\"loss\",\"val_loss\"]].plot()"
   ]
  },
  {
   "cell_type": "code",
   "execution_count": 50,
   "id": "48e47196",
   "metadata": {},
   "outputs": [
    {
     "data": {
      "text/plain": [
       "<AxesSubplot:>"
      ]
     },
     "execution_count": 50,
     "metadata": {},
     "output_type": "execute_result"
    },
    {
     "data": {
      "image/png": "[encoded data removed]",
      "text/plain": [
       "<Figure size 432x288 with 1 Axes>"
      ]
     },
     "metadata": {
      "needs_background": "light"
     },
     "output_type": "display_data"
    }
   ],
   "source": [
    "metrics_df[[\"binary_accuracy\",\"val_binary_accuracy\"]].plot()\n"
   ]
  },
  {
   "cell_type": "code",
   "execution_count": 29,
   "id": "68ffa1b4",
   "metadata": {},
   "outputs": [
    {
     "ename": "NameError",
     "evalue": "name 'metrics_df' is not defined",
     "output_type": "error",
     "traceback": [
      "\u001b[1;31m---------------------------------------------------------------------------\u001b[0m",
      "\u001b[1;31mNameError\u001b[0m                                 Traceback (most recent call last)",
      "\u001b[1;32m~\\AppData\\Local\\Temp\\ipykernel_24312\\1333384990.py\u001b[0m in \u001b[0;36m<module>\u001b[1;34m\u001b[0m\n\u001b[1;32m----> 1\u001b[1;33m \u001b[0mmetrics_df\u001b[0m\u001b[1;33m[\u001b[0m\u001b[1;33m[\u001b[0m\u001b[1;34m\"recall\"\u001b[0m\u001b[1;33m,\u001b[0m\u001b[1;34m\"val_recall\"\u001b[0m\u001b[1;33m]\u001b[0m\u001b[1;33m]\u001b[0m\u001b[1;33m.\u001b[0m\u001b[0mplot\u001b[0m\u001b[1;33m(\u001b[0m\u001b[1;33m)\u001b[0m\u001b[1;33m\u001b[0m\u001b[1;33m\u001b[0m\u001b[0m\n\u001b[0m",
      "\u001b[1;31mNameError\u001b[0m: name 'metrics_df' is not defined"
     ]
    }
   ],
   "source": [
    "metrics_df[[\"recall\",\"val_recall\"]].plot()"
   ]
  },
  {
   "cell_type": "code",
   "execution_count": 52,
   "id": "0a812b00",
   "metadata": {},
   "outputs": [
    {
     "data": {
      "text/plain": [
       "<AxesSubplot:>"
      ]
     },
     "execution_count": 52,
     "metadata": {},
     "output_type": "execute_result"
    },
    {
     "data": {
      "image/png": "[encoded data removed]",
      "text/plain": [
       "<Figure size 432x288 with 1 Axes>"
      ]
     },
     "metadata": {
      "needs_background": "light"
     },
     "output_type": "display_data"
    }
   ],
   "source": [
    "metrics_df[[\"binary_accuracy\",\"val_binary_accuracy\",\"recall\",\"val_recall\"]].plot()"
   ]
  },
  {
   "cell_type": "markdown",
   "id": "a34e68f7",
   "metadata": {},
   "source": [
    "## Save the Model and Training Metrics\n",
    "1. Create a folder with the name of the model the user provides to store all the data in\n",
    "2. Save the metrics dataframe as a csv\n",
    "3. Save the actual model"
   ]
  },
  {
   "cell_type": "code",
   "execution_count": 30,
   "id": "cfa54a59",
   "metadata": {},
   "outputs": [],
   "source": [
    "def save_model_data(model_name:str,model:'keras.engine.sequential.Sequential'):\n",
    "    # Create a directory to store all the model data\n",
    "    model_save_path=os.getcwd()+os.sep+\"models\"\n",
    "    if not os.path.exists(model_save_path):\n",
    "        os.mkdir(model_save_path)\n",
    "    model_save_path=os.getcwd()+os.sep+\"models\"+os.sep+model_name\n",
    "    if os.path.exists(model_save_path):\n",
    "        raise FileExistsError(f\"This folder '{model_name}' already exists: {model_save_path}.\\n Please rename your model.\")\n",
    "    else:\n",
    "        os.mkdir(model_save_path)\n",
    "    # Save the actual model\n",
    "    model.save(model_save_path+os.sep+\"model\")"
   ]
  },
  {
   "cell_type": "code",
   "execution_count": 31,
   "id": "bad6d0ae",
   "metadata": {},
   "outputs": [
    {
     "name": "stdout",
     "output_type": "stream",
     "text": [
      "INFO:tensorflow:Assets written to: c:\\1_USGS\\CoastSeg\\repos\\6_sniffer-classifer\\Sniffer-Classifier\\models\\binary_classification_model_v_1_1_6\\model\\assets\n"
     ]
    }
   ],
   "source": [
    "# Enter the name of your model\n",
    "model_name=\"binary_classification_model_v_1_1_6\"\n",
    "# This might take a few seconds\n",
    "save_model_data(model_name,model)"
   ]
  },
  {
   "cell_type": "code",
   "execution_count": null,
   "id": "bdef6ad2",
   "metadata": {},
   "outputs": [],
   "source": []
  }
 ],
 "metadata": {
  "interpreter": {
   "hash": "b602628b865f811f43fa06264a269a791e1feecb6be5cdade55e5944221b6f7a"
  },
  "kernelspec": {
   "display_name": "Python 3.7.11 ('ml_learning')",
   "language": "python",
   "name": "python3"
  },
  "language_info": {
   "codemirror_mode": {
    "name": "ipython",
    "version": 3
   },
   "file_extension": ".py",
   "mimetype": "text/x-python",
   "name": "python",
   "nbconvert_exporter": "python",
   "pygments_lexer": "ipython3",
   "version": "3.7.11"
  }
 },
 "nbformat": 4,
 "nbformat_minor": 5
}
